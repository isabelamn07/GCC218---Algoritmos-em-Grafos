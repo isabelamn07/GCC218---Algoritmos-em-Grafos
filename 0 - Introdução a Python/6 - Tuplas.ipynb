{
 "cells": [
  {
   "cell_type": "markdown",
   "metadata": {},
   "source": [
    "### Tuplas\n",
    " As tuplas são listas imutáveis,  a partir do momento que uma tupla é definida, não há como adicionar ou remover elementos "
   ]
  },
  {
   "cell_type": "code",
   "execution_count": 1,
   "metadata": {},
   "outputs": [
    {
     "name": "stdout",
     "output_type": "stream",
     "text": [
      "(0, 1, 'verdadeiro', 'falso')\n"
     ]
    }
   ],
   "source": [
    "tupla0 = (0, 1, 'verdadeiro', 'falso')\n",
    "print(tupla0)"
   ]
  },
  {
   "cell_type": "markdown",
   "metadata": {},
   "source": [
    "### Índices\n",
    "Os elemento das tuplas são acessados da mesma forma que as listas"
   ]
  },
  {
   "cell_type": "code",
   "execution_count": 2,
   "metadata": {},
   "outputs": [
    {
     "name": "stdout",
     "output_type": "stream",
     "text": [
      "Índice 0:  x\n",
      "Índice -1:  z\n"
     ]
    }
   ],
   "source": [
    "tupla1 = ('x', 'y', 'z')\n",
    "print(\"Índice 0: \", tupla1[0])\n",
    "print(\"Índice -1: \", tupla1[-1])\n"
   ]
  },
  {
   "cell_type": "markdown",
   "metadata": {},
   "source": [
    " As tuplas podem ser declaradas sem utilizar parênteses "
   ]
  },
  {
   "cell_type": "code",
   "execution_count": 3,
   "metadata": {},
   "outputs": [
    {
     "name": "stdout",
     "output_type": "stream",
     "text": [
      "(7, 13, 91)\n"
     ]
    }
   ],
   "source": [
    "tupla2 = 7, 13, 91\n",
    "print(tupla2)"
   ]
  },
  {
   "cell_type": "markdown",
   "metadata": {},
   "source": [
    "### Tamanho de uma tupla\n",
    "Como nas listas utilizamos a função _len_"
   ]
  },
  {
   "cell_type": "code",
   "execution_count": 4,
   "metadata": {},
   "outputs": [
    {
     "name": "stdout",
     "output_type": "stream",
     "text": [
      "4\n"
     ]
    }
   ],
   "source": [
    "tupla3 = 'djikstra', 'prim', 'kruskal', 'ford-fulkerson'\n",
    "print(len(tupla3))"
   ]
  },
  {
   "cell_type": "markdown",
   "metadata": {},
   "source": [
    "### Outros métodos\n",
    "1. count()\n",
    "2. index()\n",
    "\n",
    "count() conta o número de vezes que um dado elemento aparece"
   ]
  },
  {
   "cell_type": "code",
   "execution_count": 5,
   "metadata": {},
   "outputs": [
    {
     "name": "stdout",
     "output_type": "stream",
     "text": [
      "2\n"
     ]
    }
   ],
   "source": [
    "tupla4 = 1, 2, 3, 4, 5, 6, 7, 8, 3, 3, 2, 6, 7\n",
    "print(tupla4.count(2))"
   ]
  },
  {
   "cell_type": "markdown",
   "metadata": {},
   "source": [
    "index() retorna os da primeira ocorrência de um dado elemento"
   ]
  },
  {
   "cell_type": "code",
   "execution_count": 1,
   "metadata": {},
   "outputs": [
    {
     "name": "stdout",
     "output_type": "stream",
     "text": [
      "1\n"
     ]
    }
   ],
   "source": [
    "\n",
    "tupla5 = 'jose', 'maria', 'francisco', 'jose maria', 'cris', 'maria'\n",
    "print(tupla5.index('maria'))\n"
   ]
  },
  {
   "cell_type": "markdown",
   "metadata": {},
   "source": [
    "Fonte: https://docs.python.org/3.7/tutorial/datastructures.html#tuples-and-sequences"
   ]
  }
 ],
 "metadata": {
  "kernelspec": {
   "display_name": "Python 3",
   "language": "python",
   "name": "python3"
  },
  "language_info": {
   "codemirror_mode": {
    "name": "ipython",
    "version": 3
   },
   "file_extension": ".py",
   "mimetype": "text/x-python",
   "name": "python",
   "nbconvert_exporter": "python",
   "pygments_lexer": "ipython3",
   "version": "3.8.5"
  }
 },
 "nbformat": 4,
 "nbformat_minor": 4
}
