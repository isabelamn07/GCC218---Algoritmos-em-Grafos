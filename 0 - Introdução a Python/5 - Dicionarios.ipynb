{
 "cells": [
  {
   "cell_type": "markdown",
   "metadata": {},
   "source": [
    "### Dicionários\n",
    "Os dicionários utilizam a estrutura KEY -> VALUE ou CHAVE -> VALOR onde a chave é única e possui um valor atrelado ou um conjuntos de valores\n",
    "### Criando um dicionário"
   ]
  },
  {
   "cell_type": "code",
   "execution_count": 3,
   "metadata": {},
   "outputs": [],
   "source": [
    "dicionario = {}\n",
    "# Formato:\n",
    "# nome_do_dicionario = {chave0: valor0,\n",
    "#                        chave1: valor1,\n",
    "#                        chave2: valor2}"
   ]
  },
  {
   "cell_type": "code",
   "execution_count": 4,
   "metadata": {},
   "outputs": [
    {
     "name": "stdout",
     "output_type": "stream",
     "text": [
      "{1: [2, 3, 4, 8], 'one': ['two', 'three', 'four'], 4.33: 8.66}\n"
     ]
    }
   ],
   "source": [
    "\n",
    "dicionario = {1: [2, 3, 4, 8], #separados por virgulas\n",
    "              'one': ['two', 'three', 'four'],\n",
    "              4.33: 8.66}\n",
    "print(dicionario)"
   ]
  },
  {
   "cell_type": "markdown",
   "metadata": {},
   "source": [
    "Como nas listas, nos dicionários também é possível colocar diferentes tipos de dados tanto como chave, tanto com valor atriubuído."
   ]
  },
  {
   "cell_type": "markdown",
   "metadata": {},
   "source": [
    "## Manipulação"
   ]
  },
  {
   "cell_type": "markdown",
   "metadata": {},
   "source": [
    "### Índices\n",
    "Como nas listas os dicionários tem os índices indicados entre colchetes, o primeiro índice de uma posição no dicionário é a sua chave. "
   ]
  },
  {
   "cell_type": "code",
   "execution_count": 16,
   "metadata": {},
   "outputs": [
    {
     "name": "stdout",
     "output_type": "stream",
     "text": [
      "dict_keys([1, 2, 3, 4, 5])\n",
      "3\n"
     ]
    },
    {
     "ename": "KeyError",
     "evalue": "6",
     "output_type": "error",
     "traceback": [
      "\u001b[1;31m---------------------------------------------------------------------------\u001b[0m",
      "\u001b[1;31mKeyError\u001b[0m                                  Traceback (most recent call last)",
      "\u001b[1;32m<ipython-input-16-aded46d0ff4f>\u001b[0m in \u001b[0;36m<module>\u001b[1;34m\u001b[0m\n\u001b[0;32m      8\u001b[0m \u001b[0mprint\u001b[0m\u001b[1;33m(\u001b[0m\u001b[0mdicionario1\u001b[0m\u001b[1;33m[\u001b[0m\u001b[1;36m1\u001b[0m\u001b[1;33m]\u001b[0m\u001b[1;33m)\u001b[0m\u001b[1;33m\u001b[0m\u001b[1;33m\u001b[0m\u001b[0m\n\u001b[0;32m      9\u001b[0m \u001b[1;31m#se colocada uma chave que não existe no dicionário gera um erro\u001b[0m\u001b[1;33m\u001b[0m\u001b[1;33m\u001b[0m\u001b[1;33m\u001b[0m\u001b[0m\n\u001b[1;32m---> 10\u001b[1;33m \u001b[0mprint\u001b[0m\u001b[1;33m(\u001b[0m\u001b[0mdicionario1\u001b[0m\u001b[1;33m[\u001b[0m\u001b[1;36m6\u001b[0m\u001b[1;33m]\u001b[0m\u001b[1;33m)\u001b[0m\u001b[1;33m\u001b[0m\u001b[1;33m\u001b[0m\u001b[0m\n\u001b[0m",
      "\u001b[1;31mKeyError\u001b[0m: 6"
     ]
    }
   ],
   "source": [
    "dicionario1 = {1: 3, \n",
    "               2: 7, \n",
    "               3: 1,\n",
    "               4: 8,\n",
    "               5: 9}\n",
    "\n",
    "print(dicionario1.keys())\n",
    "print(dicionario1[1])\n",
    "#se colocada uma chave que não existe no dicionário gera um erro\n",
    "print(dicionario1[6])"
   ]
  },
  {
   "cell_type": "markdown",
   "metadata": {},
   "source": [
    "###  Chaves e itens \n",
    " A função **keys()** retorna uma lista com todas as chaves presentes no dicionário.\n",
    " A função **itens()** retora todos os valores relacionados às chaves no dicionário e suas respectivas chaves."
   ]
  },
  {
   "cell_type": "code",
   "execution_count": 7,
   "metadata": {},
   "outputs": [
    {
     "name": "stdout",
     "output_type": "stream",
     "text": [
      "dict_keys([1, 2, 3, 4, 5])\n",
      "dict_items([(1, 3), (2, 7), (3, 1), (4, 8), (5, (9, 6))])\n",
      "Chave:  1\n",
      "Item:  3\n",
      "Chave:  2\n",
      "Item:  7\n",
      "Chave:  3\n",
      "Item:  1\n",
      "Chave:  4\n",
      "Item:  8\n",
      "Chave:  5\n",
      "Item:  (9, 6)\n"
     ]
    }
   ],
   "source": [
    "dicionario2 = {1: 3, \n",
    "               2: 7, \n",
    "               3: 1,\n",
    "               4: 8,\n",
    "               5: (9, 6)}\n",
    "\n",
    "print(dicionario2.keys())\n",
    "print(dicionario2.items())\n",
    "\n",
    "# desempacotamento onde i repreenta as chaves e j representa os itens\n",
    "for i, j in dicionario2.items():\n",
    "    print(\"Chave: \", i) \n",
    "    print(\"Item: \", j)    "
   ]
  },
  {
   "cell_type": "markdown",
   "metadata": {},
   "source": [
    "### get()\n",
    " O método get retorna os valores dada uma chave"
   ]
  },
  {
   "cell_type": "code",
   "execution_count": 8,
   "metadata": {},
   "outputs": [
    {
     "data": {
      "text/plain": [
       "3"
      ]
     },
     "execution_count": 8,
     "metadata": {},
     "output_type": "execute_result"
    }
   ],
   "source": [
    "dicionario2.get(1)"
   ]
  },
  {
   "cell_type": "markdown",
   "metadata": {},
   "source": [
    "### len()\n",
    "Para determinar o tamanho do dicionário"
   ]
  },
  {
   "cell_type": "code",
   "execution_count": 9,
   "metadata": {},
   "outputs": [
    {
     "data": {
      "text/plain": [
       "5"
      ]
     },
     "execution_count": 9,
     "metadata": {},
     "output_type": "execute_result"
    }
   ],
   "source": [
    "len(dicionario2)"
   ]
  },
  {
   "cell_type": "markdown",
   "metadata": {},
   "source": [
    "### Modificando um dicionário\n",
    "### Removendo elementos\n",
    "### pop()\n",
    "**pop()**remove elementos em uma posição passada por parâmetro:"
   ]
  },
  {
   "cell_type": "code",
   "execution_count": 21,
   "metadata": {},
   "outputs": [
    {
     "name": "stdout",
     "output_type": "stream",
     "text": [
      "{1: 3, 2: 7, 3: 1, 5: (9, 6)}\n"
     ]
    }
   ],
   "source": [
    "dicionario2 = {1: 3, \n",
    "               2: 7, \n",
    "               3: 1,\n",
    "               4: 8,\n",
    "               5: (9, 6)}\n",
    "dicionario2.pop(4)\n",
    "print(dicionario2)"
   ]
  },
  {
   "cell_type": "markdown",
   "metadata": {},
   "source": [
    "### popitem()\n",
    "Remove o último elmento do dicionário"
   ]
  },
  {
   "cell_type": "code",
   "execution_count": 22,
   "metadata": {},
   "outputs": [
    {
     "data": {
      "text/plain": [
       "(4, 'Camilo')"
      ]
     },
     "execution_count": 22,
     "metadata": {},
     "output_type": "execute_result"
    }
   ],
   "source": [
    "# remove o ultimo item adicionado\n",
    "dicionario3 = { 1: 'Alberto',\n",
    "                2: 'Alvaro',\n",
    "                3: 'Barbara',\n",
    "                4: 'Camilo'\n",
    "   \n",
    "              }\n",
    "dicionario3.popitem()"
   ]
  },
  {
   "cell_type": "markdown",
   "metadata": {},
   "source": [
    "### del\n",
    "Podemos remover elementos a partir de sua chave"
   ]
  },
  {
   "cell_type": "code",
   "execution_count": 23,
   "metadata": {},
   "outputs": [
    {
     "name": "stdout",
     "output_type": "stream",
     "text": [
      "{2: 7}\n"
     ]
    }
   ],
   "source": [
    "del dicionario3\n",
    "dicionario4 = {1: 2,\n",
    "               2: 7}\n",
    "# deleta apenas a chave 1 e seus itens\n",
    "del dicionario4[1]\n",
    "print(dicionario4)"
   ]
  },
  {
   "cell_type": "markdown",
   "metadata": {},
   "source": [
    "### clear()\n",
    "usando o clear() o dicionario continua existindo, porém vazio"
   ]
  },
  {
   "cell_type": "code",
   "execution_count": 24,
   "metadata": {},
   "outputs": [
    {
     "name": "stdout",
     "output_type": "stream",
     "text": [
      "{}\n"
     ]
    }
   ],
   "source": [
    "dicionario5 = {1: 10,\n",
    "               2: 20,\n",
    "               3: 30 }\n",
    "dicionario5.clear()\n",
    "print(dicionario5)"
   ]
  },
  {
   "cell_type": "markdown",
   "metadata": {},
   "source": [
    "### update()\n",
    "update() insere ou modifica itens ligados a uma chave já existente, ou pode também inserir um novo elemento chave->valor. "
   ]
  },
  {
   "cell_type": "code",
   "execution_count": 6,
   "metadata": {},
   "outputs": [
    {
     "name": "stdout",
     "output_type": "stream",
     "text": [
      "{3: [3, 6, 9, 12], 4: [2, 16, 20], 5: []}\n"
     ]
    }
   ],
   "source": [
    "dicionario6 = { 3: [3, 6, 9, 12],\n",
    "                4: [4, 8, 12, 16],\n",
    "                5: [5, 10, 15, 20]\n",
    "            }\n",
    "\n",
    "dicionario6.update({4: [2, 16, 20]})\n",
    "dicionario6.update({5:[]})\n",
    "\n",
    "print(dicionario6)"
   ]
  },
  {
   "cell_type": "markdown",
   "metadata": {},
   "source": [
    "### copy()\n",
    "Assim como nas listas, apenas atribuir um lista à outra não realiza uma cópia da lista, somente faz com que haja duas variáveis apontando para mesma posição."
   ]
  },
  {
   "cell_type": "code",
   "execution_count": 11,
   "metadata": {},
   "outputs": [
    {
     "name": "stdout",
     "output_type": "stream",
     "text": [
      "{'a': ('aviao', 'abacate', 'alma'), 'b': ('bola', 'brinquedo'), 'c': 'cachorro'}\n",
      "{'a': ('aviao', 'abacate', 'alma'), 'b': ('bola', 'brinquedo'), 'c': 'cachorro', 'd': 'doces'}\n"
     ]
    }
   ],
   "source": [
    "dicionario7 = { 'a': ('aviao', 'abacate', 'alma'),\n",
    "                'b': ('bola', 'brinquedo'),\n",
    "                'c': ('cachorro')\n",
    "    \n",
    "}\n",
    "dicionario8 = dicionario7.copy()\n",
    "dicionario8.update({'d': ('doces')})\n",
    "print(dicionario7)\n",
    "print(dicionario8)"
   ]
  },
  {
   "cell_type": "markdown",
   "metadata": {},
   "source": [
    "### Dicionários aninhados\n",
    "Podemos atribuir dicionarios como valores:"
   ]
  },
  {
   "cell_type": "code",
   "execution_count": 12,
   "metadata": {},
   "outputs": [
    {
     "name": "stdout",
     "output_type": "stream",
     "text": [
      "dict_keys([1, 2, 3, 4, 5, 6, 7, 8, 9, 10])\n",
      "dict_values([{2: 4, 5: 9, 6: 8}, {1: 4, 3: 6, 4: 6, 7: 12}, {2: 6, 6: 23, 5: 11, 7: 55}, {2: 6, 5: 99, 6: 46, 7: 19}, {1: 9, 3: 11, 4: 99}, {1: 8, 3: 23, 4: 46, 10: 9}, {2: 12, 3: 55, 4: 19}, {9: 4}, {8: 4}, {6: 9}])\n",
      "chave 1: {2: 4, 5: 9, 6: 8}\n",
      "chaves 1 e 2: 4\n"
     ]
    }
   ],
   "source": [
    "lista_adj = {\n",
    "    1: {2: 4, 5: 9, 6: 8},\n",
    "    2: {1: 4, 3: 6, 4: 6, 7: 12},\n",
    "    3: {2: 6, 6: 23, 5: 11, 7: 55},\n",
    "    4: {2: 6, 5: 99, 6: 46, 7: 19},\n",
    "    5: {1: 9, 3: 11, 4: 99},\n",
    "    6: {1: 8, 3: 23, 4: 46, 10: 9},\n",
    "    7: {2: 12, 3: 55, 4: 19},\n",
    "    8: {9: 4},\n",
    "    9: {8: 4},\n",
    "    10: {6: 9}\n",
    "}\n",
    "\n",
    "print(lista_adj.keys())\n",
    "print(lista_adj.values())\n",
    "print(\"chave 1:\", lista_adj[1])\n",
    "print(\"chaves 1 e 2:\", lista_adj[1][2])\n",
    "\n"
   ]
  },
  {
   "cell_type": "markdown",
   "metadata": {},
   "source": [
    "Fonte: https://docs.python.org/3.7/tutorial/datastructures.html#dictionaries"
   ]
  }
 ],
 "metadata": {
  "kernelspec": {
   "display_name": "Python 3",
   "language": "python",
   "name": "python3"
  },
  "language_info": {
   "codemirror_mode": {
    "name": "ipython",
    "version": 3
   },
   "file_extension": ".py",
   "mimetype": "text/x-python",
   "name": "python",
   "nbconvert_exporter": "python",
   "pygments_lexer": "ipython3",
   "version": "3.6.9"
  }
 },
 "nbformat": 4,
 "nbformat_minor": 4
}
