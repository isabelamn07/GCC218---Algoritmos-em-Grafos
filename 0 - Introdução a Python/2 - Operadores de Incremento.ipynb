{
 "cells": [
  {
   "cell_type": "markdown",
   "metadata": {},
   "source": [
    "### Incremento em Python\n",
    "Em python incrementamos ou decrementamos das seguintes maneiras"
   ]
  },
  {
   "cell_type": "code",
   "execution_count": 4,
   "metadata": {},
   "outputs": [
    {
     "name": "stdout",
     "output_type": "stream",
     "text": [
      "i:  1\n",
      "i:  2\n",
      "i:  3\n",
      "j:  1\n",
      "j:  2\n",
      "j:  3\n"
     ]
    }
   ],
   "source": [
    "i = 0\n",
    "while i < 3:\n",
    "    i += 1\n",
    "    print(\"i: \", i) \n",
    "# ou    \n",
    "for j in range(3):\n",
    "    j = j + 1\n",
    "    print(\"j: \", j)\n"
   ]
  },
  {
   "cell_type": "code",
   "execution_count": 5,
   "metadata": {},
   "outputs": [
    {
     "name": "stdout",
     "output_type": "stream",
     "text": [
      "i:  2\n",
      "i:  1\n",
      "i:  0\n",
      "j:  2\n",
      "j:  1\n",
      "j:  0\n"
     ]
    }
   ],
   "source": [
    "i = 3\n",
    "while i > 0:\n",
    "    i -= 1\n",
    "    print(\"i: \", i)\n",
    "# ou\n",
    "for j in range(3, 0, -1):\n",
    "    j = j - 1\n",
    "    print(\"j: \", j)\n",
    "\n"
   ]
  },
  {
   "cell_type": "markdown",
   "metadata": {},
   "source": [
    " Em python não se utiliza os operadores de pré e pós incremento **--** e **++**."
   ]
  }
 ],
 "metadata": {
  "kernelspec": {
   "display_name": "Python 3",
   "language": "python",
   "name": "python3"
  },
  "language_info": {
   "codemirror_mode": {
    "name": "ipython",
    "version": 3
   },
   "file_extension": ".py",
   "mimetype": "text/x-python",
   "name": "python",
   "nbconvert_exporter": "python",
   "pygments_lexer": "ipython3",
   "version": "3.6.9"
  }
 },
 "nbformat": 4,
 "nbformat_minor": 4
}
