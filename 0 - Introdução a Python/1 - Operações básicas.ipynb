{
 "cells": [
  {
   "cell_type": "markdown",
   "metadata": {},
   "source": [
    "## If, Else, Else if(Elif)\n",
    "Expressões condicionais como **if** e **else** em python tem algumas particularidades, não é necessário colocar as cláusulas com as condições entre parênteses, isso é opcional. Para utilizar a cláusula **else if** utiliza-se a palavra reservada **elif**: "
   ]
  },
  {
   "cell_type": "markdown",
   "metadata": {},
   "source": [
    "### If, Else"
   ]
  },
  {
   "cell_type": "code",
   "execution_count": 1,
   "metadata": {},
   "outputs": [
    {
     "name": "stdout",
     "output_type": "stream",
     "text": [
      "Nome Ryan  Idade 33\n"
     ]
    }
   ],
   "source": [
    "##Primeiro Exemplo\n",
    "nome = 'Ryan '\n",
    "idade = 33\n",
    "if nome == 'Ryan ' and idade == 33: #Não é necessário usar parênteses\n",
    "    print('Nome', nome, \"Idade\", idade)\n",
    "else:\n",
    "    print(nome, idade)"
   ]
  },
  {
   "cell_type": "markdown",
   "metadata": {},
   "source": [
    "### Elif"
   ]
  },
  {
   "cell_type": "code",
   "execution_count": 4,
   "metadata": {},
   "outputs": [
    {
     "name": "stdout",
     "output_type": "stream",
     "text": [
      "Flag:  True\n"
     ]
    }
   ],
   "source": [
    "flag = True\n",
    "\n",
    "if flag == True:\n",
    "    print(\"Flag: \", flag)\n",
    "elif flag == false:\n",
    "    print(\"Flag\", not(flag))"
   ]
  },
  {
   "cell_type": "code",
   "execution_count": 12,
   "metadata": {},
   "outputs": [
    {
     "name": "stdout",
     "output_type": "stream",
     "text": [
      "True\n"
     ]
    }
   ],
   "source": [
    "#Segundo exemplo\n",
    "idade1 = 0\n",
    "idade2 = 18\n",
    "idade3 = 21\n",
    "faixa_etaria = 18\n",
    "if faixa_etaria >= idade2:\n",
    "    pode_entrar = True\n",
    "    print(pode_entrar)\n",
    "elif faixa_etaria > idade2 and faixa_etaria < idade3:\n",
    "    pode_entrar = False\n",
    "    print(pode_entrar)"
   ]
  },
  {
   "cell_type": "markdown",
   "metadata": {},
   "source": [
    "## For, While"
   ]
  },
  {
   "cell_type": "markdown",
   "metadata": {},
   "source": [
    "### Laço For\n",
    "O laço **for** em python, pode ser utilizado para iterar valores em um intervalo definido**(range)** ou a iteração de elementos dentro de alguma estrutura **(for each)**."
   ]
  },
  {
   "cell_type": "code",
   "execution_count": 1,
   "metadata": {},
   "outputs": [
    {
     "name": "stdout",
     "output_type": "stream",
     "text": [
      "i:  0\n",
      "i:  1\n",
      "i:  2\n",
      "i:  3\n",
      "i:  4\n",
      "i:  5\n",
      "i:  6\n",
      "i:  7\n",
      "i:  8\n",
      "i:  9\n",
      "Valor de J decrescente\n",
      "j:  6\n",
      "j:  5\n",
      "j:  4\n",
      "j:  3\n",
      "j:  2\n",
      "j:  1\n",
      "j:  0\n",
      "Valor de X iterando de 3 em 3\n",
      "x:  0\n",
      "x:  3\n",
      "x:  6\n",
      "x:  9\n"
     ]
    }
   ],
   "source": [
    "## FOR\n",
    "# A funcao range pode possuir um parametro que representa a condicao de parada da funcao for\n",
    "for i in range(10): #range inclui todos os numeros de 0 a n, sem incluir n.\n",
    "    print(\"i: \", i)\n",
    "# Ou a funcao range pode possuir tres parametros: (start, stop, step)\n",
    "print('Valor de J decrescente')\n",
    "for j in range(6, -1, -1): #Iterar de 6 a -1\n",
    "    print(\"j: \", j)    \n",
    "    \n",
    "print('Valor de X iterando de 3 em 3')\n",
    "for x in range(0, 12, 3): # Iterar de 0 a 12 de 3 em 3\n",
    "    print (\"x: \", x)\n",
    "    "
   ]
  },
  {
   "cell_type": "markdown",
   "metadata": {},
   "source": [
    "### For each"
   ]
  },
  {
   "cell_type": "code",
   "execution_count": 5,
   "metadata": {},
   "outputs": [
    {
     "name": "stdout",
     "output_type": "stream",
     "text": [
      "1\n",
      "dois\n",
      "4\n",
      "cinco\n",
      "6.5892\n",
      "True\n",
      "eight\n",
      "9\n",
      "0.0\n"
     ]
    }
   ],
   "source": [
    "lista = [1, \"dois\", 4, \"cinco\", 6.5892, True, \"eight\", 9, 0.00]\n",
    "for contagem in lista:\n",
    "    print (contagem)"
   ]
  },
  {
   "cell_type": "code",
   "execution_count": 1,
   "metadata": {},
   "outputs": [
    {
     "name": "stdout",
     "output_type": "stream",
     "text": [
      "ex 1\n",
      "ex 2\n",
      "{0: 'ex 3', 1: 'ex 4'}\n"
     ]
    }
   ],
   "source": [
    "dicionario = {0: \"ex 1\",\n",
    "              1: \"ex 2\",\n",
    "              2: {0: \"ex 3\", 1: \"ex 4\"}}\n",
    "\n",
    "for i,j in dicionario.items(): #desempacotamento\n",
    "    print(j)"
   ]
  },
  {
   "cell_type": "markdown",
   "metadata": {},
   "source": [
    "### While"
   ]
  },
  {
   "cell_type": "code",
   "execution_count": 2,
   "metadata": {},
   "outputs": [
    {
     "name": "stdout",
     "output_type": "stream",
     "text": [
      "i:  0\n",
      "i:  1\n",
      "i:  2\n",
      "i:  3\n",
      "i:  4\n",
      "i:  5\n",
      "i:  6\n",
      "i:  7\n",
      "i:  8\n",
      "i:  9\n"
     ]
    }
   ],
   "source": [
    "### WHILE\n",
    "i = 0\n",
    "while i < 10:\n",
    "    print (\"i: \", i)\n",
    "    i += 1"
   ]
  },
  {
   "cell_type": "markdown",
   "metadata": {},
   "source": [
    "## Or, And, Not, In\n",
    "Em C, C++ ou Java por exemplo e, e ou são escritos da seguinte forma:<br>\n",
    "* ou - **||** \n",
    "* e  - **&&**    \n",
    "\n",
    "Em Python:\n",
    "* ou - **or** \n",
    "* e  - **and**"
   ]
  },
  {
   "cell_type": "markdown",
   "metadata": {},
   "source": [
    "Python utiliza os comandos **not**  ao invés de **!** e também utiliza **in** para verificar pertencimento. \n",
    "    "
   ]
  },
  {
   "cell_type": "code",
   "execution_count": 1,
   "metadata": {},
   "outputs": [
    {
     "name": "stdout",
     "output_type": "stream",
     "text": [
      "True\n"
     ]
    }
   ],
   "source": [
    "teste = False\n",
    "if not teste:\n",
    "    print('True')\n",
    "else: \n",
    "    print('False')\n",
    "    \n"
   ]
  },
  {
   "cell_type": "code",
   "execution_count": 2,
   "metadata": {},
   "outputs": [
    {
     "name": "stdout",
     "output_type": "stream",
     "text": [
      "15 nao esta na lista\n"
     ]
    }
   ],
   "source": [
    "lista = [3, 6, 9, 12]\n",
    "if 15 in lista:\n",
    "    print(\"O numero 15 esta na lista\")\n",
    "else:\n",
    "    print(\"15 nao esta na lista\")"
   ]
  },
  {
   "cell_type": "markdown",
   "metadata": {},
   "source": [
    "Outros símbolos básicos:"
   ]
  },
  {
   "cell_type": "markdown",
   "metadata": {},
   "source": [
    "* &lt; menor\n",
    "* &lt;= menor ou igual a\n",
    "* &gt; maior\n",
    "* &gt;= maior ou igual a\n",
    "* == igual\n",
    "* != diferente\n",
    "* **is** identidade do objeto\n",
    "* **is not** negação"
   ]
  }
 ],
 "metadata": {
  "kernelspec": {
   "display_name": "Python 3",
   "language": "python",
   "name": "python3"
  },
  "language_info": {
   "codemirror_mode": {
    "name": "ipython",
    "version": 3
   },
   "file_extension": ".py",
   "mimetype": "text/x-python",
   "name": "python",
   "nbconvert_exporter": "python",
   "pygments_lexer": "ipython3",
   "version": "3.8.5"
  }
 },
 "nbformat": 4,
 "nbformat_minor": 4
}
