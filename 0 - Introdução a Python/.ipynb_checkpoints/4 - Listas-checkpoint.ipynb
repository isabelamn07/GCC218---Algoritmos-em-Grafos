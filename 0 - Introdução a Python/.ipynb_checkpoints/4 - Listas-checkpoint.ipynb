{
 "cells": [
  {
   "cell_type": "markdown",
   "metadata": {},
   "source": [
    "## Introdução à listas\n",
    " As listas são muito importantes em Python, elas são nativas da linguagem e possuem diversas funções e funcionalidades que facilitam a manipulação de estrutura de dados. Listas em python podem ser heterogêneas ou seja, podem possuir vários tipos diferentes de dados."
   ]
  },
  {
   "cell_type": "markdown",
   "metadata": {},
   "source": [
    "### Criação de listas"
   ]
  },
  {
   "cell_type": "code",
   "execution_count": 18,
   "metadata": {},
   "outputs": [],
   "source": [
    "lista = []"
   ]
  },
  {
   "cell_type": "markdown",
   "metadata": {},
   "source": [
    "### Adicionar elementos\n",
    " As funções, **apend()**, **extend()** e **insert()** são usadas para inserir elementos em uma lista\n",
    "### append()"
   ]
  },
  {
   "cell_type": "markdown",
   "metadata": {},
   "source": [
    "**append()** adiciona um elemento ao final da lista"
   ]
  },
  {
   "cell_type": "code",
   "execution_count": 19,
   "metadata": {},
   "outputs": [
    {
     "name": "stdout",
     "output_type": "stream",
     "text": [
      "[3, 'mosqueteiros', 1997, False]\n"
     ]
    }
   ],
   "source": [
    "lista0 = []\n",
    "# Adicionando elementos com append\n",
    "# O append sempre adiciona elementos ao final da lista\n",
    "lista0.append(3)\n",
    "lista0.append(\"mosqueteiros\")\n",
    "lista0.append(1997)\n",
    "lista0.append(False)\n",
    "print(lista0)"
   ]
  },
  {
   "cell_type": "markdown",
   "metadata": {},
   "source": [
    "### extend()"
   ]
  },
  {
   "cell_type": "markdown",
   "metadata": {},
   "source": [
    "**extend()** aceita apenas um argumento, sesse argumento precisa ser um tipo de dado iterável. A função extend itera os elementos passados por parâmetro e os adiciona ao final da lista."
   ]
  },
  {
   "cell_type": "code",
   "execution_count": 20,
   "metadata": {},
   "outputs": [
    {
     "name": "stdout",
     "output_type": "stream",
     "text": [
      "['h', 'e', 'l', 'l', 'o', ' ', 'd', 'a', 'r', 'k', 'n', 'e', 's', 's', ' ', 'm', 'y', ' ', 'o', 'l', 'd', ' ', 'f', 'r', 'i', 'e', 'n', 'd', '.']\n"
     ]
    }
   ],
   "source": [
    "lista_hello = ['h', 'e', 'l', 'l', 'o']\n",
    "lista_hello.extend(' darkness my old friend.')\n",
    "print(lista_hello)"
   ]
  },
  {
   "cell_type": "markdown",
   "metadata": {},
   "source": [
    "### insert()\n",
    "Para adiconar algum elemento em uma posição específica, utiliza o **insert(posição, elemento a se inserir)**"
   ]
  },
  {
   "cell_type": "code",
   "execution_count": 1,
   "metadata": {},
   "outputs": [
    {
     "name": "stdout",
     "output_type": "stream",
     "text": [
      "Lista, antes da inserção do 2 na posição 1:  [1, 3, 4, 5]\n",
      "Lista apos inserção : [1, 2, 3, 4, 5]\n"
     ]
    }
   ],
   "source": [
    "lista = [1, 3, 4, 5]\n",
    "print(\"Lista, antes da inserção do 2 na posição 1: \", lista)\n",
    "lista.insert(1, 2)\n",
    "print(\"Lista apos inserção :\", lista)"
   ]
  },
  {
   "cell_type": "markdown",
   "metadata": {},
   "source": [
    "### Índices\n",
    "O índice representa a posição dos elementos de uma lista, eles vão de **0** a **n-1**, ou de **-n** a **-1**( -1 representa o último elemento da lista).\n"
   ]
  },
  {
   "cell_type": "code",
   "execution_count": 22,
   "metadata": {},
   "outputs": [
    {
     "name": "stdout",
     "output_type": "stream",
     "text": [
      "Ceará\n",
      "Bahia\n",
      "Ceará\n"
     ]
    }
   ],
   "source": [
    "lista1 = ['Alagoas', 'Sergipe', 'Bahia', 'Ceará']\n",
    "print(lista1[3]) # O índice do elemento da lista é indicado entre colchetes\n",
    "print(lista1[-2]) # Índices negativos representam os elementos a partir do fim da lista para o ínicio\n",
    "print(lista1[-1]) # O último elemento da lista pode ser representado pelo índice -1"
   ]
  },
  {
   "cell_type": "markdown",
   "metadata": {},
   "source": [
    "### Particionando listas(slicing)\n",
    "Utilizamos **:**(dois pontos), para representar um intervalo de índices como a seguir: "
   ]
  },
  {
   "cell_type": "code",
   "execution_count": 23,
   "metadata": {},
   "outputs": [
    {
     "name": "stdout",
     "output_type": "stream",
     "text": [
      "['o', 'g', 'r']\n",
      "['p', 'r', 'o', 'g', 'r', 'a']\n",
      "['a', 'm', 'm', 'i', 'n', 'g']\n",
      "['p', 'r', 'o', 'g', 'r', 'a', 'm', 'm', 'i', 'n', 'g']\n",
      "['p', 'r']\n"
     ]
    }
   ],
   "source": [
    "minha_lista = ['p', 'r', 'o', 'g', 'r', 'a', 'm', 'm', 'i', 'n', 'g']\n",
    "\n",
    "# imprimir valores entre 2 e 5\n",
    "print(minha_lista[2:5])\n",
    "\n",
    "# elementos que começam na posicao 4\n",
    "print(minha_lista[:-5])\n",
    "\n",
    "# elementos a partir da posicao 5\n",
    "print(minha_lista[5:])\n",
    "\n",
    "# todos elementos, do comeco ao fim\n",
    "print(minha_lista[:])\n",
    "\n",
    "# elementos que comecam na posicao 0 e terminam na posição anterior a 2\n",
    "print(minha_lista[:2])\n"
   ]
  },
  {
   "cell_type": "markdown",
   "metadata": {},
   "source": [
    "### Procurar um elemento na lista\n",
    " Para encontrar algum elemento que esteja em uma lista, podemos utilizar o **in**(que indica pertencimento) da seguinte forma:"
   ]
  },
  {
   "cell_type": "code",
   "execution_count": 24,
   "metadata": {},
   "outputs": [
    {
     "name": "stdout",
     "output_type": "stream",
     "text": [
      "True\n",
      "3.14 esta na lista, na posicao:  0\n"
     ]
    }
   ],
   "source": [
    "lista2 = [3.14, 3.24, 3.56, 3.789]\n",
    "# Se um elemento x estiver em um lista y\n",
    "if 3.14 in lista2:\n",
    "    print('True')\n",
    "    print('3.14 esta na lista, na posicao: ', lista2.index(3.14))\n",
    "else:\n",
    "    print('False')"
   ]
  },
  {
   "cell_type": "markdown",
   "metadata": {},
   "source": [
    "### Iterando listas"
   ]
  },
  {
   "cell_type": "markdown",
   "metadata": {},
   "source": [
    "### len()"
   ]
  },
  {
   "cell_type": "markdown",
   "metadata": {},
   "source": [
    "Para iterar um lista de tamanho indefinido utlizamos **len()**. **len()** retorna um número inteiro que representa o tamanho da lista."
   ]
  },
  {
   "cell_type": "markdown",
   "metadata": {},
   "source": [
    "### range()"
   ]
  },
  {
   "cell_type": "markdown",
   "metadata": {},
   "source": [
    "Utilizados range() para iterar através das posições da lista, **range(len(lista))** itera a partir de 0 até **n**."
   ]
  },
  {
   "cell_type": "code",
   "execution_count": 25,
   "metadata": {},
   "outputs": [
    {
     "name": "stdout",
     "output_type": "stream",
     "text": [
      "Albania\n",
      "Argelia\n",
      "Armenia\n",
      "Azerbaijao\n"
     ]
    }
   ],
   "source": [
    "lista_paises = ['Albania', 'Argelia', 'Armenia', 'Azerbaijao']\n",
    "for i in range(len(lista_paises)): # iteracao por posicoes de 0 a n\n",
    "    print(lista_paises[i])"
   ]
  },
  {
   "cell_type": "code",
   "execution_count": 2,
   "metadata": {},
   "outputs": [
    {
     "name": "stdout",
     "output_type": "stream",
     "text": [
      "Pais:  Albania\n",
      "Pais:  Argelia\n",
      "Pais:  Armenia\n",
      "Pais:  Azerbaijao\n"
     ]
    }
   ],
   "source": [
    "# for each\n",
    "lista_paises = ['Albania', 'Argelia', 'Armenia', 'Azerbaijao']\n",
    "for pais in lista_paises:# iteracao por elementos\n",
    "    print(\"Pais: \", pais)"
   ]
  },
  {
   "cell_type": "markdown",
   "metadata": {},
   "source": [
    "### Listas aninhadas\n",
    "Podemos inserir diversos tipos de dados e objetos em uma lista, inclusive outras listas, dessa forma podemos fazer também matrizes"
   ]
  },
  {
   "cell_type": "code",
   "execution_count": 27,
   "metadata": {},
   "outputs": [
    {
     "name": "stdout",
     "output_type": "stream",
     "text": [
      "8\n",
      "11\n"
     ]
    }
   ],
   "source": [
    "lista_aninhada = [0, [2, 4, 6, 8, 10], 1, [1, 3, 5, 7,(9, 11), [4,5]]]\n",
    "# Listas pode conter tuplas, outras listas, sets.\n",
    "print(lista_aninhada[1][3])\n",
    "print(lista_aninhada[3][4][1])\n",
    "# Cada camada sera representada por um indice [] - sempre iniciando de 0"
   ]
  },
  {
   "cell_type": "code",
   "execution_count": 28,
   "metadata": {},
   "outputs": [
    {
     "name": "stdout",
     "output_type": "stream",
     "text": [
      "1\n"
     ]
    }
   ],
   "source": [
    "matriz = [[0, 1, 0], [1, 0, 0], [0, 0, 0]]\n",
    "print(matriz[0][1])"
   ]
  },
  {
   "cell_type": "markdown",
   "metadata": {},
   "source": [
    "### Buscar índice de um elemento\n",
    "### index()\n"
   ]
  },
  {
   "cell_type": "code",
   "execution_count": 29,
   "metadata": {},
   "outputs": [
    {
     "name": "stdout",
     "output_type": "stream",
     "text": [
      "1\n"
     ]
    }
   ],
   "source": [
    "lista3 = [\"Nome\", \"Rua\", \"Endereco\", \"Telefone\"]\n",
    "# Procura o índice através de um elemento presente na lista\n",
    "print(lista3.index(\"Rua\"))"
   ]
  },
  {
   "cell_type": "markdown",
   "metadata": {},
   "source": [
    "### Remover elementos\n"
   ]
  },
  {
   "cell_type": "markdown",
   "metadata": {},
   "source": [
    "### remove() e pop()\n",
    "remove() remove um elemento presente na lista e para realizar essa remoção recebe como parâmetro o elemento a ser removido\n",
    "\n",
    "pop() sem parâmetro, remove o último elemento da lista, mas também pode remover um elemento em uma posição passada como parâmetro."
   ]
  },
  {
   "cell_type": "code",
   "execution_count": 4,
   "metadata": {},
   "outputs": [
    {
     "name": "stdout",
     "output_type": "stream",
     "text": [
      "Lista antes da remoção:  [1, 2, 3, 4, 5, 6, 7]\n",
      "Lista após remoção:  [1, 3, 4, 5, 6, 7]\n"
     ]
    }
   ],
   "source": [
    "lista4 = [1, 2, 3, 4, 5, 6, 7]\n",
    "print(\"Lista antes da remocao: \", lista4)\n",
    "lista4.remove(2) # Remove um elemento específico existente na lista\n",
    "print(\"Lista após remocao: \", lista4)"
   ]
  },
  {
   "cell_type": "code",
   "execution_count": 6,
   "metadata": {},
   "outputs": [
    {
     "name": "stdout",
     "output_type": "stream",
     "text": [
      "Lista antes da remocao:  [6, 7, 8, 4, 3, 5, 7, 8]\n",
      "Lista utilizando pop() sem parametro:  [6, 7, 8, 4, 3, 5, 7]\n",
      "Lista apos remocao do elemento na terceira posicao:  [6, 7, 8, 3, 5, 7]\n"
     ]
    }
   ],
   "source": [
    "lista4_1 = [6, 7, 8, 4, 3, 5, 7, 8]\n",
    "print(\"Lista antes da remocao: \", lista4_1)\n",
    "lista4_1.pop() #remove o ultimo elemento da lista\n",
    "print(\"Lista utilizando pop() sem parametro: \", lista4_1)\n",
    "lista4_1.pop(3) # remove elementos pelo indice\n",
    "print(\"Lista apos remocao do elemento na terceira posicao: \", lista4_1)"
   ]
  },
  {
   "cell_type": "markdown",
   "metadata": {},
   "source": [
    "### Deletar elementos\n",
    "### del\n",
    "Podemos utilizar o del para remover elemento da lista, ou até para deletar toda a lista"
   ]
  },
  {
   "cell_type": "code",
   "execution_count": 7,
   "metadata": {},
   "outputs": [
    {
     "name": "stdout",
     "output_type": "stream",
     "text": [
      "['pao', 'leite', 'cafe']\n"
     ]
    }
   ],
   "source": [
    "lista5 = ['pao', 'acucar', 'leite', 'cafe']\n",
    "del lista5[1]\n",
    "print(lista5)"
   ]
  },
  {
   "cell_type": "markdown",
   "metadata": {},
   "source": [
    "###  Deletar Lista "
   ]
  },
  {
   "cell_type": "code",
   "execution_count": 9,
   "metadata": {},
   "outputs": [
    {
     "ename": "NameError",
     "evalue": "name 'lista4' is not defined",
     "output_type": "error",
     "traceback": [
      "\u001b[1;31m---------------------------------------------------------------------------\u001b[0m",
      "\u001b[1;31mNameError\u001b[0m                                 Traceback (most recent call last)",
      "\u001b[1;32m<ipython-input-9-1a167047211d>\u001b[0m in \u001b[0;36m<module>\u001b[1;34m\u001b[0m\n\u001b[0;32m      1\u001b[0m \u001b[0mlista4\u001b[0m \u001b[1;33m=\u001b[0m \u001b[1;33m[\u001b[0m\u001b[1;36m12\u001b[0m\u001b[1;33m,\u001b[0m \u001b[1;36m24\u001b[0m\u001b[1;33m,\u001b[0m \u001b[1;36m36\u001b[0m\u001b[1;33m,\u001b[0m \u001b[1;36m48\u001b[0m\u001b[1;33m]\u001b[0m\u001b[1;33m\u001b[0m\u001b[1;33m\u001b[0m\u001b[0m\n\u001b[0;32m      2\u001b[0m \u001b[1;32mdel\u001b[0m \u001b[0mlista4\u001b[0m\u001b[1;33m\u001b[0m\u001b[1;33m\u001b[0m\u001b[0m\n\u001b[1;32m----> 3\u001b[1;33m \u001b[0mprint\u001b[0m\u001b[1;33m(\u001b[0m\u001b[0mlista4\u001b[0m\u001b[1;33m)\u001b[0m\u001b[1;33m\u001b[0m\u001b[1;33m\u001b[0m\u001b[0m\n\u001b[0m",
      "\u001b[1;31mNameError\u001b[0m: name 'lista4' is not defined"
     ]
    }
   ],
   "source": [
    "lista4 = [12, 24, 36, 48]\n",
    "del lista4"
   ]
  },
  {
   "cell_type": "markdown",
   "metadata": {},
   "source": [
    "###  Tamanho da lista \n",
    "### len()"
   ]
  },
  {
   "cell_type": "code",
   "execution_count": 34,
   "metadata": {},
   "outputs": [
    {
     "name": "stdout",
     "output_type": "stream",
     "text": [
      "3\n"
     ]
    }
   ],
   "source": [
    "lista_alunos = [\"Alvaro\", \"Cristina\", \"Regina\"]\n",
    "print(len(lista_alunos)) # len retorna o tamanho da lista"
   ]
  },
  {
   "cell_type": "markdown",
   "metadata": {},
   "source": [
    "### Operações em listas\n"
   ]
  },
  {
   "cell_type": "markdown",
   "metadata": {},
   "source": [
    "### Concatenar listas com o operador +"
   ]
  },
  {
   "cell_type": "code",
   "execution_count": 35,
   "metadata": {},
   "outputs": [
    {
     "name": "stdout",
     "output_type": "stream",
     "text": [
      "['e', '8', 'rb', '7', 7.8, True]\n"
     ]
    }
   ],
   "source": [
    "\n",
    "lista_a = ['e', '8', 'r' 'b']\n",
    "lista_b = ['7', 7.8, True]\n",
    "print(lista_a + lista_b)"
   ]
  },
  {
   "cell_type": "markdown",
   "metadata": {},
   "source": [
    "### Copiar listas"
   ]
  },
  {
   "cell_type": "markdown",
   "metadata": {},
   "source": [
    "Listas não são copiadas por atribuição (lista = lista1), utilizando atribuição só fazemos duas listas apontarem para a mesma posição de memória."
   ]
  },
  {
   "cell_type": "code",
   "execution_count": 36,
   "metadata": {},
   "outputs": [
    {
     "name": "stdout",
     "output_type": "stream",
     "text": [
      "['arroz', 'azeite', 'sabonete']\n",
      "['arroz', 'azeite', 'sabonete']\n",
      "\n",
      " ['macarrao', 'arroz', 'azeite', 'leite', 'sabonete']\n",
      "['macarrao', 'arroz', 'azeite', 'leite', 'sabonete']\n"
     ]
    }
   ],
   "source": [
    "# copiar listas\n",
    "lista_compras = ['arroz', 'azeite', 'sabonete']\n",
    "lista_compras2 = lista_compras # as listas apontam para a mesma posição na memória.\n",
    "print(lista_compras2)\n",
    "print(lista_compras)\n",
    "lista_compras2.insert(0, 'macarrao') # ambas listas são modificadas\n",
    "lista_compras.insert(3, 'leite')\n",
    "print(\"\\n\",lista_compras) \n",
    "print(lista_compras2)"
   ]
  },
  {
   "cell_type": "markdown",
   "metadata": {},
   "source": [
    "Para copiar listas:"
   ]
  },
  {
   "cell_type": "code",
   "execution_count": 13,
   "metadata": {},
   "outputs": [
    {
     "name": "stdout",
     "output_type": "stream",
     "text": [
      "['Bush', 'JK', 'Cristina Kirchner'] ['Bush', 'JK', 'Cristina Kirchner', 'Collor']\n",
      "['Clube da luta', 'Sin City', 'Star Wars', 'Cidade de Deus'] ['Clube da luta', 'Sin City', 'Star Wars', 'Cidade de Deus']\n",
      "['Clube da luta', 'Sin City', 'Star Wars', 'Cidade de Deus']\n"
     ]
    }
   ],
   "source": [
    "lista_presidentes = ['Bush', 'JK', 'Cristina Kirchner']\n",
    "lista_presidentes2 = []\n",
    "lista_presidentes2 += lista_presidentes[:]\n",
    "lista_presidentes2.append('Collor')\n",
    "print(lista_presidentes, lista_presidentes2)\n",
    "\n",
    "lista_filmes = ['Clube da luta', 'Sin City', 'Star Wars', 'Cidade de Deus']\n",
    "lista_filmes2 = lista_filmes[:]\n",
    "print(lista_filmes, lista_filmes2)\n",
    "\n",
    "lista_filmes3 = []\n",
    "lista_filmes3 = lista_filmes.copy()\n",
    "print(lista_filmes3)"
   ]
  },
  {
   "cell_type": "markdown",
   "metadata": {},
   "source": [
    "### Ordenado uma lista\n",
    "### sort()\n",
    "Podemos definir o tipo de ordenação(crescente ou decrescente) utilizando o parâmetro reverse = True."
   ]
  },
  {
   "cell_type": "code",
   "execution_count": 16,
   "metadata": {},
   "outputs": [
    {
     "name": "stdout",
     "output_type": "stream",
     "text": [
      "Lista em ordem crescente [-67, 0, 1, 1, 2, 3, 3, 6, 7, 7, 22, 65]\n",
      "Lista em ordem decrescente:  [65, 22, 7, 7, 6, 3, 3, 2, 1, 1, 0, -67]\n"
     ]
    }
   ],
   "source": [
    "lista_desordenada = [ 6, 7, 3, 7, 1, 0, 65, 1, -67, 3, 22, 2]\n",
    "lista_desordenada.sort()\n",
    "print(\"Lista em ordem crescente\", lista_desordenada)\n",
    "\n",
    "lista_desordenada.sort(reverse = True)\n",
    "print(\"Lista em ordem decrescente: \", lista_desordenada)"
   ]
  },
  {
   "cell_type": "markdown",
   "metadata": {},
   "source": [
    "### sorted()\n",
    "Enquanto sort() modifica a ordenação dos elementos, sorted() não modifica a lista:"
   ]
  },
  {
   "cell_type": "code",
   "execution_count": 18,
   "metadata": {},
   "outputs": [
    {
     "name": "stdout",
     "output_type": "stream",
     "text": [
      "[-67, 0, 1, 1, 2, 3, 3, 6, 7, 7, 22, 65]\n",
      "[6, 7, 3, 7, 1, 0, 65, 1, -67, 3, 22, 2]\n"
     ]
    }
   ],
   "source": [
    "lista_desordenada2 = [ 6, 7, 3, 7, 1, 0, 65, 1, -67, 3, 22, 2]\n",
    "print(sorted(lista_desordenada2))\n",
    "sorted(lista_desordenada2)\n",
    "print(lista_desordenada2)"
   ]
  },
  {
   "cell_type": "markdown",
   "metadata": {},
   "source": [
    "###  Criando listas usando for"
   ]
  },
  {
   "cell_type": "code",
   "execution_count": 43,
   "metadata": {},
   "outputs": [
    {
     "name": "stdout",
     "output_type": "stream",
     "text": [
      "[1, 2, 4, 8, 16, 32, 64, 128, 256, 512]\n"
     ]
    }
   ],
   "source": [
    "pow2 = [2 ** x for x in range(10)]\n",
    "print(pow2)\n",
    "\n",
    "# equivalente a:\n",
    "# pow2 = []\n",
    "# for x in range(10):\n",
    "#   pow2.append(2 ** x)\n"
   ]
  },
  {
   "cell_type": "markdown",
   "metadata": {},
   "source": [
    "## Fontes: \n",
    "[https://docs.python.org/pt-br/3.7/tutorial/datastructures.html](https://docs.python.org/pt-br/3.7/tutorial/datastructures.html)\n",
    "\n",
    "[https://docs.python.org/pt-br/3.7/tutorial/datastructures.html](https://www.programiz.com/python-programming/methods/list/sort)"
   ]
  },
  {
   "cell_type": "code",
   "execution_count": null,
   "metadata": {},
   "outputs": [],
   "source": []
  }
 ],
 "metadata": {
  "kernelspec": {
   "display_name": "Python 3",
   "language": "python",
   "name": "python3"
  },
  "language_info": {
   "codemirror_mode": {
    "name": "ipython",
    "version": 3
   },
   "file_extension": ".py",
   "mimetype": "text/x-python",
   "name": "python",
   "nbconvert_exporter": "python",
   "pygments_lexer": "ipython3",
   "version": "3.7.6"
  }
 },
 "nbformat": 4,
 "nbformat_minor": 4
}
