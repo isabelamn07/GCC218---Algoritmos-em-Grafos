{
 "cells": [
  {
   "cell_type": "markdown",
   "metadata": {},
   "source": [
    "# Funções, Classes e Métodos\n"
   ]
  },
  {
   "cell_type": "markdown",
   "metadata": {},
   "source": [
    "### Funções"
   ]
  },
  {
   "cell_type": "markdown",
   "metadata": {},
   "source": [
    "Funções em Python são declaradas utilizando a palavra reservada **def.**\n",
    "### Exemplos"
   ]
  },
  {
   "cell_type": "code",
   "execution_count": 1,
   "metadata": {},
   "outputs": [
    {
     "name": "stdout",
     "output_type": "stream",
     "text": [
      "25\n",
      "81\n",
      "4283.7025\n",
      "1.752976\n"
     ]
    }
   ],
   "source": [
    "# Exemplo 1\n",
    "def quadrado(x):\n",
    "    resultado = x * x\n",
    "    print(resultado)\n",
    "    \n",
    "quadrado(5)\n",
    "quadrado(9)\n",
    "quadrado(65.45)\n",
    "quadrado(1.324)"
   ]
  },
  {
   "cell_type": "code",
   "execution_count": 2,
   "metadata": {},
   "outputs": [
    {
     "name": "stdout",
     "output_type": "stream",
     "text": [
      "Positivo\n",
      "Nulo\n"
     ]
    },
    {
     "data": {
      "text/plain": [
       "'Negativo'"
      ]
     },
     "execution_count": 2,
     "metadata": {},
     "output_type": "execute_result"
    }
   ],
   "source": [
    "# Exemplo 2\n",
    "def opcao(resp):\n",
    "    if resp > 0:\n",
    "        return \"Positivo\"\n",
    "    elif resp < 0:\n",
    "        return \"Negativo\"\n",
    "    else:\n",
    "        return \"Nulo\"\n",
    "\n",
    "print(opcao(34))\n",
    "print(opcao(0))\n",
    "opcao(-8)\n",
    "    "
   ]
  },
  {
   "cell_type": "markdown",
   "metadata": {},
   "source": [
    "### Classes"
   ]
  },
  {
   "cell_type": "markdown",
   "metadata": {},
   "source": [
    "As classes em python são definidas com a palavra reservada class"
   ]
  },
  {
   "cell_type": "code",
   "execution_count": 6,
   "metadata": {},
   "outputs": [
    {
     "name": "stdout",
     "output_type": "stream",
     "text": [
      "Exemplo\n"
     ]
    }
   ],
   "source": [
    "class Exemplo:\n",
    "    def metodo_exemplo(self):\n",
    "        print(\"Exemplo\")\n",
    "ex = Exemplo()\n",
    "ex.metodo_exemplo()"
   ]
  },
  {
   "cell_type": "markdown",
   "metadata": {},
   "source": [
    "### Métodos"
   ]
  },
  {
   "cell_type": "code",
   "execution_count": 3,
   "metadata": {},
   "outputs": [
    {
     "name": "stdout",
     "output_type": "stream",
     "text": [
      "8\n",
      "-3\n",
      "63\n",
      "1.75\n"
     ]
    }
   ],
   "source": [
    "class Matematica:\n",
    "    def __init__(self):\n",
    "        self.r_soma = 0;\n",
    "        self.r_subtracao = 0\n",
    "        self.r_multiplicacao = 0\n",
    "        self.r_divisao = 0\n",
    "        \n",
    "    def soma_mat(self, a, b):\n",
    "        self.r_soma = a + b\n",
    "        return self.r_soma\n",
    "    \n",
    "    def subtracao_mat(self, a, b):\n",
    "        self.r_subtracao = a - b\n",
    "        return self.r_subtracao\n",
    "    \n",
    "    def multiplicacao_mat(self, a, b):\n",
    "        self.r_multiplicacao = a * b\n",
    "        return self.r_multiplicacao\n",
    "    \n",
    "    def divisao_mat(self, a, b):\n",
    "        self.r_divisao = a/b\n",
    "        return self.r_divisao\n",
    "    \n",
    "    def main(self):\n",
    "        print(self.soma_mat(3, 5))\n",
    "        print(self.subtracao_mat(4 ,7))\n",
    "        print(self.multiplicacao_mat(7, 9))\n",
    "        print(self.divisao_mat(7, 4))\n",
    "        \n",
    "    \n",
    "if __name__ == '__main__':\n",
    "    ex_mat = Matematica()\n",
    "    ex_mat.main()\n",
    "    "
   ]
  },
  {
   "cell_type": "markdown",
   "metadata": {},
   "source": [
    "### Self"
   ]
  },
  {
   "cell_type": "markdown",
   "metadata": {},
   "source": [
    "Todo método criado dentro de uma classe em python deve definir como primeiro parâmetro o **self**. Colocar o **self** de forma explícita é um padrão de Python, **self** representa o objeto a ser invocado pelo método. Para uma melhor explicação da função e significado de **self** em Python, segue um link com uma explicação detalhada: [Significado do Self em Python](https://wiki.python.org.br/SignificadoDoSelf)."
   ]
  },
  {
   "cell_type": "code",
   "execution_count": 5,
   "metadata": {},
   "outputs": [],
   "source": [
    "class Exemplo:\n",
    "    def funcao_exemplo(self):\n",
    "        pass\n",
    "    def funcao_exemplo2(self,x):\n",
    "        pass"
   ]
  },
  {
   "cell_type": "markdown",
   "metadata": {},
   "source": [
    "Uma variável definida com **self** tem como escopo toda a classe onde foi declarada."
   ]
  },
  {
   "cell_type": "code",
   "execution_count": 1,
   "metadata": {},
   "outputs": [
    {
     "name": "stdout",
     "output_type": "stream",
     "text": [
      "Mensagem Teste\n"
     ]
    }
   ],
   "source": [
    "class Mensagem:\n",
    "    def recebe_msg(self, msg):\n",
    "        self.msg = msg\n",
    "    def print_msg(self):\n",
    "        print(self.msg)\n",
    "\n",
    "mensagem = Mensagem()\n",
    "mensagem.recebe_msg('Mensagem Teste')\n",
    "mensagem.print_msg()\n",
    "    "
   ]
  },
  {
   "cell_type": "markdown",
   "metadata": {},
   "source": [
    "### \\__init__():"
   ]
  },
  {
   "cell_type": "markdown",
   "metadata": {},
   "source": [
    "**\\__init__()** é um construtor que é invocado sempre que a classe que ele está inserido é instanciada e assim como em qualquer linguagem orientada a objetos é obrigatório passar todos os parâmetros do construtor __init__."
   ]
  },
  {
   "cell_type": "code",
   "execution_count": 9,
   "metadata": {},
   "outputs": [
    {
     "name": "stdout",
     "output_type": "stream",
     "text": [
      "Exemplo1\n",
      "Exemplo2\n",
      "X:  10\n"
     ]
    }
   ],
   "source": [
    "class Exemplo1:\n",
    "    def __init__(self): # construtor padrão\n",
    "        print(\"Exemplo1\")\n",
    "\n",
    "class Exemplo2:\n",
    "    def __init__(self, x, y):\n",
    "        print(\"Exemplo2\")\n",
    "        self.x = x \n",
    "        self.y = y\n",
    "        \n",
    "    def teste(self):\n",
    "        print(\"X: \", self.x)\n",
    "\n",
    "ex1 = Exemplo1()\n",
    "ex2 = Exemplo2(10, 15)\n",
    "ex2.teste()\n",
    "        "
   ]
  }
 ],
 "metadata": {
  "kernelspec": {
   "display_name": "Python 3",
   "language": "python",
   "name": "python3"
  },
  "language_info": {
   "codemirror_mode": {
    "name": "ipython",
    "version": 3
   },
   "file_extension": ".py",
   "mimetype": "text/x-python",
   "name": "python",
   "nbconvert_exporter": "python",
   "pygments_lexer": "ipython3",
   "version": "3.7.6"
  }
 },
 "nbformat": 4,
 "nbformat_minor": 4
}
