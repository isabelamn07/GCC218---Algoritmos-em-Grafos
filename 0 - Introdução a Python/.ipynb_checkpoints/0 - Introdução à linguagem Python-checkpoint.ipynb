{
 "cells": [
  {
   "cell_type": "markdown",
   "metadata": {},
   "source": [
    "# Introdução à linguagem python"
   ]
  },
  {
   "cell_type": "markdown",
   "metadata": {},
   "source": [
    "Python é uma linguagem interpretada escrita em C, alto nível, de propósito geral que possui muitas bibliotecas e ferramentas que facilitam a sua aprendizagem, é  multiplaforma e também uma das linguagens mais utilizadas atualmente. Essa linguagem foi escolhida para ensinar os algoritmos da disciplina de grafos pela maior facilidade de aprendizado e por ter recursos nativos da linguagem que facilitam a representação de grafos.\n",
    "\n",
    "Nesse material de introdução a python é apresentada uma visão geral bem sucinta da linguagem e também alguns exemplos, para um aprendizado mais aprofundado procures livros e materiais disponíveis na internet.\n",
    "\n",
    "Sugestões: \n",
    "* Documetação oficial da linguagem: [documentação](https://docs.python.org/pt-br/3/tutorial/)\n",
    "* Livro: Introdução à programação com Python : algoritmos e lógica de programação para iniciantes / Nilo Ney Coutinho Menezes."
   ]
  },
  {
   "cell_type": "markdown",
   "metadata": {},
   "source": [
    "### Sugestões de editores ou IDE's \n",
    "\n",
    "1.[Visual Studio Code](https://code.visualstudio.com) - O Visual Studio Code é um editor de códigos fonte com suporte à diversas linguagens, possui diversos plugins para desenvolvimentos de diversas linguagens, também possui terminal integrado, intelisense e funciona no **Linux**, **Windows** e **Mac**\n",
    "\n",
    "2.[PyCharm](https://www.jetbrains.com/pycharm) É uma IDE com diversos recursos, bem completa com ótimo recurso de autocompletar e tem versão gratuita.\n",
    "\n",
    "3.[Geany](https://www.geany.org), [Atom](https://atom.io), Gedit, Bloco de notas, [Kate](https://kate-editor.org/get-it), Pluma, [Sublime text](https://www.sublimetext.com/3), etc. ou qualquer editor de código depreferência de cada desenvolvedor. \n",
    "\n",
    "Ao criar um código em python, basta salvar o arquivo com a extensão **.py**\n",
    "\n"
   ]
  },
  {
   "cell_type": "markdown",
   "metadata": {},
   "source": [
    "<font color=\"red\">OBS: Para compilar e executar os pedaços de código presentes na página, selecione a célula que desejar e clique no botão Run presente no menu na parte superior da página."
   ]
  },
  {
   "cell_type": "markdown",
   "metadata": {},
   "source": [
    "### Para Jupyter lab"
   ]
  },
  {
   "cell_type": "markdown",
   "metadata": {},
   "source": [
    "![Jupyter lab](./Imagens/jupyter-lab.gif)"
   ]
  },
  {
   "cell_type": "markdown",
   "metadata": {},
   "source": [
    "### Para Jupyter notebook "
   ]
  },
  {
   "cell_type": "markdown",
   "metadata": {},
   "source": [
    "![Jupyter notebook](./Imagens/jupyter-notebook.gif)"
   ]
  },
  {
   "cell_type": "markdown",
   "metadata": {},
   "source": [
    "ou utilize"
   ]
  },
  {
   "cell_type": "markdown",
   "metadata": {},
   "source": [
    "``` \n",
    "shift + enter\n",
    "``` "
   ]
  },
  {
   "cell_type": "markdown",
   "metadata": {},
   "source": [
    "### Primeiro programa "
   ]
  },
  {
   "cell_type": "markdown",
   "metadata": {},
   "source": [
    "Em um editor de sua escolha digite as linhas de código a seguir:"
   ]
  },
  {
   "cell_type": "code",
   "execution_count": 4,
   "metadata": {},
   "outputs": [
    {
     "name": "stdout",
     "output_type": "stream",
     "text": [
      "Primeiro programa em python\n"
     ]
    }
   ],
   "source": [
    "#Primeiro programa em python\n",
    "print(\"Primeiro programa em python\")"
   ]
  },
  {
   "cell_type": "markdown",
   "metadata": {},
   "source": [
    "Depois basta salvar o arquivo com a extensão **.py**, para compilar e executar via terminal o comando é: \n",
    "\n",
    "```\n",
    "python arquivo.py\n",
    "```\n",
    "ou\n",
    "\n",
    "```\n",
    "python3 arquivo.py\n",
    "```"
   ]
  },
  {
   "cell_type": "markdown",
   "metadata": {},
   "source": [
    " Para escrever uma mensagem na tela basta escrever:<br>\n",
    " \n",
    " **print('Qualquer mensagem ')**"
   ]
  },
  {
   "cell_type": "code",
   "execution_count": 5,
   "metadata": {},
   "outputs": [
    {
     "name": "stdout",
     "output_type": "stream",
     "text": [
      "Qualquer mensagem!\n"
     ]
    }
   ],
   "source": [
    "print('Qualquer mensagem!')"
   ]
  },
  {
   "cell_type": "markdown",
   "metadata": {},
   "source": [
    "Comentários em python são escritos depois do símbolo **#** ou entre aspas simples ou duplas: \n",
    "\n",
    "**#Comentário ou '''Comentário''' ou \"\"\"Comentário\"\"\"**.\n"
   ]
  },
  {
   "cell_type": "code",
   "execution_count": 6,
   "metadata": {},
   "outputs": [
    {
     "data": {
      "text/plain": [
       "'\\nComentário\\n'"
      ]
     },
     "execution_count": 6,
     "metadata": {},
     "output_type": "execute_result"
    }
   ],
   "source": [
    "# Comentário\n",
    "##### Comentário\n",
    "'''\n",
    "Comentário\n",
    "'''\n",
    "\"\"\"\n",
    "Comentário\n",
    "\"\"\""
   ]
  },
  {
   "cell_type": "markdown",
   "metadata": {},
   "source": [
    "### Variáveis"
   ]
  },
  {
   "cell_type": "markdown",
   "metadata": {},
   "source": [
    "Em python não é necessário declarar os tipos das variáveis, elas são fracamente tipadas, portanto:"
   ]
  },
  {
   "cell_type": "code",
   "execution_count": 7,
   "metadata": {},
   "outputs": [
    {
     "ename": "SyntaxError",
     "evalue": "invalid syntax (<ipython-input-7-67003b4cc5b4>, line 2)",
     "output_type": "error",
     "traceback": [
      "\u001b[0;36m  File \u001b[0;32m\"<ipython-input-7-67003b4cc5b4>\"\u001b[0;36m, line \u001b[0;32m2\u001b[0m\n\u001b[0;31m    int var = 10\u001b[0m\n\u001b[0m          ^\u001b[0m\n\u001b[0;31mSyntaxError\u001b[0m\u001b[0;31m:\u001b[0m invalid syntax\n"
     ]
    }
   ],
   "source": [
    "'''Variáveis'''\n",
    "int var = 10\n",
    "#Irá produzir um erro"
   ]
  },
  {
   "cell_type": "code",
   "execution_count": null,
   "metadata": {},
   "outputs": [],
   "source": [
    "var = 10\n",
    "nome = 'lucas'\n",
    "print(nome)\n",
    "nome = 3.14 #Podemos atribuir tipos de dados diferentes para a mesma variavel\n",
    "print(nome)\n",
    "print(var)\n",
    "print(nome)"
   ]
  },
  {
   "cell_type": "markdown",
   "metadata": {},
   "source": [
    "###  Entrada do usuário\n",
    "Para receber uma entrada do usuário basta usar o comando **input**:"
   ]
  },
  {
   "cell_type": "code",
   "execution_count": null,
   "metadata": {},
   "outputs": [],
   "source": [
    "input(\"Digite seu nome \")\n"
   ]
  },
  {
   "cell_type": "markdown",
   "metadata": {},
   "source": [
    "Por padrão o formato recebido por **input** é uma string, para receber outro tipo de dado é necessário fazer um casting"
   ]
  },
  {
   "cell_type": "code",
   "execution_count": null,
   "metadata": {},
   "outputs": [],
   "source": [
    "int(input(\"Digite um numero inteiro \"))"
   ]
  },
  {
   "cell_type": "markdown",
   "metadata": {},
   "source": [
    "### Blocos e identação\n",
    "Na Linguagem Python não são utilizados parênteses, ou chaves, ou a palavra begin, para iniciar um bloco de comandos como **(if, else, for, while, etc.)** utilizamos dois pontos **(:)**, a identação é extremamente importante em python, um programa sem identação correta gera erro.\n",
    "### Exemplo"
   ]
  },
  {
   "cell_type": "code",
   "execution_count": null,
   "metadata": {},
   "outputs": [],
   "source": [
    "#Exemplo com identação\n",
    "valor = 7\n",
    "if valor < 6: \n",
    "    print(\"Maior\")\n",
    "else:\n",
    "    print('Menor')"
   ]
  },
  {
   "cell_type": "code",
   "execution_count": null,
   "metadata": {},
   "outputs": [],
   "source": [
    "#Exemplo sem identação correta\n",
    "valor = 7\n",
    "if valor < 6: \n",
    "print(\"Maior\")\n",
    "else:\n",
    "    print('Menor')"
   ]
  },
  {
   "cell_type": "markdown",
   "metadata": {},
   "source": [
    "### Alguns padrões\n",
    "### Identação:\n",
    " * 4 espaços para cada nível de identação\n",
    "    "
   ]
  },
  {
   "cell_type": "code",
   "execution_count": null,
   "metadata": {},
   "outputs": [],
   "source": [
    "teste = True\n",
    "if teste:\n",
    "    print(\"OK\")\n",
    "    for i in range(4):\n",
    "        print(\"i: \", i)\n",
    "        teste = False\n",
    "else:\n",
    "    print(\"Nao faca nada\")\n",
    "        "
   ]
  },
  {
   "cell_type": "markdown",
   "metadata": {},
   "source": [
    "<font color=\"red\">OBS: Editores diferem na sua configuração e em alguns casos, ao trocar de editor para modificar algum código em python, podem ocorrer erros de identação, pois não se pode misturar na identação o uso de espaços com a tecla de <b><i>barra de espaço<i/></b> e espaços produzidos com a tecla <b><i>tab</i></b>. Portanto escolha um padrão de espaçamento com tab ou space.</font>"
   ]
  },
  {
   "cell_type": "markdown",
   "metadata": {},
   "source": [
    "### Nomes das variáveis\n",
    "Python utiliza o padrão snake case para designar o nome das variáveis como por exemplo: nome_da_variavel, é apenas uma convenção, mas é interessante utilizar as convenções das linguagens.\n",
    "\n",
    "Para constanstes letras maiúsculas."
   ]
  },
  {
   "cell_type": "code",
   "execution_count": null,
   "metadata": {},
   "outputs": [],
   "source": [
    "nome_da_varivel = 3.45\n",
    "CONSTANTES_EM_LETRAS_MAIUSCULAS = 99\n"
   ]
  },
  {
   "cell_type": "markdown",
   "metadata": {},
   "source": [
    "### Nomes de classes\n",
    "Padrão camel case, cada palavra começa com letra maiúscula:"
   ]
  },
  {
   "cell_type": "code",
   "execution_count": null,
   "metadata": {},
   "outputs": [],
   "source": [
    "class MinhaClasse:\n",
    "    pass"
   ]
  },
  {
   "cell_type": "markdown",
   "metadata": {},
   "source": [
    "### Importações\n",
    " Para importar bibliotecas em python, basta usar o comando **import** &lt;nome_da_biblioteca&gt;."
   ]
  },
  {
   "cell_type": "code",
   "execution_count": null,
   "metadata": {},
   "outputs": [],
   "source": [
    "import random\n",
    "\n",
    "x = random.randint(1, 10)\n",
    "print(x)"
   ]
  },
  {
   "cell_type": "markdown",
   "metadata": {},
   "source": [
    " para importar uma função específica:"
   ]
  },
  {
   "cell_type": "code",
   "execution_count": null,
   "metadata": {},
   "outputs": [],
   "source": [
    "from math import sqrt\n",
    "x = 58\n",
    "print(sqrt(58))\n"
   ]
  },
  {
   "cell_type": "markdown",
   "metadata": {},
   "source": [
    "utilizar outros códigos **.py** já feitos anteriormente, para usar funções ou bibliotecas desenvolvidas:\n",
    "    "
   ]
  },
  {
   "cell_type": "code",
   "execution_count": null,
   "metadata": {},
   "outputs": [],
   "source": [
    "import nome_do_arquivo #arquivo .py precisa estar na mesma pasta\n",
    "nome_do_arquivo.quadrado(12)"
   ]
  },
  {
   "cell_type": "markdown",
   "metadata": {},
   "source": [
    "### Null "
   ]
  },
  {
   "cell_type": "markdown",
   "metadata": {},
   "source": [
    "O valor nulo em python se chama **None** \n"
   ]
  },
  {
   "cell_type": "code",
   "execution_count": 7,
   "metadata": {},
   "outputs": [
    {
     "name": "stdout",
     "output_type": "stream",
     "text": [
      "199\n"
     ]
    }
   ],
   "source": [
    "def soma(a, b):\n",
    "    resultado = None\n",
    "    resultado = a + b\n",
    "    print (resultado)\n",
    "    \n",
    "soma(110, 89)"
   ]
  },
  {
   "cell_type": "code",
   "execution_count": null,
   "metadata": {},
   "outputs": [],
   "source": []
  }
 ],
 "metadata": {
  "kernelspec": {
   "display_name": "Python 3",
   "language": "python",
   "name": "python3"
  },
  "language_info": {
   "codemirror_mode": {
    "name": "ipython",
    "version": 3
   },
   "file_extension": ".py",
   "mimetype": "text/x-python",
   "name": "python",
   "nbconvert_exporter": "python",
   "pygments_lexer": "ipython3",
   "version": "3.6.9"
  }
 },
 "nbformat": 4,
 "nbformat_minor": 4
}
