{
 "cells": [
  {
   "cell_type": "markdown",
   "metadata": {},
   "source": [
    "### Biblioteca random"
   ]
  },
  {
   "cell_type": "markdown",
   "metadata": {},
   "source": [
    "Biblioteca random gera números pseudo-aleatórios. Essa bibliotea é de grande auxílio para realizar testes e criar datasets genéricos."
   ]
  },
  {
   "cell_type": "markdown",
   "metadata": {},
   "source": [
    "### Uso do random"
   ]
  },
  {
   "cell_type": "markdown",
   "metadata": {},
   "source": [
    "Para utilizar a biblioteca random não é necessário instalar nada, apenas importá-la."
   ]
  },
  {
   "cell_type": "code",
   "execution_count": 1,
   "metadata": {},
   "outputs": [],
   "source": [
    "import random\n",
    "#random.funcao()"
   ]
  },
  {
   "cell_type": "markdown",
   "metadata": {},
   "source": [
    "### Algumas funções"
   ]
  },
  {
   "cell_type": "markdown",
   "metadata": {},
   "source": [
    "### randrange()\n",
    "A função randrange gera um número aleatório utilizando um intervalo de números definidos pelo usuário (a, b], como nos exemplos a seguir:"
   ]
  },
  {
   "cell_type": "code",
   "execution_count": 2,
   "metadata": {},
   "outputs": [
    {
     "data": {
      "text/plain": [
       "1"
      ]
     },
     "execution_count": 2,
     "metadata": {},
     "output_type": "execute_result"
    }
   ],
   "source": [
    "# Gera um número aleatório entre 0 e n(não incluso)\n",
    "random.randrange(5)"
   ]
  },
  {
   "cell_type": "code",
   "execution_count": 3,
   "metadata": {},
   "outputs": [
    {
     "data": {
      "text/plain": [
       "3"
      ]
     },
     "execution_count": 3,
     "metadata": {},
     "output_type": "execute_result"
    }
   ],
   "source": [
    "# random.randrange(inicio, fim, intervalo)\n",
    "# Gera números aleatoriamente entre 1 e 5(não incluso), de dois em dois, logo somente irá gerar os valores 1 e 3\n",
    "random.randrange(1, 5, 2)"
   ]
  },
  {
   "cell_type": "markdown",
   "metadata": {},
   "source": [
    "### randint() "
   ]
  },
  {
   "cell_type": "markdown",
   "metadata": {},
   "source": [
    "O randint gera um número aleatório dentro de um intervalo definido pelo desenvolvedor, é escolhido um número $N$ no intervalo $(a,b)$, $a <= N <= b$."
   ]
  },
  {
   "cell_type": "code",
   "execution_count": 4,
   "metadata": {},
   "outputs": [
    {
     "data": {
      "text/plain": [
       "68"
      ]
     },
     "execution_count": 4,
     "metadata": {},
     "output_type": "execute_result"
    }
   ],
   "source": [
    "random.randint(2, 95)"
   ]
  },
  {
   "cell_type": "markdown",
   "metadata": {},
   "source": [
    "### choice()\n",
    "Retorna um elemento aleatórios de uma sequência definida, exemplo:"
   ]
  },
  {
   "cell_type": "code",
   "execution_count": 5,
   "metadata": {},
   "outputs": [
    {
     "data": {
      "text/plain": [
       "7"
      ]
     },
     "execution_count": 5,
     "metadata": {},
     "output_type": "execute_result"
    }
   ],
   "source": [
    "random.choice([3, 5, 6, 7, 32, 7, 9])"
   ]
  },
  {
   "cell_type": "code",
   "execution_count": 6,
   "metadata": {},
   "outputs": [
    {
     "data": {
      "text/plain": [
       "'a'"
      ]
     },
     "execution_count": 6,
     "metadata": {},
     "output_type": "execute_result"
    }
   ],
   "source": [
    "random.choice(['a', 'b', 'c', 'd', 'e'])"
   ]
  },
  {
   "cell_type": "markdown",
   "metadata": {},
   "source": [
    "### choices()\n",
    "Retorna uma lista de elementos de uma população, podem haver repetições."
   ]
  },
  {
   "cell_type": "code",
   "execution_count": 7,
   "metadata": {},
   "outputs": [
    {
     "data": {
      "text/plain": [
       "[41, 78, 74]"
      ]
     },
     "execution_count": 7,
     "metadata": {},
     "output_type": "execute_result"
    }
   ],
   "source": [
    "random.choices(range(100), k=3)"
   ]
  },
  {
   "cell_type": "markdown",
   "metadata": {},
   "source": [
    "### sample()\n",
    "Retorna uma lista de elementos de uma população sem repetições."
   ]
  },
  {
   "cell_type": "code",
   "execution_count": 8,
   "metadata": {},
   "outputs": [
    {
     "data": {
      "text/plain": [
       "[20, 30, 10, 40]"
      ]
     },
     "execution_count": 8,
     "metadata": {},
     "output_type": "execute_result"
    }
   ],
   "source": [
    "random.sample([10, 20, 30, 40, 50], k=4)"
   ]
  },
  {
   "cell_type": "markdown",
   "metadata": {},
   "source": [
    "### uniform()\n",
    "Retorna um ponto flutuante aleatório $n$, por meio de distribuição uniforme, em que $a <= n <= b$."
   ]
  },
  {
   "cell_type": "code",
   "execution_count": 9,
   "metadata": {},
   "outputs": [
    {
     "data": {
      "text/plain": [
       "6.372814759315286"
      ]
     },
     "execution_count": 9,
     "metadata": {},
     "output_type": "execute_result"
    }
   ],
   "source": [
    "random.uniform(2.5, 10.0)"
   ]
  },
  {
   "cell_type": "markdown",
   "metadata": {},
   "source": [
    " ### random()\n",
    " Gera um ponto flutuante aleatório entre 0.0 e 1.0."
   ]
  },
  {
   "cell_type": "code",
   "execution_count": 10,
   "metadata": {},
   "outputs": [
    {
     "data": {
      "text/plain": [
       "0.4493781787181901"
      ]
     },
     "execution_count": 10,
     "metadata": {},
     "output_type": "execute_result"
    }
   ],
   "source": [
    "random.random()\n"
   ]
  },
  {
   "cell_type": "markdown",
   "metadata": {},
   "source": [
    "Fonte: https://docs.python.org/3.7/library/random.html"
   ]
  },
  {
   "cell_type": "markdown",
   "metadata": {},
   "source": [
    "## Exemplo"
   ]
  },
  {
   "cell_type": "code",
   "execution_count": 11,
   "metadata": {},
   "outputs": [
    {
     "name": "stdout",
     "output_type": "stream",
     "text": [
      "0.4304527478745487\n",
      "7.305095083456053\n",
      "my, Josefa!\n",
      "2\n",
      "['Verde', 'Vermelho', 'Azul', 'Verde', 'Verde', 'Verde', 'Azul', 'Vermelho', 'Vermelho', 'Vermelho', 'Vermelho']\n",
      "['Yellow', 'Orange', 'Yellow', 'Yellow', 'Yellow', 'Yellow', 'Orange', 'Orange', 'Yellow', 'Pink', 'Orange', 'Yellow']\n",
      "[3, 50, 10, 41, 36, 1, 48, 14, 37, 20, 8, 21, 4, 22, 11, 15, 25, 52, 31, 12, 33, 29, 5, 40, 38, 26, 6, 42, 32, 17, 9, 46, 35, 34, 18, 39, 43, 27, 16, 51, 47, 49, 2, 28, 13, 44, 45, 30, 19, 24, 7, 23]\n",
      "[21, 42, 1, 39, 13]\n",
      "0\n"
     ]
    }
   ],
   "source": [
    "# random\n",
    "import random\n",
    "\n",
    "# random - escolhe um número aleatório entre 0 e 1\n",
    "value = random.random()\n",
    "print(value)\n",
    "\n",
    "# uniform\n",
    "value = random.uniform(1, 10)\n",
    "print(value)\n",
    "\n",
    "greetings = ['Hello', 'darkness', 'my', 'old', 'friend']\n",
    "\n",
    "value = random.choice(greetings)\n",
    "print(value + ', Josefa!')\n",
    "\n",
    "value = random.randint(1, 6)\n",
    "print(value)\n",
    "\n",
    "cores = ['Vermelho', 'Azul', 'Verde']\n",
    "resultados = random.choices(cores, k=11)\n",
    "print(resultados)\n",
    "\n",
    "another_colors = ['Yellow', 'Orange', 'Pink']\n",
    "results_colors = random.choices(another_colors, weights=[19, 19, 6], k=12)\n",
    "print(results_colors)\n",
    "\n",
    "deck = list(range(1, 53))\n",
    "random.shuffle(deck)\n",
    "\n",
    "hand = random.sample(deck, k=5)\n",
    "print(deck)\n",
    "print(hand)\n",
    "\n",
    "print(random.randrange(4))\n"
   ]
  },
  {
   "cell_type": "markdown",
   "metadata": {},
   "source": [
    "## Fontes: \n",
    "[https://docs.python.org/3/library/random.html](https://docs.python.org/3/library/random.html)"
   ]
  },
  {
   "cell_type": "code",
   "execution_count": null,
   "metadata": {},
   "outputs": [],
   "source": []
  }
 ],
 "metadata": {
  "kernelspec": {
   "display_name": "Python 3",
   "language": "python",
   "name": "python3"
  },
  "language_info": {
   "codemirror_mode": {
    "name": "ipython",
    "version": 3
   },
   "file_extension": ".py",
   "mimetype": "text/x-python",
   "name": "python",
   "nbconvert_exporter": "python",
   "pygments_lexer": "ipython3",
   "version": "3.8.1"
  }
 },
 "nbformat": 4,
 "nbformat_minor": 4
}
