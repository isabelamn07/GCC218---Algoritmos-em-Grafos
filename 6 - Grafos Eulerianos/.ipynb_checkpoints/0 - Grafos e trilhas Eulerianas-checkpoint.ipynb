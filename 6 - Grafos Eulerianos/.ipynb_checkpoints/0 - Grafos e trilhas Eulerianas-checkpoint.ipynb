{
 "cells": [
  {
   "cell_type": "markdown",
   "metadata": {},
   "source": [
    "# Trilhas e Grafos Eulerianos\n",
    "Uma trilha em teoria de grafos é um percurso que não possui repetição de arestas.\n",
    "\n",
    "Para encontrar um trilha um em grafo, necessariamente o grafo precisa ter: \n",
    "\n",
    "1. Os graus de todos os vértices pares.\n",
    "    ou\n",
    "2. Possuir apenas dois vértices de grau ímpar e todos os outros de grau par.\n",
    "\n",
    "### Exemplo:\n",
    "\n",
    "Dado um grafo G:"
   ]
  },
  {
   "cell_type": "markdown",
   "metadata": {},
   "source": [
    "<img src=\"./Imagens/ExemploTrilhaEuleriana.png\">\n",
    "\n",
    "\n",
    "<table>\n",
    "<tr>\n",
    "    <td style='width: 50%; vertical-align:top; font-size:16px; border: 4px solid black; background-color:white;'>Caso haja vértices ímpares no grafo, comece a percorrer o grafo pelo vértice de grau ímpar, caso o grafo possua todos os vértices com o grau par, pode-se percorrer o grafo a partir de qualquer vértice presente no grafo.\n",
    "    </td>\n",
    "    <td style='width: 50%; vertical-align:top; font-size:16px; border: 4px solid black; background-color:white;'>O próximo passo é escolher um vértice adjacente, somenter escolher pontes se não houver outra alternativa.\n",
    "    </td>\n",
    "<tr>\n",
    "<tr>\n",
    "    <td><img src=\"./Imagens/ExemploTrilhaEuleriana1.png\"></td>\n",
    "    <td><img src=\"./Imagens/ExemploTrilhaEuleriana2.png\"></td>\n",
    "</tr>\n",
    "<tr>\n",
    "    <td><img src=\"./Imagens/ExemploTrilhaEuleriana3.png\"></td>\n",
    "    <td><img src=\"./Imagens/ExemploTrilhaEuleriana4.png\"></td>\n",
    "</tr>\n",
    "<tr>\n",
    "    <td><img src=\"./Imagens/ExemploTrilhaEuleriana5.png\"></td>\n",
    "    <td><img src=\"./Imagens/ExemploTrilhaEuleriana6.png\"></td>\n",
    "</tr>\n",
    "<tr>\n",
    "    <td><img src=\"./Imagens/ExemploTrilhaEuleriana7.png\"></td>\n",
    "    <td><img src=\"./Imagens/ExemploTrilhaEuleriana8.png\"></td>\n",
    "</tr>\n",
    "</table>\n",
    "\n",
    "No grafo acima, conseguimos encontrar uma trilha Euleriana, mas o grafo não é Euleriano.</p>\n",
    "\n",
    "Um grafo é euleriano:\n",
    "\n",
    "1. quando conseguimos percorrer todas as suas arestas  apenas uma única vez e voltamos ao vértice inicial.\n",
    "2. Todos os graus de todos os vértices são pares."
   ]
  },
  {
   "cell_type": "markdown",
   "metadata": {},
   "source": [
    "### Exemplo\n",
    "\n",
    "Tdos os grafos presentes no grafo a seguir são pares, mais especificamente, todos os vértices possuem grau 4. Partindo de qualquer vértice, conseguimos passar por todas as arestas apenas uma vez e voltar ao vértice inicial.\n",
    "<table>\n",
    "    <tr>\n",
    "        <td><img src=\"./Imagens/Euler.png\" width=\"250\", height=\"300\"></td>\n",
    "        <td><img src=\"./Imagens/Euler1.png\" width=\"250\", height=\"300\"></td>\n",
    "        <td><img src=\"./Imagens/Euler2.png\" width=\"250\", height=\"300\"></td>\n",
    "     </tr>\n",
    "    <tr>\n",
    "        <td><img src=\"./Imagens/Euler3.png\" width=\"250\", height=\"300\"></td>\n",
    "        <td><img src=\"./Imagens/Euler4.png\" width=\"250\", height=\"300\"></td>\n",
    "        <td><img src=\"./Imagens/Euler5.png\" width=\"250\", height=\"300\"></td>\n",
    "     </tr>\n",
    "    <tr>\n",
    "        <td><img src=\"./Imagens/Euler6.png\" width=\"250\", height=\"300\"></td>\n",
    "        <td><img src=\"./Imagens/Euler7.png\" width=\"250\", height=\"300\"></td>\n",
    "        <td><img src=\"./Imagens/Euler8.png\" width=\"250\", height=\"300\"></td>\n",
    "     </tr>\n",
    "    <tr>\n",
    "        <td><img src=\"./Imagens/Euler9.png\" width=\"250\", height=\"300\"></td>\n",
    "        <td><img src=\"./Imagens/Euler10.png\" width=\"250\", height=\"300\"></td>\n",
    "        <td><img src=\"./Imagens/Euler11.png\" width=\"250\", height=\"300\"></td>\n",
    "     </tr>\n",
    "</table>"
   ]
  },
  {
   "cell_type": "markdown",
   "metadata": {},
   "source": [
    "<p>Percorremos todas as arestas do grafo sem repetições, como saímos de um vértice u, e chegamos ao mesmo vértice no final, temos um grafo Euleriano</p>\n",
    "<img src=\"./Imagens/Euler12.png\" style=\"width:33%; margin-left:auto; margin-right:auto;\">"
   ]
  }
 ],
 "metadata": {
  "kernelspec": {
   "display_name": "Python 3",
   "language": "python",
   "name": "python3"
  },
  "language_info": {
   "codemirror_mode": {
    "name": "ipython",
    "version": 3
   },
   "file_extension": ".py",
   "mimetype": "text/x-python",
   "name": "python",
   "nbconvert_exporter": "python",
   "pygments_lexer": "ipython3",
   "version": "3.8.5"
  }
 },
 "nbformat": 4,
 "nbformat_minor": 4
}
