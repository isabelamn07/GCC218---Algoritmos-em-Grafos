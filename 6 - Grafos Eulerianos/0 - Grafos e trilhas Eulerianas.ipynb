{
 "cells": [
  {
   "cell_type": "markdown",
   "metadata": {},
   "source": [
    "# Trilhas e Grafos Eulerianos\n",
    "Uma trilha em teoria de grafos é um percurso que não possui repetição de arestas. Já em uma trilha Euleriana, o percurso em questão deve visitar todas as arestas do grafo sem haver repetição. Para tanto, é necessário que o grafo seja conexo, ter apenas dois vértices de grau ímpar e todos os outros de grau par.\n",
    "\n",
    "### Exemplo:\n",
    "\n",
    "Dado um grafo G:"
   ]
  },
  {
   "cell_type": "markdown",
   "metadata": {},
   "source": [
    "<img src=\"./Imagens/ExemploTrilhaEuleriana.png\">\n",
    "\n",
    "\n",
    "<table>\n",
    "<tr>\n",
    "    <td style='width: 50%; vertical-align:top; font-size:16px; border: 4px solid black; background-color:white;'>Caso haja vértices ímpares no grafo, comece a percorrer o grafo pelo vértice de grau ímpar, caso o grafo possua todos os vértices com o grau par, pode-se percorrer o grafo a partir de qualquer vértice presente no grafo.\n",
    "    </td>\n",
    "    <td style='width: 50%; vertical-align:top; font-size:16px; border: 4px solid black; background-color:white;'>O próximo passo é escolher um vértice adjacente, somenter escolher pontes se não houver outra alternativa.\n",
    "    </td>\n",
    "<tr>\n",
    "<tr>\n",
    "    <td><img src=\"./Imagens/ExemploTrilhaEuleriana1.png\"></td>\n",
    "    <td><img src=\"./Imagens/ExemploTrilhaEuleriana2.png\"></td>\n",
    "</tr>\n",
    "<tr>\n",
    "    <td><img src=\"./Imagens/ExemploTrilhaEuleriana3.png\"></td>\n",
    "    <td><img src=\"./Imagens/ExemploTrilhaEuleriana4.png\"></td>\n",
    "</tr>\n",
    "<tr>\n",
    "    <td><img src=\"./Imagens/ExemploTrilhaEuleriana5.png\"></td>\n",
    "    <td><img src=\"./Imagens/ExemploTrilhaEuleriana6.png\"></td>\n",
    "</tr>\n",
    "<tr>\n",
    "    <td><img src=\"./Imagens/ExemploTrilhaEuleriana7.png\"></td>\n",
    "    <td><img src=\"./Imagens/ExemploTrilhaEuleriana8.png\"></td>\n",
    "</tr>\n",
    "</table>\n",
    "\n",
    "No grafo acima, conseguimos encontrar uma trilha Euleriana, mas o grafo não é Euleriano.\n",
    "\n",
    "Um grafo conexo é Euleriano se, e somente se **todos os graus de todos os vértices são pares.**"
   ]
  },
  {
   "cell_type": "markdown",
   "metadata": {},
   "source": [
    "### Exemplo\n",
    "\n",
    "Todos os grafos presentes no grafo a seguir são pares. Mais especificamente, todos os vértices possuem grau 4. Partindo de qualquer vértice, conseguimos passar por todas as arestas apenas uma vez e voltar ao vértice inicial.\n",
    "<table>\n",
    "    <tr>\n",
    "        <td><img src=\"./Imagens/Euler.png\" width=\"250\", height=\"300\"></td>\n",
    "        <td><img src=\"./Imagens/Euler1.png\" width=\"250\", height=\"300\"></td>\n",
    "        <td><img src=\"./Imagens/Euler2.png\" width=\"250\", height=\"300\"></td>\n",
    "     </tr>\n",
    "    <tr>\n",
    "        <td><img src=\"./Imagens/Euler3.png\" width=\"250\", height=\"300\"></td>\n",
    "        <td><img src=\"./Imagens/Euler4.png\" width=\"250\", height=\"300\"></td>\n",
    "        <td><img src=\"./Imagens/Euler5.png\" width=\"250\", height=\"300\"></td>\n",
    "     </tr>\n",
    "    <tr>\n",
    "        <td><img src=\"./Imagens/Euler6.png\" width=\"250\", height=\"300\"></td>\n",
    "        <td><img src=\"./Imagens/Euler7.png\" width=\"250\", height=\"300\"></td>\n",
    "        <td><img src=\"./Imagens/Euler8.png\" width=\"250\", height=\"300\"></td>\n",
    "     </tr>\n",
    "    <tr>\n",
    "        <td><img src=\"./Imagens/Euler9.png\" width=\"250\", height=\"300\"></td>\n",
    "        <td><img src=\"./Imagens/Euler10.png\" width=\"250\", height=\"300\"></td>\n",
    "        <td><img src=\"./Imagens/Euler11.png\" width=\"250\", height=\"300\"></td>\n",
    "     </tr>\n",
    "</table>"
   ]
  },
  {
   "cell_type": "markdown",
   "metadata": {},
   "source": [
    "Percorremos todas as arestas do grafo sem repetições. Como saímos de um vértice u, e chegamos ao mesmo vértice no final, temos um grafo Euleriano\n",
    "\n",
    "<img src=\"./Imagens/Euler12.png\" style=\"width:33%; margin-left:auto; margin-right:auto;\">"
   ]
  },
  {
   "cell_type": "code",
   "execution_count": null,
   "metadata": {},
   "outputs": [],
   "source": []
  }
 ],
 "metadata": {
  "kernelspec": {
   "display_name": "Python 3",
   "language": "python",
   "name": "python3"
  },
  "language_info": {
   "codemirror_mode": {
    "name": "ipython",
    "version": 3
   },
   "file_extension": ".py",
   "mimetype": "text/x-python",
   "name": "python",
   "nbconvert_exporter": "python",
   "pygments_lexer": "ipython3",
   "version": "3.8.5"
  }
 },
 "nbformat": 4,
 "nbformat_minor": 4
}
