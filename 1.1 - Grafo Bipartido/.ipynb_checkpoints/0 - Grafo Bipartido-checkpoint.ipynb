{
 "cells": [
  {
   "cell_type": "markdown",
   "metadata": {},
   "source": [
    "# Grafo bipartido\n",
    "Um grafo bipartido se caracteriza por ser 2-colorível, ou seja, um vértice só pode assumir uma cor entre duas cores distintas e um vértice de uma cor X nunca é adjacente a outro vértice da mesma cor X:"
   ]
  },
  {
   "cell_type": "markdown",
   "metadata": {},
   "source": [
    "## Exemplo:\n",
    "<img src=\"./Imagens/grafo-bipartido.png\" width=\"280px\" height=\"360px\">"
   ]
  },
  {
   "cell_type": "markdown",
   "metadata": {},
   "source": [
    "Repare que os ciclos do grafo, sempre são pares:"
   ]
  },
  {
   "cell_type": "markdown",
   "metadata": {},
   "source": [
    "|![Ciclo 1](./Imagens/grafo-bipartido-c1.png)|![Ciclo 2](./Imagens/grafo-bipartido-c2.png)|![Ciclo 3](./Imagens/grafo-bipartido-c3.png)|![Ciclo 4](./Imagens/grafo-bipartidoc4.png)|\n",
    "|-----------------------------------------|-----------------------------------------|-----------------------------------------|----------------------------------------------------|\n",
    "|![Ciclo 5](./Imagens/grafo-bipartido-c5.png)|![Ciclo 6](./Imagens/grafo-bipartido-c6.png)|![Ciclo 7](./Imagens/grafo-bipartido-c7.png)||\n"
   ]
  },
  {
   "cell_type": "markdown",
   "metadata": {},
   "source": [
    "Quando o ciclo é ímpar, dois vértices de mesma cor serão adjacentes:\n",
    "\n",
    "<img src=\"./Imagens/grafobipartido2.png\" alt=\"grafo bipartido\" width=800 height=600 style=\"display:block;margin-left:auto;margin-right:auto\"></img>"
   ]
  },
  {
   "cell_type": "markdown",
   "metadata": {},
   "source": [
    "Em um grafo bipartido conseguimos alocar os vértices em dois conjuntos distintos onde os elementos do mesmo grupo não se ligam entre si.\n",
    "<img src=\"./Imagens/grafoBipartido3.png\" alt=\"grafo bipartido\" width=500 height=450 style=\"display:block;margin-left:auto;margin-right:auto\"></img>"
   ]
  },
  {
   "cell_type": "markdown",
   "metadata": {},
   "source": [
    "Nenhum elemento do conjunto A é adjacente a outro elemento do conjunto A e o mesmo acontece no conjunto B."
   ]
  },
  {
   "cell_type": "markdown",
   "metadata": {},
   "source": [
    "# Código para verificar se um grafo é bipartido"
   ]
  },
  {
   "cell_type": "code",
   "execution_count": 4,
   "metadata": {},
   "outputs": [],
   "source": [
    "import random\n",
    "\n",
    "# lista de adjacencia de um grafo nao bipartido\n",
    "\n",
    "grafo = {\n",
    "    1: {2: 0, 5: 0, 6: 0},\n",
    "    2: {1: 0, 3: 0, 4: 0, 7: 0},\n",
    "    3: {2: 0, 6: 0, 5: 0, 7: 0},\n",
    "    4: {2: 0, 5: 0, 6: 46, 7: 0},\n",
    "    5: {1: 0, 3: 0, 4: 0},\n",
    "    6: {1: 0, 3: 0, 4: 0, 10: 0},\n",
    "    7: {2: 0, 3: 0, 4: 0},\n",
    "    10: {6: 0}\n",
    "}\n",
    "\n",
    "#lista de adjacencia de um grafo bipartido\n",
    "\n",
    "# grafo = { 1: {2:0, 3:0},\n",
    "#          2: {1:0, 4:0},\n",
    "#          3: {1:0, 4:0},\n",
    "#          4: {2:0, 3:0} }\n"
   ]
  },
  {
   "cell_type": "code",
   "execution_count": 5,
   "metadata": {},
   "outputs": [],
   "source": [
    "## obs: para executar essa célula é necessário antes executar a célula anterior\n",
    "\n",
    "def colorir_grafo(Grafo, s, visitado, cores):\n",
    "    '''\n",
    "    Para determinar se o grafo é bipartido ou nao, fazemos um busca, aqui usamos a busca em profundidade \n",
    "    e verificamos se o grafo é 2-colorível, atribuindo um valor 0 representando uma cor para um vértice \n",
    "    por exemplo e todos seus adjacentes com um cor diferente representada aqui pelo número 1. Caso núme-\n",
    "    ros iguais não estejam conectados(adjacentes) o grafo é bipartido.\n",
    "    '''\n",
    "    if s not in visitado:\n",
    "        visitado.append(s)\n",
    "        # atribuimos 0 para cada vértice do grafo como forma de inicializacao da lista\n",
    "        for i in range(len(Grafo.keys())):\n",
    "            cores.append(0)\n",
    "\n",
    "    # percorremos o grafo (DFS)\n",
    "    for v in Grafo[s]:\n",
    "        if v not in visitado:\n",
    "            visitado.append(v)\n",
    "            # indices dos vertices adjacentes (v)\n",
    "            indice = list(Grafo.keys()).index(v)\n",
    "            # indice do vertice que esta sendo visitado (u)\n",
    "            indice1 = list(Grafo.keys()).index(s)\n",
    "            \n",
    "            # atribuimos valores para cada vertice, ao percorrer o grafo\n",
    "            if cores[indice1] == 0:\n",
    "                cores[indice] = 1\n",
    "            elif cores[indice1] == 1:\n",
    "                cores[indice] = 0\n",
    "            # caso o grafo seja vazio, retorna falso\n",
    "            if (not colorir_grafo(Grafo, v, visitado, cores)):\n",
    "                return False\n",
    "        # se dois vertices adjacentes (s, v) tem o mesmo valor, entao o grafo nao e bipartido\n",
    "        elif (cores[list(Grafo.keys()).index(s)] == cores[list(Grafo.keys()).index(v)]):\n",
    "            return False\n",
    "    return True\n"
   ]
  },
  {
   "cell_type": "code",
   "execution_count": 6,
   "metadata": {},
   "outputs": [
    {
     "data": {
      "image/png": "[encoded data removed]",
      "text/plain": [
       "<Figure size 432x288 with 1 Axes>"
      ]
     },
     "metadata": {},
     "output_type": "display_data"
    }
   ],
   "source": [
    "## obs: para executar essa célula é necessário antes executar as 2 células anteriores\n",
    "\n",
    "import networkx as nx\n",
    "import matplotlib.pyplot as plt\n",
    "from networkx.algorithms import bipartite\n",
    "\n",
    "# Desenhando o grafo com networkx\n",
    "G = nx.Graph(grafo)\n",
    "pos = nx.spring_layout(G)\n",
    "\n",
    "# Vertices\n",
    "nx.draw_networkx_nodes(G, pos, node_size=900)\n",
    "   \n",
    "#Arestas\n",
    "labels_arestas = {}\n",
    "arestas = []\n",
    "for i in grafo:\n",
    "    for j in grafo[i]:\n",
    "        if (j, i) not in labels_arestas:\n",
    "            labels_arestas.update({(i,j) : str(grafo[i][j])})\n",
    "            arestas.append((i, j))\n",
    "nx.draw_networkx_edges(G, pos, edgelist=arestas, width=2)\n",
    "    \n",
    "# Labels\n",
    "nx.draw_networkx_labels(G, pos, font_size=20, font_family='sans-serif', font_color='w')\n",
    "plt.axis('off')\n",
    "plt.show()\n"
   ]
  },
  {
   "cell_type": "markdown",
   "metadata": {},
   "source": [
    "A função colorir_grafo percorre o grafo, atribuindo 0 ou 1 para cada vértice, cada número representa uma cor. Se o vértice sendo visitado possui valor 0, os seus vértices adjacentes recebem valor 1 e vice-versa.\n",
    "\n",
    "<img src=\"Imagens/grafoBipartido.png\" width=50%>|"
   ]
  },
  {
   "cell_type": "code",
   "execution_count": 7,
   "metadata": {},
   "outputs": [
    {
     "name": "stdout",
     "output_type": "stream",
     "text": [
      "O grafo nao e bipartido\n"
     ]
    }
   ],
   "source": [
    "## obs: para executar essa célula é necessário antes executar células anteriores respectivas ao código\n",
    "\n",
    "# guarda os vertices ja visitados\n",
    "visitado = []\n",
    "# contem as cores de todos os vertices, essas cores sao representadas por 0 ou 1\n",
    "cores = []\n",
    "eh_bipartido = colorir_grafo(grafo, random.choice(list(grafo.keys())), visitado, cores)\n",
    "if eh_bipartido:\n",
    "    print(\"O grafo e bipartido\")\n",
    "else:\n",
    "    print(\"O grafo nao e bipartido\")\n"
   ]
  },
  {
   "cell_type": "code",
   "execution_count": null,
   "metadata": {},
   "outputs": [],
   "source": []
  }
 ],
 "metadata": {
  "kernelspec": {
   "display_name": "Python 3",
   "language": "python",
   "name": "python3"
  },
  "language_info": {
   "codemirror_mode": {
    "name": "ipython",
    "version": 3
   },
   "file_extension": ".py",
   "mimetype": "text/x-python",
   "name": "python",
   "nbconvert_exporter": "python",
   "pygments_lexer": "ipython3",
   "version": "3.8.5"
  }
 },
 "nbformat": 4,
 "nbformat_minor": 4
}
