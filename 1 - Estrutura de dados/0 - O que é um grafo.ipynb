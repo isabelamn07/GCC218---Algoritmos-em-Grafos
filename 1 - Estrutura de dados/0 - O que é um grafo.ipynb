{
 "cells": [
  {
   "cell_type": "markdown",
   "metadata": {},
   "source": [
    "# O que é um grafo?"
   ]
  },
  {
   "cell_type": "markdown",
   "metadata": {},
   "source": [
    "Um grafo $G=(V,E)$ é uma estrutura composta por um conjunto de vértices ($V \\neq 0$) e arestas ($E$), em que as arestas representam conexões entre um conjunto de vértices.\n",
    "\n",
    "Os vértices (ou nós) possuem um nome, ou *label*, para a sua identificação. As arestas podem possuir um valor ou peso, que pode ser negativo ou positivo. Arestas direcionadas são comumente denominadas de *arcos*."
   ]
  },
  {
   "cell_type": "markdown",
   "metadata": {},
   "source": [
    "Os vértices, no exemplo a seguir, são representações de algumas cidades em um trecho do mapa de Minas Gerais. Já as arestas representam a ligação entre as cidades através de **rodovias estaduais**.\n",
    "\n",
    "A cidade de São Bento Abade não possui ligação através de uma rodovia estadual com as demais cidades. Logo, São Bento Abade é um vértice isolado nessa representação."
   ]
  },
  {
   "cell_type": "markdown",
   "metadata": {},
   "source": [
    "## Exemplo\n",
    "<img src=\"./Imagens/Exemplo1_mapa2.png\" alt=\"Mapa Minas Gerais\" height=\"600\" width=\"800\">"
   ]
  },
  {
   "cell_type": "markdown",
   "metadata": {},
   "source": [
    "Entre as cidades que possuem ligação entre si,  podemos sair de um ponto A e ir ao ponto B, ou vice-versa. Desse modo, podemos sair de Campanha e ir à Cambuquira, e também podemos sair de Cambuquira e ir à cidade de Campanha, constituindo uma relação bidirecional.\n",
    "\n",
    "Um grafo direcionado possui arestas com um sentido específico, indicando direções através de setas."
   ]
  },
  {
   "cell_type": "markdown",
   "metadata": {},
   "source": [
    "### Exemplo: \n",
    "<img src=\"./Imagens/GrafoDirecionado2.png\" heigth=\"300\" width=\"400\">"
   ]
  },
  {
   "cell_type": "markdown",
   "metadata": {},
   "source": [
    "Uma aresta pode ter um valor ou peso, como por exemplo a distância entre os pontos representados pelos vértices"
   ]
  },
  {
   "cell_type": "markdown",
   "metadata": {},
   "source": [
    "### Exemplo\n",
    "<img src=\"./Imagens/mapaEspanhaPortugal.png\" height=\"650\" width=\"850\">"
   ]
  },
  {
   "cell_type": "markdown",
   "metadata": {},
   "source": [
    "## Representação, utilização  e teoria de grafos\n",
    "Diveros problemas do mundo real podem ser representados por grafos, como por exemplo:\n",
    "* Mapas - cada localização é um vértice, e o caminho entre as localizações são as arestas;\n",
    "* Tabelas - diversos tipos de tabelas e suas relações onde os elementos da mesma podem ser representados por vértices e suas relações por arestas. Ex.: Tabela do campeonato brasileiro de futebol;\n",
    "* Banco de dados GDB(graph database) como o Neo4j, que utiliza a estrutura de grafos para armazenamento de dados;</li>\n",
    "* Formas geométricas;\n",
    "* Redes de computadores.\n",
    "\n",
    "Os algoritmos desenvolvidos na teoria de grafos estão presentes em mecanismos de busca, indexação de páginas na web, pesquisa de rotas de mapas, banco de dados, processamento de imagens e protocolo de roteamento."
   ]
  },
  {
   "cell_type": "code",
   "execution_count": null,
   "metadata": {},
   "outputs": [],
   "source": []
  }
 ],
 "metadata": {
  "kernelspec": {
   "display_name": "Python 3",
   "language": "python",
   "name": "python3"
  },
  "language_info": {
   "codemirror_mode": {
    "name": "ipython",
    "version": 3
   },
   "file_extension": ".py",
   "mimetype": "text/x-python",
   "name": "python",
   "nbconvert_exporter": "python",
   "pygments_lexer": "ipython3",
   "version": "3.8.1"
  }
 },
 "nbformat": 4,
 "nbformat_minor": 4
}
