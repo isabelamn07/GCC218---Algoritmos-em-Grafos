{
 "cells": [
  {
   "cell_type": "markdown",
   "metadata": {},
   "source": [
    "# Algoritmo de Warshall: Fecho Transitivo"
   ]
  },
  {
   "cell_type": "markdown",
   "metadata": {},
   "source": [
    "O algoritmo de Warshall encontra o fecho transitivo de um grafo, ou seja, o algoritmo encontra a relação de vértices alcaçáveis **v** a partir de um vértice **u**."
   ]
  },
  {
   "cell_type": "markdown",
   "metadata": {},
   "source": [
    "### Exemplo\n",
    "<img src=\"Imagens/grafoDirecionadoWarshall1.png\" alt=\"Grafo direcionado e sua matriz de adjacência\">"
   ]
  },
  {
   "cell_type": "markdown",
   "metadata": {},
   "source": [
    "Podemos analisar o vértice **2** da figura:\n",
    "\n",
    "* Partindo do vértice **2** podemos chegar ao vértice **4**, ao próprio vértice **2**, ao vértice **1** e ao vértice **3**. Ou seja, todos os vértices no grafo são alcançáveis a partir do vértice **2**.   "
   ]
  },
  {
   "cell_type": "markdown",
   "metadata": {},
   "source": [
    "## Fecho transitivo\n",
    "Como entrada o algoritmo de Warshall recebe um grafo direcionado, para encontrar o fecho transitivo são percorridos todos os vértices desse grafo, caso seja constatada a alcançabilidade entre vértices, essa relação é representada na estrutura de dados que representa o grafo, no caso, uma matriz de adjacência. A matriz gerada pelo algoritmo de Warshall representa o fecho transitivo.   "
   ]
  },
  {
   "cell_type": "markdown",
   "metadata": {},
   "source": [
    "### Pseudocódigo\n",
    "```\n",
    "Entrada: Matriz de adjacência\n",
    "Saída: Matriz T com o fecho Transitivo\n",
    "```\n",
    "\n",
    "<pre>\n",
    "procedure Warshall(M)   // M: matriz de adjacências do grafo.\n",
    "2:   T ← M\n",
    "3:   for k ← 1 to n do\n",
    "4:      for i ← 1 to n do\n",
    "5:         for j ← 1 to n do\n",
    "6:            w<sub>ij</sub> ← w<sub>ij</sub> ∨ (w<sub>ik</sub> ∧ w<sub>kj</sub>)   // Caso 1 ou Caso 2.\n",
    "7: return T\n",
    "</pre>\n",
    "\n",
    "w<sub>x, y</sub> representa cada posição da matriz que indica a relação de adjacência\n",
    "\n",
    "|                |1               | 2              | 3              | 4              |\n",
    "|:--------------:|:--------------:|:--------------:|:--------------:|:--------------:|\n",
    "|**1**           |w<sub>1, 1</sub>|w<sub>1, 2</sub>|w<sub>1, 3</sub>|w<sub>1, 4</sub>| \n",
    "|**2**           |w<sub>2, 1</sub>|w<sub>2, 2</sub>|w<sub>2, 3</sub>|w<sub>2, 4</sub>| \n",
    "|**3**           |w<sub>3, 1</sub>|w<sub>3, 2</sub>|w<sub>3, 3</sub>|w<sub>3, 4</sub>| \n",
    "|**4**           |w<sub>4, 1</sub>|w<sub>4, 2</sub>|w<sub>4, 3</sub>|w<sub>4, 4</sub>| \n"
   ]
  },
  {
   "cell_type": "markdown",
   "metadata": {},
   "source": [
    "Execução do algoritmo, exemplo: \n",
    "\n",
    "* Considerando:\n",
    "    - k = 1\n",
    "    - i = 2\n",
    "    - j = 3\n",
    "    - Queremos encontrar **i -> k -> j**.\n",
    "* w<sub>2,3</sub> receberá o valor que indica que a relação **i ->k -> j** existe.\n",
    "* Esses valores geralmente são representados pro 0 ou 1 (falso ou verdadeiro respectivamente).\n",
    "\n",
    "<img src = ./Imagens/fecho-transitivo-exemplo1.png>\n",
    "\n",
    "* Para k = 1, i = 2 e j =3, verificamos a condição, **w<sub>i,j</sub> ∨ (w<sub>i,k</sub> ∧ w<sub>k,j</sub>)**, onde:\n",
    "    - w<sub>2,3</sub> = 0 (falso)\n",
    "    - w<sub>2,1</sub> = 1 (verdadeiro)\n",
    "    - w<sub>1,3</sub> = 1 (verdadeiro)\n",
    "        \n",
    "<img src = ./Imagens/fecho-transitivo-exemplo3.png>\n",
    "\n",
    "- w<sub>i,j</sub> <- w<sub>i,j</sub> ∨ (w<sub>i,k</sub> ∧ w<sub>k,j</sub>)\n",
    "    - w<sub>2,3</sub> = 0 v (1 ^ 1) | w<sub>i,j</sub> = falso ^ (verdadeiro v verdadeiro)\n",
    "    - w<sub>2,3</sub> = 1\n",
    "\n",
    "* O que conseguimos verificar é que temos relação de adjacência entre:\n",
    "    - **2** e **1**\n",
    "    - **1** e **3**\n",
    "    - Logo temos os caminho **2**->**1**->**3** **(i -> k -> j) **\n",
    "    \n",
    "    \n",
    "* Após a execução desses passos teremos: \n",
    "\n",
    "<img src = ./Imagens/fecho-transitivo-exemplo4.png> \n",
    "\n"
   ]
  },
  {
   "cell_type": "markdown",
   "metadata": {},
   "source": [
    "### Grafo resultante da execução do algoritmo de Warshall "
   ]
  },
  {
   "cell_type": "markdown",
   "metadata": {},
   "source": [
    "<img src=\"Imagens/fechoTransitivoWarshall.png\" alt=\"Grafo direcinado, fecho transitivo e sua matriz de adjacência\">"
   ]
  },
  {
   "cell_type": "markdown",
   "metadata": {},
   "source": [
    "# Código"
   ]
  },
  {
   "cell_type": "code",
   "execution_count": 1,
   "metadata": {},
   "outputs": [
    {
     "name": "stdout",
     "output_type": "stream",
     "text": [
      "[[0, 0, 1, 0], [1, 1, 1, 1], [0, 0, 0, 0], [1, 1, 1, 1]]\n"
     ]
    }
   ],
   "source": [
    "# Algoritmo de Warshall\n",
    "\n",
    "class Warshall():\n",
    "    def __init__(self):\n",
    "        self.matriz_adj = [[0, 0, 1, 0],\n",
    "                           [1, 0, 0, 1],\n",
    "                           [0, 0, 0, 0],\n",
    "                           [0, 1, 0, 0]]\n",
    "\n",
    "    def met_warshall(self):\n",
    "        for k in range(len(self.matriz_adj[0])):\n",
    "            for i in range(len(self.matriz_adj[0])):\n",
    "                for j in range(len(self.matriz_adj[0])):\n",
    "                        self.matriz_adj[i][j] = self.matriz_adj[i][j] or (\n",
    "                          self.matriz_adj[i][k] and self.matriz_adj[k][j])\n",
    "\n",
    "        return self.matriz_adj\n",
    "\n",
    "\n",
    "grafo = Warshall()\n",
    "print(grafo.met_warshall())\n",
    "\n"
   ]
  }
 ],
 "metadata": {
  "kernelspec": {
   "display_name": "Python 3",
   "language": "python",
   "name": "python3"
  },
  "language_info": {
   "codemirror_mode": {
    "name": "ipython",
    "version": 3
   },
   "file_extension": ".py",
   "mimetype": "text/x-python",
   "name": "python",
   "nbconvert_exporter": "python",
   "pygments_lexer": "ipython3",
   "version": "3.7.6"
  }
 },
 "nbformat": 4,
 "nbformat_minor": 4
}
