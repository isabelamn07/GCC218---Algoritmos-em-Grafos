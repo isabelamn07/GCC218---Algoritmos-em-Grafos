{
 "cells": [
  {
   "cell_type": "markdown",
   "metadata": {},
   "source": [
    "# Matriz de adjacência"
   ]
  },
  {
   "cell_type": "markdown",
   "metadata": {},
   "source": [
    "Outra forma de representar um grafo é utilizar a matriz de adjacência. Nessa estrutura, todos os vértices são representados nas linhas e nas colunas."
   ]
  },
  {
   "cell_type": "markdown",
   "metadata": {},
   "source": [
    "### Exemplo:\n",
    "<img src=\"./Imagens/grafoNaoDirecionadoMatrizAdj.png\">"
   ]
  },
  {
   "cell_type": "markdown",
   "metadata": {},
   "source": [
    "A tabela é montada geralmente com o valor 1 representando a adjacência de dois vértices, ou o valor do peso da aresta. O valor 0 representa a não adjacência, ou outro número (dependendo do contexto) para representar a não ligação entre os vértices em questão."
   ]
  },
  {
   "cell_type": "code",
   "execution_count": 1,
   "metadata": {},
   "outputs": [
    {
     "name": "stdout",
     "output_type": "stream",
     "text": [
      "[[0, 1, 0, 1, 0, 0, 0, 0, 0], [1, 0, 1, 0, 0, 0, 0, 0, 0], [0, 1, 0, 0, 1, 1, 0, 0, 0], [1, 0, 0, 0, 0, 0, 1, 0, 0], [0, 0, 1, 0, 0, 0, 1, 0, 0], [0, 0, 1, 0, 0, 0, 0, 0, 1], [0, 0, 0, 1, 1, 0, 0, 1, 0], [0, 0, 0, 0, 0, 0, 1, 0, 1], [0, 0, 0, 0, 0, 1, 0, 1, 0]]\n"
     ]
    }
   ],
   "source": [
    "# Matriz de adjacência\n",
    "matrizAdj = [[0, 1, 0, 1, 0, 0, 0, 0, 0],\n",
    "             [1, 0, 1, 0, 0, 0, 0, 0, 0],\n",
    "             [0, 1, 0, 0, 1, 1, 0, 0, 0],\n",
    "             [1, 0, 0, 0, 0, 0, 1, 0, 0],\n",
    "             [0, 0, 1, 0, 0, 0, 1, 0, 0],\n",
    "             [0, 0, 1, 0, 0, 0, 0, 0, 1],\n",
    "             [0, 0, 0, 1, 1, 0, 0, 1, 0],\n",
    "             [0, 0, 0, 0, 0, 0, 1, 0, 1],\n",
    "             [0, 0, 0, 0, 0, 1, 0, 1, 0]]\n",
    "print(matrizAdj)"
   ]
  },
  {
   "cell_type": "markdown",
   "metadata": {},
   "source": [
    "### Exemplo grafo direcionado\n",
    "Em grafos direcionados, a única diferença na representação é que não necessariamente temos uma matriz simétrica. Geralmente representamos a relação de adjacência com valores {0, 1}, ou o valor do peso caso exista."
   ]
  },
  {
   "cell_type": "markdown",
   "metadata": {},
   "source": [
    "<img src=\"./Imagens/grafoDirecionadoMatrizAdj2.png\">\n",
    "A adjacência é representada na matriz de um grafo direcionado em relação ao vértice de origem e destino."
   ]
  },
  {
   "cell_type": "markdown",
   "metadata": {},
   "source": [
    "### Exemplo de matriz de um grafo com pesos"
   ]
  },
  {
   "cell_type": "markdown",
   "metadata": {},
   "source": [
    "<img src=\"./Imagens/grafoMatrizAdjPesos.png\">"
   ]
  },
  {
   "cell_type": "code",
   "execution_count": 1,
   "metadata": {},
   "outputs": [],
   "source": [
    "grafo_direcionado = [[0, 18, 33, 0, 0],\n",
    "                     [0, 0, 0, 0, 0],\n",
    "                     [0, 0, 0, 0, 0],\n",
    "                     [22, 25, 0, 0, 49],\n",
    "                     [0, 7, 0, 0, 0]]\n",
    "vertices = [(0, 'F'), (1, 'L'), (2, 'E'), (3, 'H'), (4, 'P')]"
   ]
  },
  {
   "cell_type": "markdown",
   "metadata": {},
   "source": [
    "# Código"
   ]
  },
  {
   "cell_type": "code",
   "execution_count": 21,
   "metadata": {},
   "outputs": [],
   "source": [
    "## Matriz de adjacencia\n",
    "\n",
    "import random\n",
    "from math import inf\n",
    "\n",
    "class Grafo():\n",
    "    def __init__(self, direcionado=False, valorado=False, grafo_matriz_adjacencia=[]):\n",
    "        '''\n",
    "        Construtor padrao, cria uma matriz de adjacencia com zeros para ser preenchida, por padrao os grafos criados sao nao direcionados \n",
    "        e nao valorados, para utilizar grafos direcionados ou valorados e necessario passar o grafo por parametro \n",
    "        Parametros:\n",
    "            direcionado\n",
    "                flag para determinar se o grafo e direcionado ou nao\n",
    "            valorado\n",
    "                flag para determinar se o grafo e valorado ou nao\n",
    "            grafo_adjacencia\n",
    "                matriz de adjacencia passada por parametro\n",
    "        '''\n",
    "        self.grafo_direcionado = direcionado\n",
    "        self.grafo_valorado = valorado\n",
    "        if direcionado == False and not grafo_matriz_adjacencia:\n",
    "            # Tamanho da matriz com o numero de vertices definido aleatoriamente entre 6 e 15\n",
    "            self.tamanho_matriz = random.randrange(6, 15)   \n",
    "            \n",
    "            # Criacao da matriz de adjacencia com zeros em todas as posicoes\n",
    "            if not grafo_matriz_adjacencia and not direcionado:\n",
    "                self.matriz_de_adjacencia = [[0 for x in range(self.tamanho_matriz)] for y in range(self.tamanho_matriz)]\n",
    "            \n",
    "            # Gera adjacencias no grafo\n",
    "            self.criar_grafo_nao_direcionado_nao_valorado()\n",
    "            \n",
    "        if grafo_matriz_adjacencia:\n",
    "            self.matriz_de_adjacencia = grafo_matriz_adjacencia\n",
    "        \n",
    "        # A lista vertices contem todos os vertices presentes no grafo, a lista e atualizada a cada remocao\n",
    "        # ou insercao, como nao existe ordem para adicionar vertices essa lista e importante para encontrar\n",
    "        # os indices na matriz\n",
    "        self.vertices = []\n",
    "        self.tamanho_matriz = len(self.matriz_de_adjacencia)\n",
    "        for i in range(1, self.tamanho_matriz+1, 1):\n",
    "            self.vertices.append(i)\n",
    "            \n",
    "        #print(self.matriz_de_adjacencia)\n",
    "\n",
    "    def criar_grafo_nao_direcionado_nao_valorado(self):\n",
    "        '''\n",
    "           Cria grafos nao valorados criando uma relacao de ajacencia entre vertices aleatoriamente\n",
    "        ''' \n",
    "        for i in range(self.tamanho_matriz):\n",
    "            for j in range(self.tamanho_matriz):\n",
    "                aleatorio = random.uniform(0, 1)\n",
    "                if aleatorio > 0.9:\n",
    "                    self.matriz_de_adjacencia[i][j] = 1\n",
    "                    self.matriz_de_adjacencia[j][i] = 1\n",
    "        print(\"Grafo: \", self.matriz_de_adjacencia)\n",
    "        \n",
    "        matriz_networkx = self.matriz_de_adjacencia\n",
    "        return matriz_networkx\n",
    "\n",
    "    def eh_vizinho(self, u, v):\n",
    "        '''\n",
    "        Funcao que recebe dois vertices e verifica se ambos sao adjacentes \n",
    "        um vertice e considerado adjacente ao outro em uma matriz de adjacencia se\n",
    "        nas posicoes [u][v] e [v][u] para grafos nao direcionados e [u][v] para grafos\n",
    "        direcionados o valor na matriz for diferente de 0\n",
    "        Parametros:\n",
    "            u \n",
    "                vertice de partida\n",
    "            v \n",
    "                vertice de chegada\n",
    "        '''\n",
    "        # u  e v recebem o valor de seu indice na matriz\n",
    "        u = self.vertices.index(u)\n",
    "        v = self.vertices.index(v)\n",
    "        if self.matriz_de_adjacencia[u][v] > 0:\n",
    "            return True\n",
    "        else:\n",
    "            return False\n",
    "\n",
    "    def retorna_vizinhos(self, u):\n",
    "        '''\n",
    "        Retorna todos os vertices adjacentes ao vertice u passado por parametro\n",
    "        Parametros:\n",
    "            u \n",
    "                vertice que queremos conhecer seus vizinhos\n",
    "        '''        \n",
    "        vizinhos = []\n",
    "        # u precisa estar presente no grafo\n",
    "        if u in self.vertices:\n",
    "            u = self.vertices.index(u)\n",
    "            for i in range(len(self.matriz_de_adjacencia)):\n",
    "                # Os vizinhos de u, sao os valores de v que tem valor diferente de 0 na linha \n",
    "                # do vertice u da matriz\n",
    "                if self.matriz_de_adjacencia[u][i] != 0:\n",
    "                    index = self.vertices[i]\n",
    "                    vizinhos.append(index)\n",
    "            return vizinhos\n",
    "\n",
    "    \n",
    "    def inserir_vertice(self, u):\n",
    "        '''\n",
    "        Insere um vertice por vez na matriz, é possivel inserir um vertice isolado e determinar se o grafo é direcionado ou nao\n",
    "        Parametros\n",
    "            u \n",
    "                vertice a ser adicionado\n",
    "        '''\n",
    "           \n",
    "        if u not in self.vertices:\n",
    "            self.vertices.append(u)\n",
    "            self.tamanho_matriz += 1\n",
    "            for i in range(len(self.matriz_de_adjacencia)):\n",
    "                self.matriz_de_adjacencia[i].append(0)\n",
    "            linha = []\n",
    "            for j in range(self.tamanho_matriz):\n",
    "                linha.append(0)\n",
    "            self.matriz_de_adjacencia.append(linha)\n",
    "               \n",
    "            print(\"Matriz de adjacencia apos inserir o vertice : \", self.vertices[-1], self.matriz_de_adjacencia, \"\\n\")\n",
    "\n",
    "    \n",
    "    def inserir_aresta(self, u, v, peso, direcionado=False):\n",
    "        '''\n",
    "        Insere uma aresta no grafo e seu respectivo peso, caso tenha. Por padrao o grafo e considerado nao direcionado, para inseir uma aresta \n",
    "        direcionada e necessario adcionar a flag True como parametro\n",
    "        Parametros:\n",
    "            u \n",
    "                vertice de partida\n",
    "            v \n",
    "                vertice de chegada\n",
    "            peso \n",
    "                valor do peso da aresta\n",
    "            direcionado \n",
    "                se o grafo e direcionado ou nao\n",
    "        '''\n",
    "        if u in self.vertices and v in self.vertices:\n",
    "            u = self.vertices.index(u)\n",
    "            v = self.vertices.index(v)\n",
    "            if not direcionado and peso == 0:\n",
    "                self.matriz_de_adjacencia[u][v] = 1\n",
    "                self.matriz_de_adjacencia[v][u] = 1\n",
    "            elif not direcionado and peso != 0:\n",
    "                self.matriz_de_adjacencia[u][v] = peso\n",
    "                self.matriz_de_adjacencia[v][u] = peso\n",
    "            elif direcionado and peso != 0:\n",
    "                self.matriz_de_adjacencia[u][v] = peso\n",
    "        else:\n",
    "            print(\"Algum dos vertices ou ambos nao existem\")\n",
    "    \n",
    "    def gerar_lista_de_arestas(self):\n",
    "        '''\n",
    "        Retorna um lista contendo todas arestas do grafo (u, v)\n",
    "        '''\n",
    "        arestas = []\n",
    "        for i in self.vertices:\n",
    "            for j in self.vertices:\n",
    "                # Se os vertices forem adjacentes na matriz, (u, v) e adicionado a arestas\n",
    "                \n",
    "                if self.matriz_de_adjacencia[self.vertices.index(i)][self.vertices.index(j)]:\n",
    "                    arestas.append((i, j))\n",
    "        return arestas\n",
    "\n",
    "    def remover_vertice(self, u):\n",
    "        '''\n",
    "        Remove um vertice da matriz, para tanto a funcao remove a linha e a coluna\n",
    "        do vertice passado por parametro\n",
    "        Parametros: \n",
    "            u \n",
    "                vertice que queremos remover\n",
    "        '''\n",
    "        if u in self.vertices:\n",
    "            index_u = self.vertices.index(u)\n",
    "            self.vertices.remove(self.vertices[index_u])\n",
    "            # deleta toda a linha que corresponde ao vertice u\n",
    "            del self.matriz_de_adjacencia[index_u]\n",
    "            for i in range(len(self.matriz_de_adjacencia)):\n",
    "                # deleta toda a coluna do vertice u\n",
    "                del self.matriz_de_adjacencia[i][index_u]\n",
    "\n",
    "            print(\"Matriz ao remover o vertice u: \", u, self.matriz_de_adjacencia, \"\\n\")\n",
    "\n",
    "    def remover_aresta(self, u, v):\n",
    "        '''\n",
    "        Remove uma aresta (u, v), para tanto basta na matriz atribuir o valor 0\n",
    "        que reprensenta que dois vertices nao sao adjacentes\n",
    "        Parametros:\n",
    "            u \n",
    "                vertice de partida\n",
    "            v \n",
    "                vertice de chegada\n",
    "        '''\n",
    "        if u in self.vertices and v in self.vertices:\n",
    "            index_u = self.vertices.index(u)\n",
    "            index_v = self.vertices.index(v)\n",
    "            if not self.grafo_direcionado:\n",
    "                self.matriz_de_adjacencia[index_u][index_v] = 0\n",
    "                self.matriz_de_adjacencia[index_v][index_u] = 0\n",
    "            else:\n",
    "                self.matriz_de_adjacencia[index_u][index_v] = 0\n",
    "            print(\"Matriz de adjacencia ao remover (u,v) \",\n",
    "                  u, v, self.matriz_de_adjacencia, \"\\n\")\n",
    "        else:\n",
    "            print(\"Algum dos vertices ou ambos nao existem no grafo\")     \n",
    "\n",
    "\n",
    "    def deletar_grafo(self):\n",
    "        '''\n",
    "        Deleta a matriz\n",
    "        '''\n",
    "        del self.matriz_de_adjacencia\n",
    "\n",
    "    def matriz_de_adjacencia_para_lista(self):\n",
    "        '''\n",
    "        Metodo para tranforma a matriz de adjacencia em lista de adjacencia, a lista\n",
    "        de adjacencia usa a estrutura dict\n",
    "        '''\n",
    "        # A lista adjacencias recebe as listas com os vizinhos de cada vertice presente\n",
    "        # no grafo\n",
    "        adjacencias = []\n",
    "\n",
    "        for i in self.vertices:\n",
    "            adjacencias.append(self.retorna_vizinhos(i))        \n",
    "        \n",
    "        \n",
    "        self.lista_adjacencia = {}\n",
    "        for i in self.vertices:\n",
    "            self.lista_adjacencia.update({i: {}} )   \n",
    "            \n",
    "        if not self.grafo_valorado:            \n",
    "            for i in range(len(adjacencias)):\n",
    "                for j in range(len(adjacencias[i])):\n",
    "                    self.lista_adjacencia[self.vertices[i]].update({adjacencias[i][j]: 0})\n",
    "        else:\n",
    "            for i in range(len(adjacencias)):\n",
    "                for j in range(len(adjacencias[i])):                    \n",
    "                    self.lista_adjacencia[self.vertices[i]].update({adjacencias[i][j]: \n",
    "                        self.matriz_de_adjacencia[self.vertices.index(self.vertices[i])][self.vertices.index(adjacencias[i][j])]})\n",
    "        \n",
    "        #print('Adjacencias', adjacencias)\n",
    "        print(\"Lista de adjacencia: \", self.lista_adjacencia)    \n",
    "        return self.lista_adjacencia\n",
    "       \n",
    "    def matriz_de_adjacencia_para_matriz_de_incidencia(self):\n",
    "        '''\n",
    "        Metodo para criar uma matriz de incidencia a partir de uma matriz de adjacencia\n",
    "        '''\n",
    "        arestas = []\n",
    "        arestas = (self.gerar_lista_de_arestas())        \n",
    "\n",
    "        # cria uma matriz com tamanho num_vertices x num_arestas de zeros\n",
    "        self.matriz_de_incidencia = [\n",
    "            [0 for x in range(len(arestas))] for y in range(self.tamanho_matriz)]\n",
    "        \n",
    "        if not self.grafo_valorado and not self.grafo_direcionado:\n",
    "            for i in range(len(self.vertices)):\n",
    "                for j in range(len(arestas)):\n",
    "                    # verifica adjacencia para indicar a incidencia\n",
    "                    if self.vertices[i] in arestas[j]:\n",
    "                        self.matriz_de_incidencia[i][j] = 1\n",
    "                        self.matriz_de_incidencia[self.vertices.index(arestas[j][1])][j] = 1\n",
    "                        \n",
    "        if not self.grafo_valorado and self.grafo_direcionado:\n",
    "            for i in range(len(self.vertices)):\n",
    "                for j in range(len(arestas)):\n",
    "                    # verifica adjacencia para indicar a incidencia\n",
    "                    if self.vertices[i] in arestas[j]:\n",
    "                        if arestas[j][0] != arestas[j][1]:\n",
    "                            self.matriz_de_incidencia[i][j] = 1\n",
    "                            self.matriz_de_incidencia[self.vertices.index(arestas[j][1])][j] = -1\n",
    "                        else:\n",
    "                            self.matriz_de_incidencia[i][j] = 2\n",
    "\n",
    "                        \n",
    "        elif self.grafo_direcionado and self.grafo_valorado:\n",
    "            for i in range(len(self.vertices)):\n",
    "                for j in range(len(arestas)):\n",
    "                    # verifica adjacencia para indicar incidencia\n",
    "                    if self.vertices[i] in arestas[j] and self.vertices[i] == arestas[j][0]:\n",
    "                        self.matriz_de_incidencia[i][j] =  \\\n",
    "                        self.matriz_de_adjacencia[self.vertices.index(arestas[j][0])][self.vertices.index(arestas[j][1])]\n",
    "                    elif self.vertices[i] in arestas[j] and self.vertices[i] == arestas[j][1]:\n",
    "                        self.matriz_de_incidencia[i][j] =  \\\n",
    "                        -self.matriz_de_adjacencia[self.vertices.index(arestas[j][0])][self.vertices.index(arestas[j][1])]\n",
    "        \n",
    "        elif self.grafo_direcionado and not self.grafo_valorado:\n",
    "            for i in range(len(self.vertices)):\n",
    "                for j in range(len(arestas)):\n",
    "                    # verifica adjacencia para indicar incidencia\n",
    "                    if self.vertices[i] in arestas[j] and self.vertices[i] == arestas[j][0]:\n",
    "                        self.matriz_de_incidencia[i][j] =  1\n",
    "                    elif self.vertices[i] in arestas[j] and self.vertices[i] == arestas[j][1]:\n",
    "                        self.matriz_de_incidencia[i][j] =  -1\n",
    "      \n",
    "\n",
    "        print(\"Arestas: \", arestas)\n",
    "        print(\"Matriz de incidencia: \", self.matriz_de_incidencia, \"\\n\")\n",
    "\n",
    "    def gerar_subgrafo_ind_vertices(self):\n",
    "        '''\n",
    "        Gera um subgrafo induzido por vertices escolhendo de forma aleatoria a quantidade\n",
    "        e quais vertices a serem retirados.\n",
    "        '''\n",
    "\n",
    "        num_of_vertices = len(self.vertices)\n",
    "        print(\"Numero de vertices: \", num_of_vertices)\n",
    "        qntde_vertices_a_remover = random.randrange(0, num_of_vertices+1)\n",
    "        print(\"Quantidade de vertices a remover: \", qntde_vertices_a_remover)\n",
    "\n",
    "        vertices_a_remover = []\n",
    "        vertices_a_remover.extend(random.sample(\n",
    "            self.vertices, qntde_vertices_a_remover))\n",
    "        print(\"Vertices a remover: \", vertices_a_remover)\n",
    "\n",
    "        for i in vertices_a_remover:\n",
    "            self.remover_vertice(i)\n",
    "        print(\"Vertices presentes: \", self.vertices)\n",
    "        print('Matriz atualizada: ', self.matriz_de_adjacencia, \"\\n\")\n",
    "\n",
    "    def gerar_subgrafo_ind_arestas(self):\n",
    "        '''\n",
    "        Gera um subgrafo induzido por vertices escolhendo de forma aleatoria a quantidade\n",
    "        e quais vertices a serem retirados.\n",
    "        '''\n",
    "        arestas = []\n",
    "        arestas.extend(self.gerar_lista_de_arestas())\n",
    "        print('Arestas presentes: ', arestas)\n",
    "        print(\"Numero de arestas: \", len(arestas))\n",
    "        qntde_arestas_a_remover = random.randrange(0, len(arestas)+1)\n",
    "        print(\"Quantidade de arestas a remover: \",\n",
    "              qntde_arestas_a_remover)\n",
    "\n",
    "        arestas_a_remover = []\n",
    "        arestas_a_remover.extend(random.sample(\n",
    "            arestas, qntde_arestas_a_remover))\n",
    "        print(\"arestas a remover: \", arestas_a_remover)\n",
    "\n",
    "        for i in range(len(arestas_a_remover)):\n",
    "            for j in range(1):\n",
    "                self.remover_aresta(\n",
    "                    arestas_a_remover[i][j], arestas_a_remover[i][j+1])\n",
    "\n",
    "        print(\"Arestas presentes: \", self.gerar_lista_de_arestas())\n",
    "        print('Matriz atualizada: ', self.matriz_de_adjacencia, \"\\n\")\n"
   ]
  },
  {
   "cell_type": "code",
   "execution_count": 22,
   "metadata": {},
   "outputs": [],
   "source": [
    "## obs: para executar essa célula é necessário antes executar células anteriores respectivas ao código\n",
    "\n",
    "# Matriz de adjacencia:\n",
    "grafo_direcionado = [[0, 18, 33, 0, 0],\n",
    "                     [0, 0, 0, 0, 0],\n",
    "                     [0, 0, 0, 0, 0],\n",
    "                     [22, 25, 0, 0, 49],\n",
    "                     [0, 7, 0, 0, 0]]\n",
    "\n",
    "\n",
    "grafo = Grafo(True, True, grafo_direcionado)\n"
   ]
  },
  {
   "cell_type": "code",
   "execution_count": 23,
   "metadata": {},
   "outputs": [
    {
     "name": "stdout",
     "output_type": "stream",
     "text": [
      "Lista de adjacencia:  {1: {2: 18, 3: 33}, 2: {}, 3: {}, 4: {1: 22, 2: 25, 5: 49}, 5: {2: 7}}\n"
     ]
    },
    {
     "data": {
      "image/png": "[encoded data removed]",
      "text/plain": [
       "<Figure size 432x288 with 1 Axes>"
      ]
     },
     "metadata": {},
     "output_type": "display_data"
    }
   ],
   "source": [
    "## obs: para executar essa célula é necessário antes executar células anteriores respectivas ao código\n",
    "\n",
    "###########  Desenhando o grafo com networkx e matplotlib ############\n",
    "import networkx as nx\n",
    "import matplotlib.pyplot as plt\n",
    "\n",
    "# O grafo é gerado aleatoriamente, a cada execução do algotimo, um diferente grafo será criado\n",
    "lista_adjacencia = grafo.matriz_de_adjacencia_para_lista()\n",
    "G = nx.DiGraph(lista_adjacencia)\n",
    "nx.draw(G, with_labels=True, font_weight='bold', node_size=600, font_size=18, width=4, font_color='w')\n",
    "plt.show()"
   ]
  },
  {
   "cell_type": "code",
   "execution_count": 24,
   "metadata": {},
   "outputs": [
    {
     "name": "stdout",
     "output_type": "stream",
     "text": [
      "o vértice 1 é vizinho do vértice 3?  True\n"
     ]
    }
   ],
   "source": [
    "## obs: para executar essa célula é necessário antes executar células anteriores respectivas ao código\n",
    "\n",
    "print(\"o vértice 1 é vizinho do vértice 3? \", grafo.eh_vizinho(1, 3))"
   ]
  },
  {
   "cell_type": "code",
   "execution_count": 25,
   "metadata": {},
   "outputs": [
    {
     "name": "stdout",
     "output_type": "stream",
     "text": [
      "Retorna os vizinhos de 5:  [2]\n"
     ]
    }
   ],
   "source": [
    "print(\"Retorna os vizinhos de 5: \", grafo.retorna_vizinhos(5))"
   ]
  },
  {
   "cell_type": "code",
   "execution_count": 26,
   "metadata": {},
   "outputs": [
    {
     "name": "stdout",
     "output_type": "stream",
     "text": [
      "Matriz de adjacencia apos inserir o vertice :  20 [[0, 18, 33, 0, 0, 0], [0, 0, 0, 0, 0, 0], [0, 0, 0, 0, 0, 0], [22, 25, 0, 0, 49, 0], [0, 7, 0, 0, 0, 0], [0, 0, 0, 0, 0, 0]] \n",
      "\n"
     ]
    }
   ],
   "source": [
    "grafo.inserir_vertice(20)"
   ]
  },
  {
   "cell_type": "code",
   "execution_count": 27,
   "metadata": {},
   "outputs": [
    {
     "name": "stdout",
     "output_type": "stream",
     "text": [
      "Algum dos vertices ou ambos nao existem\n"
     ]
    }
   ],
   "source": [
    "grafo.inserir_aresta(1, 6, 0)"
   ]
  },
  {
   "cell_type": "code",
   "execution_count": 28,
   "metadata": {},
   "outputs": [
    {
     "name": "stdout",
     "output_type": "stream",
     "text": [
      "Matriz de adjacencia ao remover (u,v)  2 4 [[0, 18, 33, 0, 0, 0], [0, 0, 0, 0, 0, 0], [0, 0, 0, 0, 0, 0], [22, 25, 0, 0, 49, 0], [0, 7, 0, 0, 0, 0], [0, 0, 0, 0, 0, 0]] \n",
      "\n"
     ]
    }
   ],
   "source": [
    "grafo.remover_aresta(2, 4)"
   ]
  },
  {
   "cell_type": "code",
   "execution_count": 29,
   "metadata": {},
   "outputs": [
    {
     "name": "stdout",
     "output_type": "stream",
     "text": [
      "Matriz ao remover o vertice u:  3 [[0, 18, 0, 0, 0], [0, 0, 0, 0, 0], [22, 25, 0, 49, 0], [0, 7, 0, 0, 0], [0, 0, 0, 0, 0]] \n",
      "\n"
     ]
    }
   ],
   "source": [
    "grafo.remover_vertice(3)"
   ]
  },
  {
   "cell_type": "code",
   "execution_count": 30,
   "metadata": {},
   "outputs": [],
   "source": [
    "#grafo.deletar_grafo()"
   ]
  },
  {
   "cell_type": "code",
   "execution_count": 31,
   "metadata": {},
   "outputs": [
    {
     "name": "stdout",
     "output_type": "stream",
     "text": [
      "Lista de adjacencia:  {1: {2: 18}, 2: {}, 4: {1: 22, 2: 25, 5: 49}, 5: {2: 7}, 20: {}}\n"
     ]
    },
    {
     "data": {
      "text/plain": [
       "{1: {2: 18}, 2: {}, 4: {1: 22, 2: 25, 5: 49}, 5: {2: 7}, 20: {}}"
      ]
     },
     "execution_count": 31,
     "metadata": {},
     "output_type": "execute_result"
    }
   ],
   "source": [
    "grafo.matriz_de_adjacencia_para_lista()"
   ]
  },
  {
   "cell_type": "code",
   "execution_count": 32,
   "metadata": {},
   "outputs": [
    {
     "name": "stdout",
     "output_type": "stream",
     "text": [
      "Arestas:  [(1, 2), (4, 1), (4, 2), (4, 5), (5, 2)]\n",
      "Matriz de incidencia:  [[18, -22, 0, 0, 0], [-18, 0, -25, 0, -7], [0, 22, 25, 49, 0], [0, 0, 0, -49, 7], [0, 0, 0, 0, 0], [0, 0, 0, 0, 0]] \n",
      "\n"
     ]
    }
   ],
   "source": [
    "grafo.matriz_de_adjacencia_para_matriz_de_incidencia()"
   ]
  },
  {
   "cell_type": "code",
   "execution_count": 33,
   "metadata": {},
   "outputs": [
    {
     "name": "stdout",
     "output_type": "stream",
     "text": [
      "Numero de vertices:  5\n",
      "Quantidade de vertices a remover:  5\n",
      "Vertices a remover:  [4, 2, 1, 20, 5]\n",
      "Matriz ao remover o vertice u:  4 [[0, 18, 0, 0], [0, 0, 0, 0], [0, 7, 0, 0], [0, 0, 0, 0]] \n",
      "\n",
      "Matriz ao remover o vertice u:  2 [[0, 0, 0], [0, 0, 0], [0, 0, 0]] \n",
      "\n",
      "Matriz ao remover o vertice u:  1 [[0, 0], [0, 0]] \n",
      "\n",
      "Matriz ao remover o vertice u:  20 [[0]] \n",
      "\n",
      "Matriz ao remover o vertice u:  5 [] \n",
      "\n",
      "Vertices presentes:  []\n",
      "Matriz atualizada:  [] \n",
      "\n"
     ]
    }
   ],
   "source": [
    "grafo.gerar_subgrafo_ind_vertices()"
   ]
  },
  {
   "cell_type": "code",
   "execution_count": 18,
   "metadata": {},
   "outputs": [
    {
     "name": "stdout",
     "output_type": "stream",
     "text": [
      "Arestas presentes:  []\n",
      "Numero de arestas:  0\n",
      "Quantidade de arestas a remover:  0\n",
      "arestas a remover:  []\n",
      "Arestas presentes:  []\n",
      "Matriz atualizada:  [] \n",
      "\n"
     ]
    }
   ],
   "source": [
    "grafo.gerar_subgrafo_ind_arestas()"
   ]
  }
 ],
 "metadata": {
  "kernelspec": {
   "display_name": "Python 3",
   "language": "python",
   "name": "python3"
  },
  "language_info": {
   "codemirror_mode": {
    "name": "ipython",
    "version": 3
   },
   "file_extension": ".py",
   "mimetype": "text/x-python",
   "name": "python",
   "nbconvert_exporter": "python",
   "pygments_lexer": "ipython3",
   "version": "3.8.5"
  }
 },
 "nbformat": 4,
 "nbformat_minor": 4
}
