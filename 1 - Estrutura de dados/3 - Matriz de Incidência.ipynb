{
 "cells": [
  {
   "cell_type": "markdown",
   "metadata": {},
   "source": [
    "### Matriz de Incidência\n",
    "Na matriz de incidência, as linhas e colunas são representadas pelos os vértices e pelas arestas, respectivamente, indicando as relações de adjacência.\n",
    "### Exemplo de matriz de incidência de um grafo não orientado não valorado"
   ]
  },
  {
   "cell_type": "markdown",
   "metadata": {},
   "source": [
    "<img src=\"./Imagens/grafoNaoOrientadoMatrizInc.png\" alt=\"grafo nao orientado\">"
   ]
  },
  {
   "cell_type": "code",
   "execution_count": 2,
   "metadata": {},
   "outputs": [],
   "source": [
    "matriz_de_incidencia = [[1, 0, 1, 0, 0, 0, 0, 0, 0, 0],[1, 1, 0, 0, 0, 0, 0, 0, 0, 0, 0, 0],\n",
    "              [0, 1, 0, 1, 0, 0, 1, 0, 0, 0],[0, 0, 1, 0, 1, 0, 0, 0, 0, 0, 0, 0],\n",
    "              [0, 0, 0, 0, 0, 1, 1, 0, 0, 0],[0, 0, 0, 1, 0, 0, 0, 0, 0, 0, 0, 1],\n",
    "              [0, 0, 0, 0, 1, 1, 0, 1, 0, 0],[0, 0, 0, 0, 0, 0, 0, 0, 0, 1, 1, 0],\n",
    "              [0, 0, 0, 0, 0, 0, 0, 0, 1, 1]]\n",
    "arestas = [(1, 2), (2, 3), (1, 4), (3, 6), (4, 7), (5, 7), (3, 5), (7, 8), (8, 9), (6, 9)]\n",
    "vertices = [1, 2, 3, 4, 5, 6, 7, 8, 9]"
   ]
  },
  {
   "cell_type": "markdown",
   "metadata": {},
   "source": [
    "### Grafo direcionado não valorado\n",
    "\n",
    "<img src=\"./Imagens/grafoOrientadoNãoValorado.png\" alt=\"Grafo direcionado nao valorado\"> "
   ]
  },
  {
   "cell_type": "code",
   "execution_count": 3,
   "metadata": {},
   "outputs": [],
   "source": [
    "# O valor 2 na matriz representa loop neste caso.\n",
    "matriz_de_incidencia = [[2, 1, 1, 0, 0, 0, 1, 0, 0, 0, 0],\n",
    "            [0, 0, -1, 0, 0, -1, 0, 0, -1, 0, 0],\n",
    "            [0, 0, 0, 0, -1, 1, 0, 0, 0, 0, -1],\n",
    "            [0, 0, 0, -1, 1, 0, 0, 0, 0, -1, 0],\n",
    "            [0, -1, 0, 1, 0, 0, 0, -1, 0, 0, 0],\n",
    "            [0, 0, 0, 0, 0, 0, -1, 1, 1, 1, 1 ]]"
   ]
  },
  {
   "cell_type": "markdown",
   "metadata": {},
   "source": [
    "### Grafo Direcionado Valorado\n"
   ]
  },
  {
   "cell_type": "markdown",
   "metadata": {},
   "source": [
    "<img src=\"./Imagens/grafoDirecionadoValorado.png\" alt=\"Grafo direcionado com pesos e tabela de incidência\">"
   ]
  },
  {
   "cell_type": "code",
   "execution_count": 4,
   "metadata": {},
   "outputs": [],
   "source": [
    "pesos = {'a1': 18, 'a2': 22, 'a3': 33, 'a4':25, 'a5': 49, 'a6': 7}"
   ]
  },
  {
   "cell_type": "markdown",
   "metadata": {},
   "source": [
    "# Código"
   ]
  },
  {
   "cell_type": "code",
   "execution_count": 30,
   "metadata": {},
   "outputs": [],
   "source": [
    "import random\n",
    "from math import inf\n",
    "\n",
    "class Grafo():\n",
    "    def __init__(self, direcionado=False, valorado=False, grafo_matriz_incidencia=[]):\n",
    "        '''\n",
    "        Construtor padrao, cria uma matriz de adjacencia com zeros para ser preenchida, por padrao os grafos criados sao nao direcionados \n",
    "        e nao valorados, para utilizar grafos direcionados ou valorados e necessario passar o grafo por parametro \n",
    "        Parametros:\n",
    "            direcionado\n",
    "                flag para determinar se o grafo e direcionado ou nao\n",
    "            valorado\n",
    "                flag para determinar se o grafo e valorado ou nao\n",
    "            grafo_matriz_incidencia\n",
    "                matriz de incidencia passada por parametro\n",
    "        '''        \n",
    "        self.numero_vertices = len(grafo_matriz_incidencia)\n",
    "        self.numero_arestas = len(grafo_matriz_incidencia[0])        \n",
    "        self.grafo_direcionado = direcionado\n",
    "        self.grafo_valorado = valorado\n",
    "        self.matriz_de_incidencia = grafo_matriz_incidencia\n",
    "        \n",
    "        # Lista com os vertices presentes no grafo\n",
    "        self.vertices = [x for x in range(self.numero_vertices)]\n",
    "        # as arestas sao representadas pelas colunas na matriz         \n",
    "\n",
    "    def eh_vizinho(self, u, v):\n",
    "        '''\n",
    "        Metodo para verificar se dois vertices (u, v) sao adjacentes\n",
    "        Paremetros:\n",
    "            u\n",
    "                vertice presente no grafo\n",
    "            v\n",
    "                vertice presente no grafo\n",
    "        Retorno:\n",
    "            True ou False\n",
    "        '''\n",
    "\n",
    "        vizinho = True\n",
    "        # A lista self.vertices possui todos os vertices presentes no grafo\n",
    "        if u in self.vertices and v in self.vertices:\n",
    "            index_u = self.vertices.index(u)\n",
    "            for i in range(self.numero_vertices):\n",
    "                # As linhas da matriz representam os vertices e as colunas as arestas\n",
    "                # dois vertices sao adjacentes quando self.matriz_de_incicia[i][j] != 0\n",
    "                if self.matriz_de_incidencia[u][i] != 0:\n",
    "                    return True\n",
    "                else:\n",
    "                    return False\n",
    "        else:\n",
    "            print(\"Algum ou ambos os vertices nao estao presentes no grafo\")\n",
    "            \n",
    "    def retorna_vizinhos(self, u):\n",
    "        '''\n",
    "        Retorna os vizinhos de um vertice u\n",
    "        Parametros:\n",
    "            u\n",
    "                vertice presente no grafo para encontrar seus vizinhos\n",
    "        Retorno:\n",
    "            vertices adjacentes a u\n",
    "        '''\n",
    "        \n",
    "        if u in self.vertices:\n",
    "            index_u = self.vertices.index(u)\n",
    "        vizinhos = []\n",
    "\n",
    "        # Para encontrar os vizinhos de u, precisamos percorrer as colunas(que representam as arestas)\n",
    "        # e encontrar os vertices adjacentes.\n",
    "        for i in range(self.numero_arestas):\n",
    "            if self.matriz_de_incidencia[index_u][i] != 0:\n",
    "                for j in range(self.numero_vertices):\n",
    "                    if self.matriz_de_incidencia[j][i] != 0:\n",
    "                        if j != index_u:\n",
    "                            vizinhos.append(self.vertices[j])\n",
    "\n",
    "        return vizinhos\n",
    " \n",
    "    \n",
    "    def inserir_vertice(self, u):\n",
    "        '''\n",
    "        Insere um vertice u na matriz de incidencia, para tanto e preciso \n",
    "        adicionar uma nova \"linha\" na matriz\n",
    "        '''\n",
    "        # Caso o vertice u nao exista no grafo, ele sera adicionado\n",
    "\n",
    "        if u not in self.vertices:\n",
    "            # lista com o novo vertice que sera adicionado\n",
    "            novo_vertice = []\n",
    "            for i in range(self.numero_arestas):\n",
    "                novo_vertice.append(0)\n",
    "            # Atualizacao dos numeros e lista de vertices\n",
    "            self.numero_vertices += 1\n",
    "            self.vertices.append(u)\n",
    "            self.matriz_de_incidencia.append(novo_vertice)\n",
    "            print(\"Matriz apos adicionar o vertice {}: {}\".format(u, self.matriz_de_incidencia), \"\\n\")\n",
    "        else:\n",
    "            print(\"Vertice ja existe no grafo\")\n",
    "\n",
    "    def inserir_aresta(self, u, v, peso=0):\n",
    "        '''\n",
    "        Para inserir uma aresta no grafo, e adicionado a matriz de incidencia \n",
    "        uma nova coluna\n",
    "        '''\n",
    "        if u in self.vertices and v in self.vertices:\n",
    "            index_u = self.vertices.index(u) \n",
    "            index_v = self.vertices.index(v)\n",
    "            if self.eh_vizinho(u, v):\n",
    "                print(\"aresta já existe\")\n",
    "            else:\n",
    "                for i in range(self.numero_vertices):\n",
    "                    # i representa os vertices da matriz\n",
    "                    if self.grafo_direcionado and self.grafo_valorado:\n",
    "                        if i == index_u:\n",
    "                            self.matriz_de_incidencia[i].append(peso)\n",
    "                        elif  i == index_v:\n",
    "                            self.matriz_de_incidencia[i].append(-peso)\n",
    "                        else:\n",
    "                            self.matriz_de_incidencia[i].append(0)\n",
    "                    elif self.grafo_direcionado and not self.grafo_valorado:\n",
    "                        if i == index_u:\n",
    "                            self.matriz_de_incidencia[i].append(1)\n",
    "                        elif  i == index_v:\n",
    "                            self.matriz_de_incidencia[i].append(-1)\n",
    "                        elif index_u == i == index_v:\n",
    "                            self.matriz_de_incidencia[i].append(2)\n",
    "                        else:\n",
    "                            self.matriz_de_incidencia[i].append(0)\n",
    "                    elif not self.grafo_direcionado and self.grafo_valorado:\n",
    "                        if i == index_u or i == index_v:\n",
    "                            self.matriz_de_incidencia[i].append(peso)\n",
    "                        else:\n",
    "                            self.matriz_de_incidencia[i].append(0)\n",
    "                    elif not self.grafo_direcionado and not self.grafo_valorado:\n",
    "                        if i == index_u or i == index_v:\n",
    "                            self.matriz_de_incidencia[i].append(1)\n",
    "                        else:\n",
    "                            self.matriz_de_incidencia[i].append(0)\n",
    "                            \n",
    "                self.numero_arestas += 1\n",
    "            print(\"Matriz de Incidencia ao adicionar aresta: \", self.matriz_de_incidencia, \"\\n\")\n",
    "        else:\n",
    "            print(\"Algum dos vertices ou ambos nao estao no grafo\\n\")\n",
    "\n",
    "    def gerar_grafo_arestas(self):\n",
    "        '''\n",
    "        Gera um lista com as arestas do grafo a partir da matriz de incidencia\n",
    "        '''\n",
    "        aux = []\n",
    "        arestas = []\n",
    "        # Na matiriz de incidencia que utilizamos, os vertices adjacentes\n",
    "        # sao aqueles que possuem valor maior que 0 e que ocupam a mesma coluna\n",
    "        # da matriz, logo para encontrar os vertices adjacentes, percorremos a matriz\n",
    "        # e encontramos os indices que representam os vertices adjacentes.\n",
    "        for i in range(len(self.matriz_de_incidencia[0])):\n",
    "            for j in range(len(self.matriz_de_incidencia)):\n",
    "                if self.matriz_de_incidencia[j][i] != 0:\n",
    "                    aux.append(j)\n",
    "        \n",
    "        # As aerstas sao representadas por tuplas (u, v), essa funcao FOR apenas\n",
    "        # preenche a lista aresta com as arestas.\n",
    "        for i in range(0, len(aux), 2):\n",
    "            arestas.append((self.vertices[aux[i]], self.vertices[aux[i+1]]))\n",
    "\n",
    "        return arestas\n",
    "                   \n",
    "    \n",
    "    def remover_vertice(self, u):\n",
    "        '''\n",
    "        Para remover um vertice e necessario remover todas as arestas incidentes\n",
    "        Parametros:\n",
    "            u\n",
    "                vertice a se remover\n",
    "        '''        \n",
    "        colunas = []\n",
    "        # Para um vertice ser removido, ele precisa existir no grafo\n",
    "        if u in self.vertices:\n",
    "            index_u = self.vertices.index(u)\n",
    "            # A lista colunas recebe o indice das arestas incidentes ao vertice a ser removido\n",
    "            for i in range(self.numero_arestas):\n",
    "                if self.matriz_de_incidencia[index_u][i] > 0:\n",
    "                    colunas.append(i)\n",
    "                    #print(\"colunas i: \", colunas)\n",
    "        else:\n",
    "            print(\"Nao existe o vertice informado no grafo\")\n",
    "\n",
    "        # Primeiro removemos as arestas da matriz, de forma decrescente para nao precisar atualizar\n",
    "        # o valor dos indices das colunas na matriz\n",
    "        if colunas:\n",
    "            for j in range(len(colunas)-1, -1, -1):\n",
    "                for i in range(self.numero_vertices):                \n",
    "                    del self.matriz_de_incidencia[i][colunas[j]]\n",
    "        \n",
    "            # Removemos o vertice, deletando a linha que o representa na matriz\n",
    "            del self.matriz_de_incidencia[index_u]\n",
    "            self.numero_vertices -= 1\n",
    "            self.numero_arestas -= len(colunas)\n",
    "            self.vertices.remove(u)       \n",
    "\n",
    "            print(\"Matriz ao remover o vertice {}: {}\".format(u, self.matriz_de_incidencia), \"\\n\")\n",
    "    \n",
    "    def remover_aresta(self, u, v):\n",
    "        '''\n",
    "        Metodo para remover uma aresta por vez do grafo\n",
    "        Parametros:\n",
    "            u\n",
    "                vertice presente no grafo que possui adjacencia a v\n",
    "            v \n",
    "                vertice presente no graof que possui adjacencia a u\n",
    "        '''\n",
    "        # Verifica que u e v estao presentes no grafo\n",
    "        if u in self.vertices and v in self.vertices:\n",
    "            # Verifica se sao adjacentes\n",
    "            if self.eh_vizinho(u, v):\n",
    "                # Atribuicao dos indices dos vertices na matriz\n",
    "                u = self.vertices.index(u)\n",
    "                v = self.vertices.index(v)\n",
    "                for i in range(self.numero_arestas):\n",
    "                    # Verifica em que posicao se encontra a aresta que queremos remover\n",
    "                    if self.matriz_de_incidencia[u][i] > 0 and self.matriz_de_incidencia[v][i] != 0:\n",
    "                        aresta = i\n",
    "                for i in range(self.numero_vertices):\n",
    "                    # A aresta é removida\n",
    "                    del self.matriz_de_incidencia[i][aresta]\n",
    "                # Atualizacao do numero de arestas\n",
    "                self.numero_arestas -= 1                \n",
    "            else:\n",
    "                print(\"a aresta {} nao existe no grafo\".format((u, v)))\n",
    "        else:\n",
    "            print(\"Algum dos vertices ou ambos nao existem no grafo\")\n",
    "        \n",
    "        print(\"Matriz ao remover a arestas (u, v):\", self.matriz_de_incidencia, \"\\n\")\n",
    "\n",
    "    def deletar_grafo(self):\n",
    "        '''\n",
    "        Deleta a matriz de incidencia\n",
    "        '''\n",
    "        del self.matriz_de_incidencia\n",
    "    \n",
    "    def matriz_de_incidencia_para_lista(self):\n",
    "        '''\n",
    "        Metodo para passar a matriz de incidencia para lista de adjacencia\n",
    "        '''\n",
    "        # Cria a lista\n",
    "        self.lista_adjacencia = {}\n",
    "        aux = []\n",
    "        # Insere todos os vertices como chave do dicionario\n",
    "        for i in range(self.numero_vertices):\n",
    "            self.lista_adjacencia.update({self.vertices[i]: {}})    \n",
    "\n",
    "       \n",
    "        for i in range(self.numero_vertices):\n",
    "            # Aux contem os vizinhos de cada vertice presente no grafo\n",
    "            aux = self.retorna_vizinhos(self.vertices[i])\n",
    "            for j in range(len(aux)):\n",
    "                # Insere na lista os vertices adjacentes, como o grafo nao e valorado\n",
    "                # o peso sempre sera 0\n",
    "                self.lista_adjacencia[self.vertices[i]].update({aux[j]: 0})\n",
    "        print(\"Lista de adjacencia: \", self.lista_adjacencia, \"\\n\")\n",
    "\n",
    "    def matriz_de_incidencia_para_matrizAdj(self):\n",
    "        '''\n",
    "        Metodo para passar a matriz de incidencia para uma matriz de adjacencia\n",
    "        '''\n",
    "        # Criacao da matriz de adjacencia a partir do numero de vertices do grafo\n",
    "        # Matriz inicializada com 0's\n",
    "        self.matriz_adj = [\n",
    "            [0 for x in range(self.numero_vertices)] for y in range(self.numero_vertices)]\n",
    "\n",
    "        aux = []\n",
    "        for i in range(self.numero_vertices):\n",
    "            # Aux recebe todos os vizinhos de cada vertice presente no grafo\n",
    "            aux = self.retorna_vizinhos(self.vertices[i])\n",
    "            for j in range(len(aux)):\n",
    "                # De acordo com a adjacencia dos vertices, caso haja adjacencia\n",
    "                # as posicoes (i, j) recebem o valor 1\n",
    "                self.matriz_adj[i][self.vertices.index(aux[j])] = 1\n",
    "        print(\"Matriz de adjacencia: \", self.matriz_adj, \"\\n\")\n",
    "\n",
    "\n",
    "    def gerar_subgrafo_ind_vertices(self):\n",
    "        '''\n",
    "        Gera um subgrafo induzido por vertices escolhendo de forma aleatoria a quantidade\n",
    "        e quais vertices a serem retirados.\n",
    "        '''\n",
    "        # De forma aleatoria soa escolhidas a quantidade de vertices a serem removidos\n",
    "        # e quais vertices serao removidos\n",
    "        num_of_vertices = len(self.vertices)\n",
    "        print(\"Numero de vertices: \", num_of_vertices)\n",
    "        qntde_vertices_a_remover = random.randrange(0, num_of_vertices+1)\n",
    "        print(\"Quantidade de vertices a remover: \", qntde_vertices_a_remover)\n",
    "\n",
    "        vertices_a_remover = []\n",
    "        # Os vetices sao escolhidas sem repeticoes a partir de uma lista\n",
    "        # contendo todos as vertices do grafo\n",
    "        vertices_a_remover.extend(random.sample(\n",
    "            self.vertices, qntde_vertices_a_remover))\n",
    "        print(\"Vertices a remover: \", vertices_a_remover)\n",
    "\n",
    "        # Os vertices sao removidos um a um.\n",
    "        for i in vertices_a_remover:\n",
    "            self.remover_vertice(i)\n",
    "        print(\"Vertices presentes: \", self.vertices)\n",
    "        print('Matriz atualizada: ', self.matriz_de_incidencia, \"\\n\")\n",
    "\n",
    "    def gerar_subgrafo_ind_arestas(self):\n",
    "        '''\n",
    "        Gera um subgrafo induzido por vertices escolhendo de forma aleatoria a quantidade\n",
    "        e quais vertices a serem retirados.\n",
    "        '''\n",
    "\n",
    "        # De forma aleatoria soa escolhidas a quantidade de arestas a serem removidas\n",
    "        # e quais arestas serao removidas\n",
    "        print(\"Numero de arestas: \", len(self.gerar_grafo_arestas()))\n",
    "        qntde_arestas_a_remover=random.randrange(\n",
    "            0, len(self.gerar_grafo_arestas())+1)\n",
    "        print(\"Quantidade de arestas a remover: \",\n",
    "              qntde_arestas_a_remover)\n",
    "\n",
    "        arestas_a_remover = []\n",
    "        # As arestas sao escolhidas sem repeticoes a partir de uma lista\n",
    "        # contendo todas as arestas do grafo\n",
    "        arestas_a_remover.extend(random.sample(\n",
    "            self.gerar_grafo_arestas(), qntde_arestas_a_remover))\n",
    "        print(\"arestas a remover: \", arestas_a_remover)\n",
    "\n",
    "        for i in range(len(arestas_a_remover)):\n",
    "            for j in range(1):\n",
    "                # As arestas sao representadas por tuplas (u, v), \n",
    "                # arestas_a_remover[i][j] representa u \n",
    "                # e  arestas_a_remover[i][j+1] representa v\n",
    "                # na lista de arestas que possui seguinte formato:\n",
    "                # [(u, v), (u, v), ...]\n",
    "                self.remover_aresta(\n",
    "                    arestas_a_remover[i][j], arestas_a_remover[i][j+1])\n",
    "\n",
    "        print('Matriz atualizada: ', self.matriz_de_incidencia, \"\\n\") "
   ]
  },
  {
   "cell_type": "code",
   "execution_count": 31,
   "metadata": {},
   "outputs": [],
   "source": [
    "## obs: para executar essa célula é necessário antes executar células anteriores respectivas ao código\n",
    "\n",
    "# Criacao do grafo\n",
    "\n",
    "# Formato da matriz:\n",
    "# Colunas: arestas\n",
    "# Linhas: vértices\n",
    "# a1, a2, a3, a4, a5, a6\n",
    "# v1[1,  1,  0,  0,  0,  0]\n",
    "# v2[1,  0,  1,  1,  0,  0]\n",
    "# v3[0,  1,  1,  0,  1,  0]\n",
    "# v4[0,  0,  0,  1,  0,  1]\n",
    "# v5[0,  0,  0,  0,  1,  1]\n",
    "# Grafo nao orientado \n",
    "\n",
    "matriz_de_incidencia = [[1, 1, 0, 0, 0, 0],\n",
    "                        [1, 0, 1, 1, 0, 0],\n",
    "                        [0, 1, 1, 0, 1, 0],\n",
    "                        [0, 0, 0, 1, 0, 1],\n",
    "                        [0, 0, 0, 0, 1, 1]] \n",
    "\n",
    "\n",
    "grafo = Grafo(False, False, matriz_de_incidencia)"
   ]
  },
  {
   "cell_type": "code",
   "execution_count": 32,
   "metadata": {},
   "outputs": [
    {
     "name": "stdout",
     "output_type": "stream",
     "text": [
      "Lista de adjacencia:  {0: {1: 0, 2: 0}, 1: {0: 0, 2: 0, 3: 0}, 2: {0: 0, 1: 0, 4: 0}, 3: {1: 0, 4: 0}, 4: {2: 0, 3: 0}} \n",
      "\n"
     ]
    },
    {
     "data": {
      "image/png": "[encoded data removed]",
      "text/plain": [
       "<Figure size 432x288 with 1 Axes>"
      ]
     },
     "metadata": {},
     "output_type": "display_data"
    }
   ],
   "source": [
    "## obs: para executar essa célula é necessário antes executar células anteriores respectivas ao código\n",
    "\n",
    "# Transformando a matriz de incidencia em lista de adjacencia para desenhar o grafo\n",
    "grafo.matriz_de_incidencia_para_lista()\n",
    "\n",
    "# Desenhando o grafo com networkx e matplotlib \n",
    "import networkx as nx\n",
    "import matplotlib.pyplot as plt\n",
    "\n",
    "G = nx.Graph(grafo.lista_adjacencia)\n",
    "pos = nx.spring_layout(G)\n",
    "# Vertices\n",
    "nx.draw_networkx_nodes(G, pos, node_size=900)\n",
    "   \n",
    "#Arestas\n",
    "labels_arestas = {}\n",
    "arestas = []\n",
    "for i in grafo.lista_adjacencia:\n",
    "    for j in grafo.lista_adjacencia[i]:\n",
    "        if (j, i) not in labels_arestas:\n",
    "            labels_arestas.update({(i,j) : str(grafo.lista_adjacencia[i][j])})\n",
    "            arestas.append((i, j))\n",
    "nx.draw_networkx_edges(G, pos, edgelist=arestas, width=2)\n",
    "    \n",
    "# Labels\n",
    "nx.draw_networkx_labels(G, pos, font_size=20, font_family='sans-serif', font_color='w')\n",
    "plt.axis('off')\n",
    "plt.show()"
   ]
  },
  {
   "cell_type": "code",
   "execution_count": 33,
   "metadata": {},
   "outputs": [
    {
     "name": "stdout",
     "output_type": "stream",
     "text": [
      "Algum ou ambos os vertices nao estao presentes no grafo\n",
      "None\n"
     ]
    }
   ],
   "source": [
    "## obs: para executar essa célula é necessário antes executar células anteriores respectivas ao código\n",
    "print(grafo.eh_vizinho(6, 9))"
   ]
  },
  {
   "cell_type": "code",
   "execution_count": 34,
   "metadata": {},
   "outputs": [
    {
     "name": "stdout",
     "output_type": "stream",
     "text": [
      "Vizinhos do 2: [0, 1, 4]\n"
     ]
    }
   ],
   "source": [
    "print(\"Vizinhos do 2:\", grafo.retorna_vizinhos(2))"
   ]
  },
  {
   "cell_type": "code",
   "execution_count": 35,
   "metadata": {},
   "outputs": [
    {
     "name": "stdout",
     "output_type": "stream",
     "text": [
      "Matriz apos adicionar o vertice 7: [[1, 1, 0, 0, 0, 0], [1, 0, 1, 1, 0, 0], [0, 1, 1, 0, 1, 0], [0, 0, 0, 1, 0, 1], [0, 0, 0, 0, 1, 1], [0, 0, 0, 0, 0, 0]] \n",
      "\n"
     ]
    }
   ],
   "source": [
    "grafo.inserir_vertice(7)"
   ]
  },
  {
   "cell_type": "code",
   "execution_count": 36,
   "metadata": {},
   "outputs": [
    {
     "name": "stdout",
     "output_type": "stream",
     "text": [
      "Matriz de Incidencia ao adicionar aresta:  [[1, 1, 0, 0, 0, 0, 0], [1, 0, 1, 1, 0, 0, 0], [0, 1, 1, 0, 1, 0, 1], [0, 0, 0, 1, 0, 1, 0], [0, 0, 0, 0, 1, 1, 0], [0, 0, 0, 0, 0, 0, 1]] \n",
      "\n"
     ]
    }
   ],
   "source": [
    "grafo.inserir_aresta(2, 7, 1)"
   ]
  },
  {
   "cell_type": "code",
   "execution_count": 37,
   "metadata": {},
   "outputs": [
    {
     "name": "stdout",
     "output_type": "stream",
     "text": [
      "Matriz ao remover o vertice 4: [[1, 1, 0, 0, 0], [1, 0, 1, 1, 0], [0, 1, 1, 0, 1], [0, 0, 0, 1, 0], [0, 0, 0, 0, 1]] \n",
      "\n"
     ]
    }
   ],
   "source": [
    "grafo.remover_vertice(4)"
   ]
  },
  {
   "cell_type": "code",
   "execution_count": 38,
   "metadata": {},
   "outputs": [
    {
     "name": "stdout",
     "output_type": "stream",
     "text": [
      "a aresta (2, 3) nao existe no grafo\n",
      "Matriz ao remover a arestas (u, v): [[1, 1, 0, 0, 0], [1, 0, 1, 1, 0], [0, 1, 1, 0, 1], [0, 0, 0, 1, 0], [0, 0, 0, 0, 1]] \n",
      "\n"
     ]
    }
   ],
   "source": [
    "grafo.remover_aresta(2, 3)"
   ]
  },
  {
   "cell_type": "code",
   "execution_count": 39,
   "metadata": {},
   "outputs": [
    {
     "name": "stdout",
     "output_type": "stream",
     "text": [
      "Matriz de adjacencia:  [[0, 1, 1, 0, 0], [1, 0, 1, 1, 0], [1, 1, 0, 0, 1], [0, 1, 0, 0, 0], [0, 0, 1, 0, 0]] \n",
      "\n"
     ]
    }
   ],
   "source": [
    "grafo.matriz_de_incidencia_para_matrizAdj()"
   ]
  },
  {
   "cell_type": "code",
   "execution_count": 40,
   "metadata": {},
   "outputs": [
    {
     "name": "stdout",
     "output_type": "stream",
     "text": [
      "Numero de vertices:  5\n",
      "Quantidade de vertices a remover:  5\n",
      "Vertices a remover:  [1, 2, 0, 7, 3]\n",
      "Matriz ao remover o vertice 1: [[1, 0], [1, 1], [0, 0], [0, 1]] \n",
      "\n",
      "Matriz ao remover o vertice 2: [[], [], []] \n",
      "\n",
      "Vertices presentes:  [0, 3, 7]\n",
      "Matriz atualizada:  [[], [], []] \n",
      "\n"
     ]
    }
   ],
   "source": [
    "grafo.gerar_subgrafo_ind_vertices()"
   ]
  },
  {
   "cell_type": "code",
   "execution_count": 41,
   "metadata": {},
   "outputs": [
    {
     "name": "stdout",
     "output_type": "stream",
     "text": [
      "Numero de arestas:  0\n",
      "Quantidade de arestas a remover:  0\n",
      "arestas a remover:  []\n",
      "Matriz atualizada:  [[], [], []] \n",
      "\n"
     ]
    }
   ],
   "source": [
    "grafo.gerar_subgrafo_ind_arestas()"
   ]
  },
  {
   "cell_type": "code",
   "execution_count": null,
   "metadata": {},
   "outputs": [],
   "source": []
  }
 ],
 "metadata": {
  "kernelspec": {
   "display_name": "Python 3",
   "language": "python",
   "name": "python3"
  },
  "language_info": {
   "codemirror_mode": {
    "name": "ipython",
    "version": 3
   },
   "file_extension": ".py",
   "mimetype": "text/x-python",
   "name": "python",
   "nbconvert_exporter": "python",
   "pygments_lexer": "ipython3",
   "version": "3.8.5"
  }
 },
 "nbformat": 4,
 "nbformat_minor": 4
}
