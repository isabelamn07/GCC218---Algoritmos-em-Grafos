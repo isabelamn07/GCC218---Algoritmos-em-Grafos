{
 "cells": [
  {
   "cell_type": "markdown",
   "metadata": {},
   "source": [
    "# Introdução ao NetworkX\n"
   ]
  },
  {
   "cell_type": "markdown",
   "metadata": {},
   "source": [
    "### O que é NetworkX?"
   ]
  },
  {
   "cell_type": "markdown",
   "metadata": {},
   "source": [
    "O networkx é um pacote python para criação, manipulação e estudo de estruturas dinânicas e funções de redes complexas, como por exemplo **grafos**. É possível gerar representações gráficas de manipular esses grafos com os diversos recursos que o networkx oferece."
   ]
  },
  {
   "cell_type": "markdown",
   "metadata": {},
   "source": [
    "### Instalação do **NetworkX**:\n",
    "\n",
    "**Via terminal** \n",
    "\n",
    "```pip install networkx```\n",
    "\n",
    "    ou em alguns casos:\n",
    "    \n",
    "```python -m pip install networkx```"
   ]
  },
  {
   "cell_type": "markdown",
   "metadata": {},
   "source": [
    "Execute a próxima célula para instalação do networkx"
   ]
  },
  {
   "cell_type": "code",
   "execution_count": 1,
   "metadata": {},
   "outputs": [
    {
     "name": "stdout",
     "output_type": "stream",
     "text": [
      "Requirement already satisfied: networkx in c:\\users\\mayro\\appdata\\local\\programs\\python\\python38-32\\lib\\site-packages (2.4)\n",
      "Requirement already satisfied: decorator>=4.3.0 in c:\\users\\mayro\\appdata\\local\\programs\\python\\python38-32\\lib\\site-packages (from networkx) (4.4.1)\n",
      "Note: you may need to restart the kernel to use updated packages.\n"
     ]
    },
    {
     "name": "stderr",
     "output_type": "stream",
     "text": [
      "WARNING: You are using pip version 20.2.2; however, version 20.2.4 is available.\n",
      "You should consider upgrading via the 'c:\\users\\mayro\\appdata\\local\\programs\\python\\python38-32\\python.exe -m pip install --upgrade pip' command.\n"
     ]
    }
   ],
   "source": [
    "pip install networkx"
   ]
  },
  {
   "cell_type": "markdown",
   "metadata": {},
   "source": [
    "### Primeiro exemplo\n"
   ]
  },
  {
   "cell_type": "code",
   "execution_count": 2,
   "metadata": {},
   "outputs": [],
   "source": [
    "#Para importar o pacote networkx\n",
    "import networkx as nx\n",
    "\n",
    "#Criando um grafo\n",
    "Grafo = nx.Graph()"
   ]
  },
  {
   "cell_type": "markdown",
   "metadata": {},
   "source": [
    "Para utilizar o pacote networkX, é necessário fazer a importação. Por padrão, usa-se os alias nx. Ao instanciar a classe Graph() é criado um grafo(objeto). "
   ]
  },
  {
   "cell_type": "markdown",
   "metadata": {},
   "source": [
    "### Criação de um grafo"
   ]
  },
  {
   "cell_type": "markdown",
   "metadata": {},
   "source": [
    "Podemos criar diferentes tipos de grafos utilizando as classes:\n",
    "* **Graph** - grafos não direcionados (permite loops).\n",
    "* **DiGraph** - grafos direcionados (permite loops).\n",
    "* **Multigraph** - grafos não direcionados (permite loops e arestas paralelas).\n",
    "* **MultiDiGraph** - grafos direcionados (permite loops e arestas paralelas)."
   ]
  },
  {
   "cell_type": "code",
   "execution_count": 3,
   "metadata": {},
   "outputs": [],
   "source": [
    "import networkx as nx\n",
    "\n",
    "grafo_g = nx.Graph()\n",
    "grafo_f = nx.DiGraph()\n",
    "grafo_h = nx.MultiGraph()\n",
    "grafo_x = nx.MultiDiGraph()"
   ]
  },
  {
   "cell_type": "markdown",
   "metadata": {},
   "source": [
    "### Adição de Vértices\n",
    "Existem diversas formas de se adicionar vértices a um grafo. É possível utilizar qualquer uma delas a qualquer momento."
   ]
  },
  {
   "cell_type": "markdown",
   "metadata": {},
   "source": [
    "Os vértices podem ser adicionados um a um."
   ]
  },
  {
   "cell_type": "code",
   "execution_count": 4,
   "metadata": {},
   "outputs": [
    {
     "name": "stdout",
     "output_type": "stream",
     "text": [
      "Lista de vertices:  ['vertice1']\n"
     ]
    }
   ],
   "source": [
    "import networkx as nx\n",
    "Grafo = nx.Graph()\n",
    "\n",
    "## Adicionar vértices\n",
    "Grafo.add_node('vertice1')\n",
    "#lista de vertices\n",
    "print(\"Lista de vertices: \", list(Grafo.nodes))"
   ]
  },
  {
   "cell_type": "markdown",
   "metadata": {},
   "source": [
    "Os vértices também podem ser adicionados através de uma lista:"
   ]
  },
  {
   "cell_type": "code",
   "execution_count": 6,
   "metadata": {},
   "outputs": [
    {
     "name": "stdout",
     "output_type": "stream",
     "text": [
      "Lista de vertices:  ['v1', 'v2', 'v3', 'v4', 'v5']\n"
     ]
    }
   ],
   "source": [
    "import networkx as nx\n",
    "Grafo = nx.Graph()\n",
    "\n",
    "## Adicionar vértices a partir de uma lista\n",
    "lista = ['v1', 'v2', 'v3', 'v4', 'v5']\n",
    "Grafo.add_nodes_from(lista)\n",
    "print(\"Lista de vertices: \", list(Grafo.nodes))\n"
   ]
  },
  {
   "cell_type": "markdown",
   "metadata": {},
   "source": [
    "Podemos inserir vértices dentro de um intervalo definido.\n",
    "\n",
    "**path_graph()**\n",
    "\n",
    "Parâmetro obrigatório:\n",
    "* $n$ (inteiro ou estrutura iterável) -  caso seja um inteiro, cria vértices de $0$ a $n$ (não incluso). \n",
    "\n",
    "Parâmetro opcional:\n",
    "* create_using (construtor networkx graph) - tipo do grafo a ser criado.\n"
   ]
  },
  {
   "cell_type": "code",
   "execution_count": 7,
   "metadata": {},
   "outputs": [
    {
     "name": "stdout",
     "output_type": "stream",
     "text": [
      "Lista de vertices:  [0, 1, 2, 3, 4, 5, 6, 7, 8, 9, 10, 11]\n"
     ]
    }
   ],
   "source": [
    "import networkx as nx\n",
    "Grafo = nx.Graph()\n",
    "\n",
    "## Adicionar vértices dentro de um intervalo\n",
    "intervalo = nx.path_graph(12)\n",
    "Grafo.add_nodes_from(intervalo)\n",
    "print(\"Lista de vertices: \", list(Grafo.nodes))\n",
    "      "
   ]
  },
  {
   "cell_type": "markdown",
   "metadata": {},
   "source": [
    "### Adição de Arestas"
   ]
  },
  {
   "cell_type": "markdown",
   "metadata": {},
   "source": [
    "As arestas podem ser adicionadas uma a uma."
   ]
  },
  {
   "cell_type": "code",
   "execution_count": 8,
   "metadata": {},
   "outputs": [
    {
     "name": "stdout",
     "output_type": "stream",
     "text": [
      "Lista de arestas [(1, 2), (2, 3)]\n"
     ]
    }
   ],
   "source": [
    "import networkx as nx\n",
    "G = nx.Graph()\n",
    "\n",
    "G.add_edge(1, 2)\n",
    "e = (2, 3)\n",
    "G.add_edge(*e)  \n",
    "print(\"Lista de arestas\", G.edges)"
   ]
  },
  {
   "cell_type": "markdown",
   "metadata": {},
   "source": [
    "As arestas também podem ser adicionadas através de estruturas de dados como as listas:"
   ]
  },
  {
   "cell_type": "code",
   "execution_count": 9,
   "metadata": {},
   "outputs": [],
   "source": [
    "G.add_edges_from([(1, 2), (1, 3)])"
   ]
  },
  {
   "cell_type": "markdown",
   "metadata": {},
   "source": [
    "As arestas também podem ser adicionadas a partir de uma estrutura de dados de uma tupla de arestas. Uma tupla de arestas pode ser uma 2-tupla de vértices ou uma 3-tupla com 2 vértices seguidos por um dicionário, representando um atributo a essa aresta, exemplo:\n"
   ]
  },
  {
   "cell_type": "code",
   "execution_count": 10,
   "metadata": {},
   "outputs": [
    {
     "name": "stdout",
     "output_type": "stream",
     "text": [
      "Lista de arestas [(1, 4), (4, 2), (4, 5), (2, 3)]\n",
      "Pesso atribuido a aresta (1, 4) {'weight': 6}\n"
     ]
    }
   ],
   "source": [
    "import networkx as nx\n",
    "\n",
    "H = [(1, 4, {'weight': 6}), (2, 3, {'weight': 5}), (2, 4, {'weight': 2}), (4, 5, {'weight': 8})]\n",
    "F = nx.Graph()\n",
    "F.add_edges_from(H)\n",
    "print(\"Lista de arestas\", F.edges)\n",
    "print(\"Pesso atribuido a aresta (1, 4)\", F[1][4])"
   ]
  },
  {
   "cell_type": "markdown",
   "metadata": {},
   "source": [
    "### Remover vértices e arestas"
   ]
  },
  {
   "cell_type": "markdown",
   "metadata": {},
   "source": [
    "Utilizamos a função **clear()** para remover todos os vértices e arestas."
   ]
  },
  {
   "cell_type": "code",
   "execution_count": 11,
   "metadata": {},
   "outputs": [
    {
     "name": "stdout",
     "output_type": "stream",
     "text": [
      "Vertices:  [1, 2, 3, 'spam', 's', 'p', 'a', 'm'] Arestas:  [(1, 2), (1, 3), (3, 'm')]\n",
      "Vertices:  [] Arestas:  []\n"
     ]
    }
   ],
   "source": [
    "import networkx as nx\n",
    "\n",
    "G = nx.Graph()\n",
    "\n",
    "G.add_edges_from([(1, 2), (1, 3)])\n",
    "G.add_node(1)\n",
    "G.add_edge(1, 2)\n",
    "G.add_node(\"spam\")        # adiciona vértice \"spam\"\n",
    "G.add_nodes_from(\"spam\")  # adiciona 4 vértices: 's', 'p', 'a', 'm'\n",
    "G.add_edge(3, 'm')\n",
    "\n",
    "print(\"Vertices: \", G.nodes, \"Arestas: \", G.edges)\n",
    "\n",
    "## clear()\n",
    "\n",
    "G.clear()\n",
    "print(\"Vertices: \", G.nodes, \"Arestas: \", G.edges)"
   ]
  },
  {
   "cell_type": "markdown",
   "metadata": {},
   "source": [
    "As arestas e vértices podem ser removidos de forma parecida ao que foram adicionadas.\n",
    "\n",
    "Funções: **remove_node(), remove_nodes_from(), remove_edge() e remove_edges_from()**"
   ]
  },
  {
   "cell_type": "code",
   "execution_count": 12,
   "metadata": {},
   "outputs": [
    {
     "name": "stdout",
     "output_type": "stream",
     "text": [
      "Vertices e arestas antes das remocoes:\n",
      "Vertices:  [1, 2, 3, 'spam', 's', 'p', 'a', 'm']\n",
      "Arestas:  [(1, 2), (1, 3), (3, 'm')]\n",
      "\n",
      "Vertices e arestas depois das remocoes:\n",
      "Vertices:  [1, 3, 'spam']\n",
      "Arestas:  []\n"
     ]
    }
   ],
   "source": [
    "import networkx as nx\n",
    "\n",
    "G = nx.Graph()\n",
    "\n",
    "G.add_edges_from([(1, 2), (1, 3)])\n",
    "G.add_node(1)\n",
    "G.add_edge(1, 2)\n",
    "G.add_node(\"spam\")        # adiciona vértice \"spam\"\n",
    "G.add_nodes_from(\"spam\")  # adiciona 4 vértices: 's', 'p', 'a', 'm'\n",
    "G.add_edge(3, 'm')\n",
    "\n",
    "print(\"Vertices e arestas antes das remocoes:\")\n",
    "print(\"Vertices: \", G.nodes)\n",
    "print(\"Arestas: \", G.edges)\n",
    "\n",
    "print(\"\\nVertices e arestas depois das remocoes:\")\n",
    "G.remove_node(2)\n",
    "G.remove_nodes_from(\"spam\")\n",
    "print(\"Vertices: \", G.nodes)\n",
    "\n",
    "G.remove_edge(1, 3)\n",
    "print(\"Arestas: \", G.edges)\n",
    "\n"
   ]
  },
  {
   "cell_type": "markdown",
   "metadata": {},
   "source": [
    "### Número de vértices e arestas"
   ]
  },
  {
   "cell_type": "markdown",
   "metadata": {},
   "source": [
    "Funções: **number_of_nodes() e number_of_edges()**."
   ]
  },
  {
   "cell_type": "code",
   "execution_count": 13,
   "metadata": {},
   "outputs": [
    {
     "name": "stdout",
     "output_type": "stream",
     "text": [
      "Numero de vertices:  10  Numero de arestas:  9\n"
     ]
    }
   ],
   "source": [
    "import networkx as nx\n",
    "\n",
    "H = nx.path_graph(10)\n",
    "G = nx.Graph()\n",
    "\n",
    "G.add_nodes_from(H)\n",
    "G.add_edges_from(H.edges)\n",
    "\n",
    "print(\"Numero de vertices: \", G.number_of_nodes(), \" Numero de arestas: \", G.number_of_edges())"
   ]
  },
  {
   "cell_type": "markdown",
   "metadata": {},
   "source": [
    "### Grau de um vértice\n",
    "**degree**"
   ]
  },
  {
   "cell_type": "code",
   "execution_count": 14,
   "metadata": {},
   "outputs": [
    {
     "name": "stdout",
     "output_type": "stream",
     "text": [
      "2\n"
     ]
    }
   ],
   "source": [
    "import networkx as nx\n",
    "\n",
    "H = nx.path_graph(10)\n",
    "G = nx.Graph()\n",
    "\n",
    "G.add_nodes_from(H)\n",
    "G.add_edges_from(H.edges)\n",
    "\n",
    "# degree\n",
    "print(G.degree[2])"
   ]
  },
  {
   "cell_type": "markdown",
   "metadata": {},
   "source": [
    "### Lista de vizinhos\n",
    "**adj**"
   ]
  },
  {
   "cell_type": "code",
   "execution_count": 15,
   "metadata": {},
   "outputs": [
    {
     "name": "stdout",
     "output_type": "stream",
     "text": [
      "{2: {}, 4: {}}\n"
     ]
    }
   ],
   "source": [
    "import networkx as nx\n",
    "\n",
    "H = nx.path_graph(10)\n",
    "G = nx.Graph()\n",
    "\n",
    "G.add_nodes_from(H)\n",
    "G.add_edges_from(H.edges)\n",
    "\n",
    "# adj\n",
    "print(G.adj[3])"
   ]
  },
  {
   "cell_type": "markdown",
   "metadata": {},
   "source": [
    "### Acessando arestas e vizinhos e atributos\n",
    "Para descobrir os vértices adjacentes, podemos utilizar **adj** ou o vértice que queremos encontrar a adjacência com o índice.\n",
    "\n",
    "Podemos acessar o atributo de uma aresta através utilizando **[u], [v]** como índices: "
   ]
  },
  {
   "cell_type": "code",
   "execution_count": 16,
   "metadata": {},
   "outputs": [
    {
     "name": "stdout",
     "output_type": "stream",
     "text": [
      "Adjacência:  {0: {}, 2: {}}\n",
      "Adjacência:  {0: {}, 2: {}}\n",
      "{}\n",
      "Atributo:  {'peso': 8}\n"
     ]
    }
   ],
   "source": [
    "import networkx as nx\n",
    "\n",
    "H = nx.path_graph(10)\n",
    "G = nx.Graph()\n",
    "\n",
    "G.add_nodes_from(H)\n",
    "G.add_edges_from(H.edges)\n",
    "G[2][3]['peso'] = 8\n",
    "\n",
    "## Vizinhos\n",
    "print(\"Adjacência: \", G[1])\n",
    "print(\"Adjacência: \", G.adj[1])\n",
    "\n",
    "## Atributos\n",
    "print(G[1][2])\n",
    "print(\"Atributo: \", G[2][3])\n"
   ]
  },
  {
   "cell_type": "markdown",
   "metadata": {},
   "source": [
    "### Adicionar atributos a grafos, vértices e arestas"
   ]
  },
  {
   "cell_type": "code",
   "execution_count": 17,
   "metadata": {},
   "outputs": [
    {
     "name": "stdout",
     "output_type": "stream",
     "text": [
      "{'cidade': 'Lavras'}\n",
      "{'horario': '5pm'}\n",
      "{'peso': 4.7}\n"
     ]
    }
   ],
   "source": [
    "import networkx as nx\n",
    "\n",
    "## Grafo\n",
    "G = nx.Graph(cidade='Lavras')\n",
    "print(G.graph)\n",
    "\n",
    "## Vértice\n",
    "G.add_node(1, horario='5pm')\n",
    "print(G.nodes[1])\n",
    "\n",
    "## Aresta\n",
    "G.add_edge(1, 2, peso=4.7 )\n",
    "print(G.edges[1, 2])\n"
   ]
  },
  {
   "cell_type": "markdown",
   "metadata": {},
   "source": [
    "### Grafos direcionados"
   ]
  },
  {
   "cell_type": "markdown",
   "metadata": {},
   "source": [
    "Os grafos direcionados utilizam as classes **DiGraph** e **MultiDiGraph**."
   ]
  },
  {
   "cell_type": "code",
   "execution_count": 18,
   "metadata": {},
   "outputs": [
    {
     "data": {
      "image/png": "[encoded data removed]",
      "text/plain": [
       "<Figure size 432x288 with 1 Axes>"
      ]
     },
     "metadata": {},
     "output_type": "display_data"
    }
   ],
   "source": [
    "import networkx as nx\n",
    "import matplotlib.pyplot as plt\n",
    "\n",
    "DG = nx.DiGraph()\n",
    "DG.add_weighted_edges_from([(1, 2, 0.5), (3, 1, 0.75)])\n",
    "DG.out_degree(1, weight='weight')\n",
    "DG.degree(1, weight='weight')\n",
    "plt.subplot(121)\n",
    "nx.draw(DG, with_labels=True, font_weight='bold')\n"
   ]
  },
  {
   "cell_type": "markdown",
   "metadata": {},
   "source": [
    "## Fontes:\n",
    "[https://networkx.github.io/documentation/latest/index.html](https://networkx.github.io/documentation/latest/index.html)\n",
    "\n",
    "[https://pypi.org/project/networkx/](https://pypi.org/project/networkx/)\n",
    "\n",
    "\n"
   ]
  }
 ],
 "metadata": {
  "kernelspec": {
   "display_name": "Python 3",
   "language": "python",
   "name": "python3"
  },
  "language_info": {
   "codemirror_mode": {
    "name": "ipython",
    "version": 3
   },
   "file_extension": ".py",
   "mimetype": "text/x-python",
   "name": "python",
   "nbconvert_exporter": "python",
   "pygments_lexer": "ipython3",
   "version": "3.8.1"
  }
 },
 "nbformat": 4,
 "nbformat_minor": 4
}
