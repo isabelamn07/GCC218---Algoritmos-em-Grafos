{
 "cells": [
  {
   "cell_type": "markdown",
   "metadata": {},
   "source": [
    "## Ordenação topológica\n",
    "\n",
    "Ordenar topologicamente significa encontrar uma configuração de elementos de acordo com algum critério de prioridade.\n",
    "\n",
    "### Exemplo:\n",
    "Suponha que um funcionário da empresa X precise realizar determinadas tarefas durante o seu horário de almoço que possui 2 horas. Ele precisa:\n",
    "\n",
    "* Passar em casa para pegar o cartão do banco - CB;\n",
    "* Ir ao banco - BA;\n",
    "* Pagar contas - PC ;\n",
    "* Comprar uma aspirina - CA;\n",
    "* Pegar um documento em um cartório - PG;\n",
    "* Voltar ao trabalho - VT.\n",
    "\n",
    "Perceba, a ordem com que essas tarefas são feitas é importante, pois para pagar as contas, por exemplo, é preciso pegar o cartão do banco antes. Comprar uma aspirina ou pegar um documento para o chefe são tarefas que podem ser feitas em qualquer ordem. Voltar ao trabalho é sempre a última atividade. Algumas atividades tem mais flexibilidade, mas algumas delas precisam ser executadas somente depois da realização de outra tarefa específica. Em um grafo direcionado e acíclico, podemos executar algoritmos que ordenam as atividades de forma a respeitar uma hierarquia, e que pode gerar diversas configurações. No exemplo dado acima, a seguinte ordem de tarefas também pode ser realizada:\n",
    "\n",
    "* Pegar um documento em um cartório - PG\n",
    "* Comprar uma aspirina; - CA\n",
    "* Passar em casa para pegar o cartão do banco - CB\n",
    "* Ir ao banco; BA\n",
    "* Pagar contas; PC\n",
    "* Voltar ao trabalho VT"
   ]
  },
  {
   "cell_type": "code",
   "execution_count": 42,
   "metadata": {},
   "outputs": [
    {
     "name": "stdout",
     "output_type": "stream",
     "text": [
      "O grafo é direcionado e acíclico?  True \n",
      "\n"
     ]
    },
    {
     "data": {
      "image/png": "[encoded data removed]",
      "text/plain": [
       "<Figure size 432x288 with 1 Axes>"
      ]
     },
     "metadata": {},
     "output_type": "display_data"
    },
    {
     "name": "stdout",
     "output_type": "stream",
     "text": [
      "Todas as possíveis configurações de ordenação das tarefas: \n",
      "\n",
      "[['CB', 'BA', 'PC', 'CA', 'PG', 'VT'], ['CB', 'BA', 'PC', 'PG', 'CA', 'VT'], ['CB', 'BA', 'CA', 'PG', 'PC', 'VT'], ['CB', 'BA', 'CA', 'PC', 'PG', 'VT'], ['CB', 'BA', 'PG', 'PC', 'CA', 'VT'], ['CB', 'BA', 'PG', 'CA', 'PC', 'VT'], ['CB', 'CA', 'PG', 'BA', 'PC', 'VT'], ['CB', 'CA', 'BA', 'PC', 'PG', 'VT'], ['CB', 'CA', 'BA', 'PG', 'PC', 'VT'], ['CB', 'PG', 'BA', 'PC', 'CA', 'VT'], ['CB', 'PG', 'BA', 'CA', 'PC', 'VT'], ['CB', 'PG', 'CA', 'BA', 'PC', 'VT'], ['CA', 'PG', 'CB', 'BA', 'PC', 'VT'], ['CA', 'CB', 'BA', 'PC', 'PG', 'VT'], ['CA', 'CB', 'BA', 'PG', 'PC', 'VT'], ['CA', 'CB', 'PG', 'BA', 'PC', 'VT'], ['PG', 'CB', 'BA', 'PC', 'CA', 'VT'], ['PG', 'CB', 'BA', 'CA', 'PC', 'VT'], ['PG', 'CB', 'CA', 'BA', 'PC', 'VT'], ['PG', 'CA', 'CB', 'BA', 'PC', 'VT']]\n"
     ]
    }
   ],
   "source": [
    "import networkx as nx\n",
    "import matplotlib.pyplot as plt\n",
    "\n",
    "lista_adj = {\n",
    "    'PG': {'VT': 0},\n",
    "    'CA': {'VT': 0},\n",
    "    'CB': {'BA': 0},\n",
    "    'BA': {'PC': 0},\n",
    "    'PC': {'VT':0 },\n",
    "    'VT': {},    \n",
    "}\n",
    "G = nx.DiGraph(lista_adj)\n",
    "\n",
    "# Verificando se o grafo é acíclico\n",
    "print(\"O grafo é direcionado e acíclico? \", nx.is_directed_acyclic_graph(G), \"\\n\")\n",
    "\n",
    "plt.figure()\n",
    "nx.draw(G, with_labels=True, font_weight='bold', node_size=900, font_size=18, width=2, font_color='w')\n",
    "plt.show()\n",
    "\n",
    "\n",
    "print(\"Todas as possíveis configurações de ordenação das tarefas: \\n\")\n",
    "print(list(nx.all_topological_sorts(G)))\n"
   ]
  },
  {
   "cell_type": "markdown",
   "metadata": {},
   "source": [
    "### Algoritmo de ordenação topológica\n",
    "\n",
    "Em um grafo acíclico direcionado realize a busca em largura.\n",
    "\n",
    "### Por que usamos busca em profundidade para encontrar a ordenação topológica?\n",
    "\n",
    "Quando fazemos a ordenação topológica de um grafo procuramos encontrar configurações de possíveis ordenações dos vértices de um **DAG**, esses vértices podem representar atvidades por exemplo, precisamos colocar essas atividades no grafo de acordo com alguma ordem de precedência, Ex.:\n",
    "\n",
    "Supondo que vamos montar um grafo direcionado acíclico que represente a ordem de algumas disciplinas de Sistemas de Informação que precisam ser feitas durante a graduação, algumas dessas disciplinas dependem de outras como pré requisito.\n",
    "\n",
    "![Disciplinas de SI](./Imagens/DAG_disciplinas.png)\n",
    "\n",
    "Para fazer **Algoritmos em grafos** é necessário antes fazer **Estrutura de dados** e para fazer estrutura de dados é necessário primeiro fazer **Introdução aos algoritmos**\n",
    "\n",
    "A busca em profundidade mantém a ordem de visitação dos vértices. Na ordenação topológica precisamos fazer o backtracking para realizar a ordenação dos vértices que no exemplo acima representam algumas disciplinas de SI. Utilizando a busca em profundidade percorremos essa sequência de disciplinas de acordo com uma ordem de precedência definida que manterá a ordem das disciplinas com algum tipo de dependência.\n",
    "\n",
    "**Outro motivo para utilizar DFS para fazer a ordenação topológica:** A busca em profundidade pode ser usado em grafos desconexos."
   ]
  },
  {
   "cell_type": "markdown",
   "metadata": {},
   "source": [
    "### DAGs"
   ]
  },
  {
   "cell_type": "markdown",
   "metadata": {},
   "source": [
    "<p>Para realizar a ordenação topológica em um grafo, ele precisa ser um grafo dirigido acíclico ou DAG(Directed Acyclic Graph)</p>"
   ]
  },
  {
   "cell_type": "markdown",
   "metadata": {},
   "source": [
    "Repare que os grafos a seguir não contém ciclos:\n",
    "\n",
    "<img src=\"Imagens/Exemplo_DAG.png\">"
   ]
  },
  {
   "cell_type": "markdown",
   "metadata": {},
   "source": [
    "# Código"
   ]
  },
  {
   "cell_type": "code",
   "execution_count": 5,
   "metadata": {},
   "outputs": [
    {
     "name": "stdout",
     "output_type": "stream",
     "text": [
      "Ordem topologica  ['CB', 'PG', 'CA', 'BA', 'PC', 'VT']\n",
      "DFS:\n",
      "[['PC', 'PRETO', None, ('tempo de descoberta:', 1), ('tempo de fechamento:', 4)], ['BA', 'PRETO', None, ('tempo de descoberta:', 5), ('tempo de fechamento:', 6)], ['VT', 'PRETO', 'PC', ('tempo de descoberta:', 2), ('tempo de fechamento:', 3)], ['CA', 'PRETO', None, ('tempo de descoberta:', 7), ('tempo de fechamento:', 8)], ['PG', 'PRETO', None, ('tempo de descoberta:', 9), ('tempo de fechamento:', 10)], ['CB', 'PRETO', None, ('tempo de descoberta:', 11), ('tempo de fechamento:', 12)]]\n"
     ]
    }
   ],
   "source": [
    "import random\n",
    "\n",
    "## Para encontrar a ordenação topológica utilizamos a busca em profundidade e calculamos o tempo de fechamento de cada\n",
    "## vertice\n",
    "## A ordenação é realizada na ordem de fechamento dos vertices, então adicionamos cada vertice \"fechado\" a uma lista\n",
    "## Essa lista contém a ordem topológica.\n",
    "\n",
    "# variável com o controle de tempo de descoberta e fechamento do vértice\n",
    "tempo = 0\n",
    "# lista que contém o status de cada vértice (Branco, Cinza, Preto), assim como o vértice pai e o tempo\n",
    "grafo_dfs = []\n",
    "# lista que contém os vértices que já foram visitados\n",
    "visitado = []\n",
    "# lista que vai receber os vertices ordenados topologicamente\n",
    "top = []\n",
    "\n",
    "def DFS(Grafo):\n",
    "    '''\n",
    "    Função para inicializar os valores como: cor, pai, tempo\n",
    "    Parâmetros:\n",
    "        Grafo\n",
    "            grafo a ser percorrido pela busca em profundidade\n",
    "    '''\n",
    "    \n",
    "    # randomização dos vértices do grafo para realizar a busca em profundidade iniciando de qualquer vértice no grafo\n",
    "    vertices_randomizados = list(Grafo.keys())\n",
    "    random.shuffle(vertices_randomizados) \n",
    "    \n",
    "    # Inicialização de valores\n",
    "    for i in vertices_randomizados:\n",
    "        grafo_dfs.append([i, 'BRANCO', None])\n",
    "\n",
    "    global tempo\n",
    "    tempo = 0\n",
    "    \n",
    "    # percorre o conjunto de vértices\n",
    "    for i in range(len(list(Grafo.keys()))):\n",
    "        # caso o vertice nao tenha sido visitado, e realizada a busca em profundidade(teste para todos os vertices)\n",
    "        if grafo_dfs[i][0] not in visitado:\n",
    "            DFS_Visit(Grafo, grafo_dfs[i][0])\n",
    "\n",
    "def DFS_Visit(Grafo, u):\n",
    "    '''\n",
    "    Função que realiza a busca em profundidade em cada ciclo/floresta de todos os vértices alcançaveis a partir de u.\n",
    "        Parâmetros:\n",
    "            Grafo\n",
    "                Grafo a ser percorrido\n",
    "            u\n",
    "                vértice inicial não visitado\n",
    "    '''\n",
    "    # tempo de descoberta do vértice\n",
    "    global tempo\n",
    "    tempo += 1    \n",
    "    \n",
    "    # encontrando o indice do vertice u no grafo_dfs\n",
    "    for i in range(len(grafo_dfs)):\n",
    "        if grafo_dfs[i][0] == u:\n",
    "            indice = i\n",
    "\n",
    "    # O vértice sendo explorado, recebe a cor cinza, o tempo de descoberta\n",
    "    grafo_dfs[indice][1] = 'CINZA'\n",
    "    grafo_dfs[indice].append((\"tempo de descoberta:\", tempo))\n",
    "    visitado.append(grafo_dfs[indice][0])\n",
    "    #print(\"visitado: \", visitado)\n",
    "    \n",
    "    # variavel que recebera o indice do proximo vertice a ser visitado\n",
    "    ind = 0\n",
    "    # buscamos vertices adjacentes a u que nao tenham sido visitados ainda (BRANCOS)\n",
    "    for v in Grafo[u]:        \n",
    "        for i in range(len(grafo_dfs)):\n",
    "            if v == grafo_dfs[i][0] and v not in visitado:\n",
    "                ind = i\n",
    "             \n",
    "        # Ao encontrar vertices adjacentes nao visitados, continuamos a busca recursivamente  \n",
    "        if grafo_dfs[ind][1] == 'BRANCO':\n",
    "            grafo_dfs[ind][2] = u\n",
    "            DFS_Visit(Grafo, v)\n",
    "    # Ao nao ter mais vertice para explorar o vertice e fechado (torna-se preto) e recebe o tempo em que \n",
    "    # foi fechado\n",
    "    for i in range(len(grafo_dfs)):\n",
    "        if grafo_dfs[i][0] == u:\n",
    "            grafo_dfs[i][1] = 'PRETO'\n",
    "            tempo += 1\n",
    "            grafo_dfs[i].append(('tempo de fechamento:' , tempo))\n",
    "            top.insert(0, u)\n",
    "            \n",
    "lista_adj = {\n",
    "    'PG': {'VT': 0},\n",
    "    'CA': {'VT': 0},\n",
    "    'CB': {'BA': 0},\n",
    "    'BA': {'PC': 0},\n",
    "    'PC': {'VT':0 },\n",
    "    'VT': {},    \n",
    "}\n",
    "\n",
    "DFS(lista_adj)\n",
    "\n",
    "print(\"Ordem topologica \", (top))\n",
    "print('DFS:')\n",
    "print(grafo_dfs)\n",
    "\n",
    "## *Existem varias possiveis configuracoes da ordenacao topologica das atividades"
   ]
  },
  {
   "cell_type": "code",
   "execution_count": null,
   "metadata": {},
   "outputs": [],
   "source": []
  }
 ],
 "metadata": {
  "kernelspec": {
   "display_name": "Python 3",
   "language": "python",
   "name": "python3"
  },
  "language_info": {
   "codemirror_mode": {
    "name": "ipython",
    "version": 3
   },
   "file_extension": ".py",
   "mimetype": "text/x-python",
   "name": "python",
   "nbconvert_exporter": "python",
   "pygments_lexer": "ipython3",
   "version": "3.8.5"
  }
 },
 "nbformat": 4,
 "nbformat_minor": 4
}
