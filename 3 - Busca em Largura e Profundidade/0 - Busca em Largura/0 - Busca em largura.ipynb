{
 "cells": [
  {
   "cell_type": "markdown",
   "metadata": {},
   "source": [
    "# Busca em Largura"
   ]
  },
  {
   "cell_type": "markdown",
   "metadata": {},
   "source": [
    "Busca em largura ou BFS(Breadth-First Search) é uma forma de percorrer um grafo. O algoritmo de busca em largura tem as seguintes características:\n",
    "* a partir de nó ou vértice inicial **S**, iniciamos a a execução do algoritmo.\n",
    "* todos os vértices são visitados apenas uma única vez (caso o grafo seja conexo).\n",
    "* A partir da busca em largura, encontramos a menor distância em termos do número de arestas de todos os vértices em relação ao vértice inicial.\n",
    "* A busca em largura funciona em grafos conexos.\n"
   ]
  },
  {
   "cell_type": "markdown",
   "metadata": {},
   "source": [
    "<img src=\"./Imagens/vertices_alcancaveis.png\">"
   ]
  },
  {
   "cell_type": "markdown",
   "metadata": {},
   "source": [
    "<h3>Funcionamento</h3>"
   ]
  },
  {
   "cell_type": "markdown",
   "metadata": {},
   "source": [
    "Dado um grafo conexo G, definimos um vértice inicial para começar a execução da busca em largura:"
   ]
  },
  {
   "cell_type": "markdown",
   "metadata": {},
   "source": [
    "<img src=\"./Imagens/buscaLargura.png\" style=\"margin-left:auto; margin-right:auto\">"
   ]
  },
  {
   "cell_type": "markdown",
   "metadata": {},
   "source": [
    "#### Legenda:\n",
    "\n",
    "![Vértice branco](./Imagens/vertice-branco.png) Vértice não visitado, nem descoberto\n",
    "\n",
    "![Vértice cinza](./Imagens/vertice-cinza.png) Vértice já descoberto\n",
    "\n",
    "![Vértice preto](./Imagens/vertice-preto.png) Vértice já visitado.\n",
    "\n",
    "<br>\n",
    "<table>\n",
    "    <tr>\n",
    "        <td style='width: 50%; vertical-align:top; font-size:16px; border: 4px solid black; background-color:white;'>O vértice inicial escolhido é o vértice <b>0</b>. Ao ser explorado o vértice é colocado em uma fila que contém a ordem de visitação dos vértices. O vértice inicial recebe valor de distância zero. Em seguida, verificamos a relação de vértices adjacentes a 0.</td>\n",
    "        <td style='width: 50%; vertical-align:top; font-size:16px; border: 4px solid black; background-color:white;'>Todo os vértices adjacentes são inseridos na fila. O vértice já visitado sai da fila; os vértices visitados são marcados como PRETO e não serão mais visitados. Os vértices adjacentes recebem o valor da distância (em graus) em relação ao vértice inicial.</td>\n",
    "    </tr>\n",
    "    <tr>\n",
    "        <td> <img src= \"./Imagens/buscaLargura0.png\"> </td>\n",
    "        <td> <img src= \"./Imagens/buscaLargura1.png\"> </td>\n",
    "    <tr>        \n",
    "    <tr>\n",
    "        <td style='width: 50%; vertical-align:top; font-size:16px; border: 4px solid black; background-color:white;'>Visitamos o próximo vértice da fila, caso não haja vértices adjacentes. Marcamos o vértice com PRETO e passamos para o próximo vértice da fila.</td>\n",
    "        <td style='width: 50%; vertical-align:top; font-size:16px; border: 4px solid black; background-color:white;'>Repetimos o processo de visitar vértices pela ordem que são inseridos na fila. Inserimos na fila vértices adjacentes ao vértice visitado, e atribuímos a distância em relação ao vértice inicial para cada vértice.</td>\n",
    "    </tr>\n",
    "    <tr>\n",
    "        <td> <img src= \"./Imagens/buscaLargura2.png\"> </td>\n",
    "        <td> <img src= \"./Imagens/buscaLargura3.png\"> </td>\n",
    "    <tr>        \n",
    "    <tr>\n",
    "        <td> <img src= \"./Imagens/buscaLargura4.png\"> </td>\n",
    "        <td> <img src= \"./Imagens/buscaLargura5.png\"> </td>\n",
    "    <tr>        \n",
    "    <tr>\n",
    "        <td> <img src= \"./Imagens/buscaLargura6.png\"> </td>\n",
    "        <td> <img src= \"./Imagens/buscaLargura7.png\"> </td>\n",
    "    <tr>\n",
    "</table>"
   ]
  },
  {
   "cell_type": "markdown",
   "metadata": {},
   "source": [
    "A execução do algoritmo termina quando todos os vértices forem visitados."
   ]
  },
  {
   "cell_type": "markdown",
   "metadata": {},
   "source": [
    "![IMG 9](./Imagens/buscaLargura8.png)"
   ]
  },
  {
   "cell_type": "markdown",
   "metadata": {},
   "source": [
    "<h3>Pseudocodigo:</h3>\n",
    "<pre>\n",
    "1: BFS(G, s)\n",
    "2: for each vertex u E G.V - {s}\n",
    "3:     u.color = WHITE\n",
    "4:     u.d = inf\n",
    "5:     u.pi = NIL\n",
    "6: s.color = GRAY\n",
    "7: s.d = 0\n",
    "8: s.pi = NIL\n",
    "9: Q = vazio\n",
    "10: ENQUEUE(Q, s)\n",
    "11: while Q != Vazio\n",
    "12:    u = DEQUEUE(Q)\n",
    "13:    for each v E G.Adj[u]\n",
    "14:        if v.color == WHITE\n",
    "15:            V.color == GRAY\n",
    "16:            v.d = u.d +1\n",
    "17:            u.pi = u \n",
    "18:            ENQUEUE(Q, v)\n",
    "19:    u.color = BLACK\n",
    "    \n",
    "G - Grafo\n",
    "s - vértice inicial\n",
    "Q - pilha\n",
    "d - distancia\n",
    "pi - vértice pai\n",
    "G.V - conjunto de vertices\n",
    "</pre>"
   ]
  },
  {
   "cell_type": "markdown",
   "metadata": {},
   "source": [
    "* Inicialmente todos os vertices são inicializados com a cor BRANCO, distância infinita e como vertice pai NIL. \n",
    "* Definimos um vértice inicial qualquer. \n",
    "* Esse vértice inicial receberá a cor CINZA, distância/grau: 0 \n",
    "* O vértice inicial não tem vértice pai. \n",
    "* É criada uma fila que contém a ordem de vértices a serem visitados. Inicialmente ela é vazia. \n",
    "* A fila Q recebe o vértice inicial \n",
    "\n",
    "* **Loop**\n",
    "    * Enquanto a fila não estiver vazia, a busca continua a ser realizada.\n",
    "    * O vertice  _u_ recebe a primeira posicao da fila. \n",
    "    * Percorremos todos os vértices adjacentes a  _u_, que recebem a cor CINZA, e também o grau de distância do vértice inicial s, e o vértice pai __( _u_)__. \n",
    "    * Enfileiramos os vértices adjacentes a cada iteração da busca. \n",
    "    * Ao terminar de percorrer todos os vértices adjacentes a  _u_, ele se torna PRETO e sai da fila. \n",
    "    * Fazemos isso com todos os vértices, na ordem em que aparecem na fila, até que todos os vértices sejam visitados. \n"
   ]
  },
  {
   "cell_type": "markdown",
   "metadata": {},
   "source": [
    "# Código"
   ]
  },
  {
   "cell_type": "code",
   "execution_count": 1,
   "metadata": {},
   "outputs": [
    {
     "name": "stdout",
     "output_type": "stream",
     "text": [
      "Resultado da busca em largura:\n",
      "Formato: [vertice, cor, grau, pai] \n",
      " [[1, 'PRETO', 2, 2], [2, 'PRETO', 1, 4], [3, 'PRETO', 2, 2], [4, 'PRETO', 0, None], [5, 'PRETO', 1, 4], [6, 'PRETO', 1, 4], [7, 'PRETO', 1, 4], [8, 'BRANCO', inf, None], [9, 'BRANCO', inf, None], [10, 'PRETO', 2, 6]]\n"
     ]
    }
   ],
   "source": [
    "##  Busca em largura\n",
    "import random\n",
    "from math import inf\n",
    "\n",
    "'''\n",
    "Pseudocodigo:\n",
    "BFS(G, s)\n",
    "for each vertex u E G.V - {s}\n",
    "    u.color = WHITE\n",
    "    u.d = inf\n",
    "    u.pi = NIL\n",
    "s.color = GRAY\n",
    "s.d = 0\n",
    "s.pi = NIL\n",
    "Q = vazio\n",
    "ENQUEUE(Q, s)\n",
    "while Q != Vazio\n",
    "    u = DEQUEUE(Q)\n",
    "    for each v E G.Adj[u]\n",
    "        if v.color == WHITE\n",
    "            V.color == GRAY\n",
    "            v.d = u.d +1\n",
    "            u.pi = u \n",
    "            ENQUEUE(Q, v)\n",
    "\n",
    "    u.color = BLACK\n",
    "#G - Grafo\n",
    "#s - vértice inicial\n",
    "#Q - pilha\n",
    "#d - distancia\n",
    "#pi - pai\n",
    "#G.V - conjunto de vertices\n",
    "\n",
    "'''\n",
    "\n",
    "# Lista que contém os vértices a serem explorados (fila)\n",
    "Q = []\n",
    "# Lista que ira conter os dados da busca em largura:\n",
    "# [[vertice, cor, grau de visitacao a partir de s, pai]]\n",
    "grafo_bfs = []\n",
    "def bfs(Grafo, vertice_inicial):\n",
    "    '''\n",
    "    Função BFS - realiza a busca em largura de um grafo dado\n",
    "    Parametros:\n",
    "        Grafo \n",
    "            grafo passado por parametro\n",
    "        vertice_inicial \n",
    "            vertice inicial\n",
    "    '''\n",
    "    # conjunto de vertices recebe uma lista com todos os vertices contidos\n",
    "    # no grafo\n",
    "    conjunto_vertices = list(Grafo.keys())\n",
    "    # print('conjunto_vertices', conjunto_vertices)\n",
    "    # Inicializacao de todos os vertices \n",
    "    for i in conjunto_vertices:\n",
    "        grafo_bfs.append([i, 'BRANCO', inf, None])\n",
    "\n",
    "    #print('grafo_bfs', grafo_bfs)\n",
    "\n",
    "    for j in range(len(grafo_bfs)):\n",
    "        '''\n",
    "            se o vertice inicial vertice_inicial estiver no grafo, ele recebe:\n",
    "            grau 0\n",
    "            pai : None\n",
    "            cor: CINZA\n",
    "        '''\n",
    "        if vertice_inicial == grafo_bfs[j][0]:\n",
    "            grafo_bfs[j][1] = 'CINZA'\n",
    "            grafo_bfs[j][2] = 0\n",
    "            grafo_bfs[j][3] = None\n",
    "            j = len(grafo_bfs)   \n",
    "    # A fila recebe o vertice inicial\n",
    "    Q.append(vertice_inicial)\n",
    "    while(len(Q) > 0):\n",
    "        # u recebe a primeira posicao da fila\n",
    "        u = Q.pop(0)\n",
    "        #print(\"Fila de prioridade\", Q)\n",
    "\n",
    "        ## procura o indice do vertice u em grafo_bfs\n",
    "        for i in range(len(grafo_bfs)):\n",
    "            if grafo_bfs[i][0] == u:\n",
    "                indice = i\n",
    "        # se o grafo ainda nao foi explorado, recebe os valores: CINZA, o grau de distância de s e o vértice pai\n",
    "        for i in Grafo[u]:                 \n",
    "            if (grafo_bfs[indice_adj(conjunto_vertices, i)][1] == 'BRANCO'):\n",
    "                grafo_bfs[indice_adj(conjunto_vertices, i)][1] = 'CINZA'\n",
    "                grafo_bfs[indice_adj(conjunto_vertices, i)\n",
    "                          ][2] = grafo_bfs[indice][2] + 1\n",
    "                grafo_bfs[indice_adj(conjunto_vertices, i)][3] = u\n",
    "                Q.append(i)\n",
    "                   \n",
    "        # Após ser explorado e visitado o vértice não será mais acioanado, então \n",
    "        # recebe o status PRETO. \n",
    "        for i in range(len(grafo_bfs)):\n",
    "            if u == grafo_bfs[i][0]:\n",
    "                grafo_bfs[i][1] = 'PRETO'\n",
    "\n",
    "def indice_adj(vertices, u):\n",
    "    '''\n",
    "    Função para encontrar o índice de um vertice no grafo\n",
    "    Parametros:\n",
    "        vertices \n",
    "            lista com o conjunto de vertices do grafo\n",
    "        u\n",
    "            vertice que queremos encontrar o indice\n",
    "    Retorno\n",
    "        indice do vertice no grafo\n",
    "\n",
    "    '''\n",
    "    if x in vertices:\n",
    "        return vertices.index(x)\n",
    "  \n",
    "grafo = {\n",
    "    1: {2: 4, 5: 9, 6: 8},\n",
    "    2: {1: 4, 3: 6, 4: 6, 7: 12},\n",
    "    3: {2: 6, 6: 23, 5: 11, 7: 55},\n",
    "    4: {2: 6, 5: 99, 6: 46, 7: 19},\n",
    "    5: {1: 9, 3: 11, 4: 99},\n",
    "    6: {1: 8, 3: 23, 4: 46, 10: 9},\n",
    "    7: {2: 12, 3: 55, 4: 19},\n",
    "    8: {9: 4},\n",
    "    9: {8: 4},\n",
    "    10: {6: 9}\n",
    "}\n",
    "\n",
    "bfs(grafo, random.choice(list(grafo.keys())))\n",
    "print('Resultado da busca em largura:\\nFormato: [vertice, cor, grau, pai] \\n', grafo_bfs)\n"
   ]
  },
  {
   "cell_type": "code",
   "execution_count": 2,
   "metadata": {},
   "outputs": [
    {
     "data": {
      "image/png": "[encoded data removed]",
      "text/plain": [
       "<Figure size 432x288 with 1 Axes>"
      ]
     },
     "metadata": {},
     "output_type": "display_data"
    }
   ],
   "source": [
    "## obs: para executar essa célula é necessário antes executar células anteriores respectivas ao código\n",
    "\n",
    "import networkx as nx\n",
    "import matplotlib.pyplot as plt\n",
    "\n",
    "# Desenhando o grafo com networkx e matplotlib\n",
    "G = nx.Graph(grafo)\n",
    "\n",
    "plt.figure()\n",
    "nx.draw(G, with_labels=True, font_weight='bold', node_size=700, font_size=18, width=5.5, font_color='w')\n",
    "plt.show()"
   ]
  },
  {
   "cell_type": "code",
   "execution_count": null,
   "metadata": {},
   "outputs": [],
   "source": []
  }
 ],
 "metadata": {
  "kernelspec": {
   "display_name": "Python 3",
   "language": "python",
   "name": "python3"
  },
  "language_info": {
   "codemirror_mode": {
    "name": "ipython",
    "version": 3
   },
   "file_extension": ".py",
   "mimetype": "text/x-python",
   "name": "python",
   "nbconvert_exporter": "python",
   "pygments_lexer": "ipython3",
   "version": "3.8.5"
  }
 },
 "nbformat": 4,
 "nbformat_minor": 4
}
