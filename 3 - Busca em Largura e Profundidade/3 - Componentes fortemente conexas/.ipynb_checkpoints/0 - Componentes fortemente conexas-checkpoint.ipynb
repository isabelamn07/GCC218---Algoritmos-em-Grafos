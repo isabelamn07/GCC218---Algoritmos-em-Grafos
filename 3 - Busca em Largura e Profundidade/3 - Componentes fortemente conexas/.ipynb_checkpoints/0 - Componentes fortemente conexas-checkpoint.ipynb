{
 "cells": [
  {
   "cell_type": "markdown",
   "metadata": {},
   "source": [
    "### Componentes conexas\n",
    "Em um grafo conexo, uma componente conectada é um subgrafo conectado maximal de um grafo.\n",
    "## Exemplo:\n",
    "<img src=\"./Imagens/ComponentesConexas.png\" style=\"width:70%; margin-left:auto; margin-right:auto;\">\n",
    "\n",
    "Considerando grafos direcionados, dizemos que grafos fortemente conexos são aqueles que para qualquer par de vértices existe um caminho de ida (u, v) e de volta (v, u). Qualquer grafo que possua mais de duas componentes não é fortemente conexo. Assim, se o grafo é fortemente conexo, ele possui apenas uma componente. \n",
    "\n",
    "Obs.: \n",
    "* Grafo fortemente conexo é diferente de componente fortemente conexa.\n",
    "* Um grafo fortemenete conexo é uma componente fortemente conexa, mas uma componente fortemente conexa não é necessariamente um grafo fortemente conexo.\n",
    "## Exemplo:"
   ]
  },
  {
   "cell_type": "markdown",
   "metadata": {},
   "source": [
    "<figure>\n",
    "    <img src=\"./Imagens/ComponentesFortementeConexas1.png\" style=\"width:80%; margin-left:auto; margin-right:auto;\">\n",
    "    <figcaption style=\"font-size:11px\">Fig. 2 - Cormen, Thomas H.; Leiserson, Charles E.; Rivest, Ronald L.; Stein, Clifford (2009) [1990]. Introduction to Algorithms (3rd ed.). p. 616 </figcaption>\n",
    "</figure>"
   ]
  },
  {
   "cell_type": "markdown",
   "metadata": {},
   "source": [
    "Na imagem acima as componentes fortemente conexas estão destacadas com o fundo azul. Em uma componente fortemente conexa é possivel chegar em qualquer vértice partindo de qualquer outro vértice da componente, ou seja, todos os vértices dentro de uma componente fortemente conexa é alcançável. um grafo fortemente conexo é um grafo onde é possível chegar a qualquer vértice independentemente do vértice de partida.\n",
    "\n",
    "Na componente A-B-E:\n",
    "1. Saindo do vértice A, conseguimos chegar ao vértice B e ao vértice E e até voltar ao vértice A.\n",
    "2. O mesmo vale para os vértices B e E. Todas as demais componentes possuem a mesma característica.\n",
    "3. As componentes fortemente conexas tem ciclos e/ou loops.\n",
    "4. As ligações entre as componentes são fracas (arestas em vermelho)."
   ]
  },
  {
   "cell_type": "markdown",
   "metadata": {},
   "source": [
    "<figure>\n",
    "    <img src=\"./Imagens/ComponentesFortementeConexasLF.png\" style=\"width:80%; margin-left:auto; margin-right:auto;\">\n",
    "    <figcaption style=\"font-size:11px\">Fig. 3 - Cormen, Thomas H.; Leiserson, Charles E.; Rivest, Ronald L.; Stein, Clifford (2009) [1990]. Introduction to Algorithms (3rd ed.). p. 616</figcaption>\n",
    "</figure>"
   ]
  },
  {
   "cell_type": "markdown",
   "metadata": {},
   "source": [
    "Para detectar componentes conexas de um grafo, podemos usar Busca em Profundidade, que tem como uma de suas funções, encontrar ciclos."
   ]
  },
  {
   "cell_type": "markdown",
   "metadata": {},
   "source": [
    "<h3>Pseudocódigo</h3>\n",
    "<pre>\n",
    "COMPONENTES-FORTEMENTE-CONEXAS(G)\n",
    "1 chamar a rotina DFS(G) para encontrar os tempos de finalização u.f para cada vertice u. Retorne um vetor com os tempos de finalização u.f.\n",
    "2 ache o grafo transposto G<sup>T</sup>\n",
    "3 para cada vertice do vetor encontrado na linha (1) que ainda não tenha sido visitado, chamamos DFS(G<sup>T</sup>) e encontramos cada componente fortemente conexa.\n",
    "4 como saída, teremos cada floresta da árvore.\n",
    "</pre>"
   ]
  },
  {
   "cell_type": "markdown",
   "metadata": {},
   "source": [
    "# Código"
   ]
  },
  {
   "cell_type": "code",
   "execution_count": 12,
   "metadata": {},
   "outputs": [],
   "source": [
    "'''\n",
    "COMPONENTES-FORTEMENTE-CONEXAS(G)\n",
    "1 chamar a rotina DFS(G) para encontrar os tempos de finalização u.f para cada vertice u. \n",
    "    Retorne um vetor com os tempos de finalização u.f.\n",
    "2 ache o grafo transposto GT\n",
    "3 para cada vertice do vetor encontrado na linha (1) que ainda não tenha sido visitado, \n",
    "    chamamos DFS(GT) e encontramos cada componente fortemente conexa.\n",
    "4 como saída, teremos cada floresta da árvore.\n",
    "'''\n",
    "'''\n",
    "matriz_adjacencia = [[0, 0, 1, 1, 0],\n",
    "                     [1, 0, 0, 0, 0],\n",
    "                     [0, 1, 0, 0, 1],\n",
    "                     [0, 0, 0, 0, 1],\n",
    "                     [0, 0, 1, 0, 0]]\n",
    "                                          \n",
    "'''\n",
    "matriz_adjacencia = [[0, 1, 0, 0, 0, 0, 0, 0],\n",
    "                     [0, 0, 1, 0, 1, 1, 0, 0],\n",
    "                     [0, 0, 0, 1, 0, 0, 1, 0],\n",
    "                     [0, 0, 1, 0, 0, 0, 0, 1],\n",
    "                     [1, 0, 0, 0, 0, 1, 0, 0],\n",
    "                     [0, 0, 0, 0, 0, 0, 1, 0],\n",
    "                     [0, 0, 0, 0, 0, 1, 0, 1],\n",
    "                     [0, 0, 0, 0, 0, 0, 0, 1]]\n",
    "\n",
    "# lista de vertices do grafo\n",
    "vertices = [i for i in range(len(matriz_adjacencia))]\n",
    "# lista de vertices ja visitados\n",
    "vertice_visitado = []\n",
    "# lista com a ordem de tempo final dos vertices\n",
    "ordenacao = []\n",
    "# lista com vertices ja visitados\n",
    "visitado = []\n",
    "# lista com cada ciclo que forma uma componente conexa\n",
    "ciclo = []\n",
    "# lista que contém o status de cada vértice (Branco, Cinza, Preto), assim como o vértice pai e o tempo\n",
    "grafo_dfs = []\n",
    "# lista com todos a componentes fortemente conexas\n",
    "componentes_fconexas = []\n",
    "\n",
    "###--------------------------------------------------------------------------------------------------###\n",
    "# PRIMEIRA PARTE DO ALGORITMO - BUSCA EM PROFUNDIDADE PARA DEFINIR A ORDENACAO POR ORDEM DE TEMPO FINAL\n",
    "# OU FECHAMENTO DO VERTICE (QUANDO O VERTICE TORNA-SE PRETO E NAO E MAIS VISITADO)\n",
    "\n",
    "\n",
    "def grafo_inicial_dfs():\n",
    "    grafo_inicial = []\n",
    "    for i in range(len(vertices)):\n",
    "        grafo_inicial.append([i, 'BRANCO', None])\n",
    "    return grafo_inicial\n",
    "\n",
    "\n",
    "def dfs(Grafo):\n",
    "    '''\n",
    "    Função para inicializar os valores como: cor, pai, tempo\n",
    "    Parâmetros:\n",
    "        Grafo\n",
    "            grafo a ser percorrido pela busca em profundidade\n",
    "    '''\n",
    "    # Inicialização de valores    \n",
    "    grafo_dfs.extend(grafo_inicial_dfs())\n",
    "\n",
    "    for i in range(len(vertices)):\n",
    "        # caso o vertice nao tenha sido visitado, e realizada a busca em profundidade(teste para todos os vertices)\n",
    "        if grafo_dfs[i][0] not in vertice_visitado:\n",
    "            dfs_visit(Grafo, grafo_dfs[i][0])\n",
    "\n",
    "def dfs_visit(Grafo, u):\n",
    "    # encontrando o indice do vertice u no grafo_dfs\n",
    "    for i in range(len(grafo_dfs)):\n",
    "        if grafo_dfs[i][0] == u:\n",
    "            indice = i\n",
    "    # O vértice sendo explorado, recebe a cor cinza\n",
    "    grafo_dfs[indice][1] = 'CINZA'\n",
    "    vertice_visitado.append(grafo_dfs[indice][0])\n",
    "\n",
    "    ind = 0\n",
    "    for i in range(len(Grafo)):\n",
    "        if Grafo[u][i] == 1 and (vertices[i] not in vertice_visitado):\n",
    "            v = vertices[i]\n",
    "            ind = i\n",
    "        \n",
    "        if grafo_dfs[ind][1] == 'BRANCO':\n",
    "            grafo_dfs[ind][2] = u\n",
    "            dfs_visit(Grafo, v)\n",
    "\n",
    "    for i in range(len(grafo_dfs)):\n",
    "        if grafo_dfs[i][0] == u:\n",
    "            grafo_dfs[i][1] = 'PRETO'\n",
    "\n",
    "            ordenacao.append(u)\n"
   ]
  },
  {
   "cell_type": "code",
   "execution_count": 13,
   "metadata": {},
   "outputs": [],
   "source": [
    "## obs: para executar essa célula é necessário antes executar células anteriores respectivas ao código\n",
    "\n",
    "###--------------------------------------------------------------------------------------------------###\n",
    "# FUNCAO PARA TRANSPOR O GRAFO\n",
    "def grafo_transposto(Grafo):\n",
    "    grafo_trans = []\n",
    "    for i in range(len(Grafo)):\n",
    "        linha_coluna = []\n",
    "        for j in range(len(Grafo)):\n",
    "            linha_coluna.append(Grafo[j][i])\n",
    "        grafo_trans.append(linha_coluna)\n",
    "\n",
    "    return grafo_trans\n"
   ]
  },
  {
   "cell_type": "markdown",
   "metadata": {},
   "source": [
    "<img src=\"Imagens/grafoTransposto.png\" style=\"width:50%; margin-left:auto; margin-right:auto;\">"
   ]
  },
  {
   "cell_type": "code",
   "execution_count": 14,
   "metadata": {},
   "outputs": [
    {
     "name": "stdout",
     "output_type": "stream",
     "text": [
      "[[1, 4, 0], [3, 2], [5, 6], [7]]\n"
     ]
    }
   ],
   "source": [
    "## obs: para executar essa célula é necessário antes executar células anteriores respectivas ao código\n",
    "\n",
    "###--------------------------------------------------------------------------------------------------###\n",
    "### SEGUNDA PARTE \n",
    "### ENCONTRAMOS CADA COMPONENTE FORTEMENTE CONEXA DO GRAFO\n",
    "def dfs_visit2(Grafo, u, grafo_final_dfs):\n",
    "    \n",
    "    for i in range(len(grafo_final_dfs)):\n",
    "        if grafo_final_dfs[i][0] == u:\n",
    "            indice = i\n",
    "\n",
    "    grafo_final_dfs[indice][1] = 'CINZA'\n",
    "    visitado.append(grafo_final_dfs[indice][0])\n",
    "\n",
    "    ind = 0\n",
    "    for i in range(len(Grafo)):\n",
    "        if Grafo[u][i] == 1 and vertices[i] not in visitado:\n",
    "            v = vertices[i]\n",
    "            ind = i\n",
    "\n",
    "            if grafo_final_dfs[ind][1] == 'BRANCO':\n",
    "                grafo_final_dfs[ind][2] = u\n",
    "                dfs_visit2(Grafo, v, grafo_final_dfs)\n",
    "    for i in range(len(grafo_final_dfs)):\n",
    "        if grafo_final_dfs[i][0] == u:\n",
    "            grafo_final_dfs[i][1] = 'PRETO'\n",
    "            ciclo.append(u)\n",
    "\n",
    "\n",
    "aux = []\n",
    "def dfs_connected(pilha):\n",
    "    while pilha:\n",
    "        vertice_inicial = pilha.pop()\n",
    "        dfs_visit2(grafo_t, vertice_inicial, grafo_inicial_dfs())\n",
    "\n",
    "        if (len(ciclo) > 1):\n",
    "            aux = ciclo[:]\n",
    "            componentes_fconexas.append(aux)\n",
    "\n",
    "        elif (len(ciclo) == 1 and matriz_adjacencia[ciclo[0]][ciclo[0]] > 0):\n",
    "            aux = ciclo[:]\n",
    "            componentes_fconexas.append(aux)\n",
    "  \n",
    "        ciclo.clear()\n",
    "\n",
    "dfs(matriz_adjacencia)\n",
    "grafo_t = grafo_transposto(matriz_adjacencia)\n",
    "dfs_connected(ordenacao)\n",
    "print(componentes_fconexas)"
   ]
  },
  {
   "cell_type": "code",
   "execution_count": null,
   "metadata": {},
   "outputs": [],
   "source": []
  }
 ],
 "metadata": {
  "kernelspec": {
   "display_name": "Python 3",
   "language": "python",
   "name": "python3"
  },
  "language_info": {
   "codemirror_mode": {
    "name": "ipython",
    "version": 3
   },
   "file_extension": ".py",
   "mimetype": "text/x-python",
   "name": "python",
   "nbconvert_exporter": "python",
   "pygments_lexer": "ipython3",
   "version": "3.8.5"
  }
 },
 "nbformat": 4,
 "nbformat_minor": 4
}
