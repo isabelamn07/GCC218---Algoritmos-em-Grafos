{
 "cells": [
  {
   "cell_type": "markdown",
   "metadata": {},
   "source": [
    "# Caminho Hamiltoniano</h2>\n",
    "Um caminho hamiltoniano consiste em um caminho que passa por todos os vértices do grafo exatamente uma única vez.\n",
    "## Exemplo:\n",
    "Temos que viajar pelas seguintes cidades: Boa esperança, Perdões, Nepomuceno, Lavras,Três Pontas e Luminárias passando por cada uma apenas uma vez."
   ]
  },
  {
   "cell_type": "markdown",
   "metadata": {},
   "source": [
    "<img src=\"Imagens/Hamiltoniano.png\" style=\"width:400px; height:400px; margin-left:auto; margin-right:auto\">"
   ]
  },
  {
   "cell_type": "markdown",
   "metadata": {},
   "source": [
    "Nosso ônibus começou a viagem por Perdões indo até Boa Esperança.\n",
    "<table>\n",
    "    <tr>\n",
    "        <td><img src=\"Imagens/Hamiltoniano1.png\" width=\"450px\" height=\"450px\"/></td>\n",
    "        <td><img src=\"Imagens/Hamiltoniano2.png\" width=\"450px\" height=\"450px\"/></td>\n",
    "        <td><img src=\"Imagens/Hamiltoniano3.png\" width=\"450px\" height=\"450px\"/></td>\n",
    "   <tr>\n",
    "</table>"
   ]
  },
  {
   "cell_type": "markdown",
   "metadata": {},
   "source": [
    "<table>\n",
    "    <tr>        \n",
    "        <td><img src=\"Imagens/Hamiltoniano4.png\" width=\"450px\" height=\"450px\"/></td>\n",
    "        <td><img src=\"Imagens/Hamiltoniano5.png\" width=\"450px\" height=\"450px\"/></td>\n",
    "        <td><img src=\"Imagens/Hamiltoniano6.png\" width=\"450px\" height=\"450px\"/></td>        \n",
    "    </tr>\n",
    "</table>"
   ]
  },
  {
   "cell_type": "markdown",
   "metadata": {},
   "source": [
    "Passamos por todas as cidades sem repetições, formando um **caminho Hamiltoniano**."
   ]
  },
  {
   "cell_type": "markdown",
   "metadata": {},
   "source": [
    "## Grafo Hamiltoniano"
   ]
  },
  {
   "cell_type": "markdown",
   "metadata": {},
   "source": [
    "Um grafo Hamiltoniano se possui um Ciclo Hamiltoniano. Ou seja: conseguimos sair de um vértice inicial, passar por todos os outros vértices apenas uma única vez, e voltarmos para o vértice inicial.\n",
    "## Exemplo:\n",
    "\n",
    "<table>\n",
    "    <tr>        \n",
    "        <td>\n",
    "            <p>Vértice incial P(Perdões)</p>\n",
    "            <img src=\"Imagens/GrafoHamiltoniano.png\"/>\n",
    "        </td>\n",
    "        <td>\n",
    "            <p>Perdões - Boa Esperança</p>\n",
    "            <img src=\"Imagens/GrafoHamiltoniano1.png\"/>\n",
    "        </td>\n",
    "        <td>\n",
    "            <p>Boa Esperança - Nepomuceno</p>\n",
    "            <img src=\"Imagens/GrafoHamiltoniano2.png\"/>\n",
    "        </td>\n",
    "        <td>\n",
    "            <p>Nepomuceno - Três Pontas</p>\n",
    "            <img src=\"Imagens/GrafoHamiltoniano3.png\"/>\n",
    "        </td>\n",
    "   <tr>        \n",
    "        <td>\n",
    "            <p>Três Pontas - Luminárias</p>\n",
    "            <img src=\"Imagens/GrafoHamiltoniano4.png\" width=\"450px\" height=\"450px\" align=\"left\" />\n",
    "        </td>\n",
    "        <td>\n",
    "            <p>Luminárias - Lavras</p>\n",
    "            <img src=\"Imagens/GrafoHamiltoniano5.png\" width=\"450px\" height=\"450px\" aligh=\"right\" />\n",
    "        </td>\n",
    "        <td>\n",
    "            <p>Lavras - Perdões</p>\n",
    "            <img src=\"Imagens/GrafoHamiltoniano6.png\" width=\"450px\" height=\"450px\">\n",
    "        </td>\n",
    "        <td>            \n",
    "        </td>\n",
    "    </tr>\n",
    "</table>"
   ]
  },
  {
   "cell_type": "markdown",
   "metadata": {},
   "source": [
    "Alguns grafos podem ter <b>caminho hamiltoniano</b>, porém não serem <b>grafos hamiltonianos.</b>\n",
    "## Exemplo:"
   ]
  },
  {
   "cell_type": "markdown",
   "metadata": {},
   "source": [
    "<img src=\"Imagens/GrafoCaminho.png\" width=\"650px\" height=\"450px\">"
   ]
  },
  {
   "cell_type": "markdown",
   "metadata": {},
   "source": [
    "## Código"
   ]
  },
  {
   "cell_type": "markdown",
   "metadata": {},
   "source": [
    "### Grafos Hamiltonianos\n",
    "Ainda não existe um algoritmo em tempo polinomial capaz de determinar em todos os casos se um grafo é hamiltoniano ou não. Isso faz com que esse problema se enquadre na classe dos problemas NP-Completos.\n",
    "Um problema associado a grafos Hamiltonianos é o clássico Problema do Caixeiro Viajante (PCV)*, que consiste em enconrar o ciclo Hamiltoniano de menor custo, em grafos ponderados. O PCV também é NP-Completo. Apesar dos melhores algoritmos exatos serem exponenciais, podemos usar heurísticas para tentar encontrar soluções de qualidade para o PCV.\n",
    "\n",
    "*Cook, W. J., 2012 _In Pursuit of the Traveling Salesman: Mathematics at the Limits of Computation_, \n",
    "Princeton University Press,  Disponível em [link](https://www.amazon.com.br/Pursuit-Traveling-Salesman-Mathematics-Computation/dp/0691152705)\n",
    "### Exemplo"
   ]
  },
  {
   "cell_type": "markdown",
   "metadata": {},
   "source": [
    "### Algoritmo vizinho mais próximo (nearest neighbor)\n",
    "Com o algoritmo vizinho mais próximo (NN), percorremos um grafo passando por todos os vértices escolhendo sempre o próximo vértice de acordo com o menor custo das arestas incidentes aos vértices já visitados. O vértice inicial é escolhido aleatoriamente. "
   ]
  },
  {
   "cell_type": "code",
   "execution_count": 9,
   "metadata": {},
   "outputs": [
    {
     "name": "stdout",
     "output_type": "stream",
     "text": [
      "Caminho [0, 2, 5, 1, 4, 3, 0]\n"
     ]
    }
   ],
   "source": [
    "import random\n",
    "import sys\n",
    "from math import inf\n",
    "# Grafo no formato de matriz de adjacência\n",
    "grafo = [[0, 7, 1, 15, 8, 3],\n",
    "         [7, 0, 9, 21, 5, 4],\n",
    "         [1, 9, 0, 35, 26, 12],\n",
    "         [15, 21, 35, 0, 13, 42],\n",
    "         [8, 5, 26, 13, 0, 5],\n",
    "         [3, 4, 12, 42, 5, 0]]\n",
    "\n",
    "caminho = []\n",
    "\n",
    "def vizinho_tsp():\n",
    "    \n",
    "    if grafo:\n",
    "        v1 = random.randint(0, len(grafo)-1) # v1 recebe o primeiro vértice aleatoriamente\n",
    "        caminho.append(v1) # o vértice é adicionado ao caminho\n",
    "        while len(caminho) < len(grafo):\n",
    "            j = find_min() \n",
    "            caminho.append(j) # O vizinho mais próximo é sempre adicionado ao caminho até que todos os vértices sejam visitados\n",
    "    caminho.append(caminho[0])  \n",
    "    print(\"Caminho\", caminho)\n",
    "\n",
    "def find_min():\n",
    "    '''\n",
    "    Encontra e retorna o vizinho com a aresta incidente de menor peso a partir de todos os vértices já visitados\n",
    "    '''\n",
    "    menor = inf\n",
    "    coluna = 0\n",
    "    linha = 0\n",
    "    for i in caminho: # caminho tem todos os vértices já visitados\n",
    "        for j in range(len(grafo)):\n",
    "            if  (grafo[i][j] < menor) and j not in caminho and grafo[i][j] != 0:\n",
    "                menor = grafo[i][j]\n",
    "                linha = i\n",
    "                coluna = j\n",
    "   \n",
    "    return coluna\n",
    "\n",
    "vizinho_tsp()\n"
   ]
  },
  {
   "cell_type": "code",
   "execution_count": null,
   "metadata": {},
   "outputs": [],
   "source": []
  }
 ],
 "metadata": {
  "kernelspec": {
   "display_name": "Python 3",
   "language": "python",
   "name": "python3"
  },
  "language_info": {
   "codemirror_mode": {
    "name": "ipython",
    "version": 3
   },
   "file_extension": ".py",
   "mimetype": "text/x-python",
   "name": "python",
   "nbconvert_exporter": "python",
   "pygments_lexer": "ipython3",
   "version": "3.8.5"
  }
 },
 "nbformat": 4,
 "nbformat_minor": 4
}
