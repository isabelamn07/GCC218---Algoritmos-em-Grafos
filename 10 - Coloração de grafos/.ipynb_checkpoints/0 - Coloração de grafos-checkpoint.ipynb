{
 "cells": [
  {
   "cell_type": "markdown",
   "metadata": {},
   "source": [
    "# Coloração de grafos"
   ]
  },
  {
   "cell_type": "markdown",
   "metadata": {},
   "source": [
    "A coloração de grafos consiste em atribuir cores para os vértices ou arestas de um grafo, onde vértices adjacentes sempre possuem cores diferentes ou arestas que incidem no mesmo vértice possuem cores diferentes, portanto duas cores iguais nunca se ligam entre si.\n",
    "\n",
    "Cada conjunto de vértices ou arestas com cores diferentes tem elementos que se ligam a outros conjuntos, mas nunca há ligações de elementos do mesmo conjunto."
   ]
  },
  {
   "cell_type": "markdown",
   "metadata": {},
   "source": [
    "### Alguns conceitos\n",
    "* Número cromático: menor número de cores necessárias para colorir um grafo;\n",
    "* Grau de um vértice: número de arestas incidentes sobre o vértice;\n",
    "* Grafo completo: grafo onde todos os vértices são adjacentes."
   ]
  },
  {
   "cell_type": "markdown",
   "metadata": {},
   "source": [
    "### Coloração de vértices\n"
   ]
  },
  {
   "cell_type": "markdown",
   "metadata": {},
   "source": [
    "No exemplo a seguir, temos um grafo separado em conjuntos de vértices:"
   ]
  },
  {
   "cell_type": "markdown",
   "metadata": {},
   "source": [
    "<img src=\"Imagens/Coloracao.png\" width=\"600\" height=\"500\">"
   ]
  },
  {
   "cell_type": "markdown",
   "metadata": {},
   "source": [
    "Existem algumas propriedades sobre a coloração de grafos"
   ]
  },
  {
   "cell_type": "markdown",
   "metadata": {},
   "source": [
    "* Grafos completos tem número cromático igual ao número de vértices"
   ]
  },
  {
   "cell_type": "markdown",
   "metadata": {},
   "source": [
    "<img src=\"./Imagens/Grafo-completo-coloracao.png\" alt=\"Coloração de um grafo completo\" width=\"400\" height=\"150\">"
   ]
  },
  {
   "cell_type": "markdown",
   "metadata": {},
   "source": [
    "### Coloração de arestas\n",
    "O número cromático na coloração de arestas é igual ao maior grau de um vértice do grafo. No exemplo a seguir, o vértice de maior grau é o vértice <b>2</b> no segundo conjunto:"
   ]
  },
  {
   "cell_type": "markdown",
   "metadata": {},
   "source": [
    "<img src=\"Imagens/Coloracao-arestas.png\" width=\"600\" height=\"500\">"
   ]
  }
 ],
 "metadata": {
  "kernelspec": {
   "display_name": "Python 3",
   "language": "python",
   "name": "python3"
  },
  "language_info": {
   "codemirror_mode": {
    "name": "ipython",
    "version": 3
   },
   "file_extension": ".py",
   "mimetype": "text/x-python",
   "name": "python",
   "nbconvert_exporter": "python",
   "pygments_lexer": "ipython3",
   "version": "3.6.9"
  }
 },
 "nbformat": 4,
 "nbformat_minor": 4
}
