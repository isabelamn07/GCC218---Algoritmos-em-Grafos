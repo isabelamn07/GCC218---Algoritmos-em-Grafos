{
 "cells": [
  {
   "cell_type": "markdown",
   "metadata": {},
   "source": [
    "### Isomorfismo\n",
    "Grafos isomorfos são grafos equivalentes quanto à sua estrutura, mas não necessariamente em seu desenho. Formalmente, sejam $G=(V_G,E_G)$ e $H=(V_H,E_H)$ dois grafos quaisquer. Dizemos que $G$ é isomorfo a $H$ se existir uma bijeção $f:V_G \\rightarrow V_H$ tal que $\\forall (u,v) \\in E_G$, existe $(f(u),f(v)) \\in E_H$.\n",
    "### Exemplo"
   ]
  },
  {
   "cell_type": "markdown",
   "metadata": {},
   "source": [
    "<img src=\"./Imagens/grafoIsomorfo.png\" width=\"800\" height=\"840\">"
   ]
  },
  {
   "cell_type": "markdown",
   "metadata": {},
   "source": [
    "os grafos G e G' são isomorfos pois:\n",
    "    <ul>\n",
    "        <li>O número de vértices é igual </li>\n",
    "        <li>O número de arestas é igual </li>\n",
    "        <li>Todos os vértices tem vértices equivalentes. Abaixo a relação de bijeção:</li>\n",
    "        <ul>\n",
    "            <li>V1 = V1' </li>\n",
    "            <li>V2 = V5' </li>\n",
    "            <li>V3 = V4' </li>\n",
    "            <li>V4 = V2' </li>\n",
    "            <li>V5 = V3' </li>\n",
    "        </ul>\n",
    "    </ul>"
   ]
  },
  {
   "cell_type": "markdown",
   "metadata": {},
   "source": [
    "<img src=\"./Imagens/grafoIsomorfismo2.png\" width=\"800\" height=\"840\">"
   ]
  },
  {
   "cell_type": "markdown",
   "metadata": {},
   "source": [
    "Equivalência das arestas:\n",
    "<ul><li> a1 = a2&lsquo;</li>\n",
    "    <li> a2 = a1&lsquo;</li>\n",
    "    <li> a3 = a4&lsquo;</li>\n",
    "    <li> a4 = a5&lsquo;</li>\n",
    "    <li> a5 = a3&lsquo;</li>\n",
    "</ul>"
   ]
  },
  {
   "cell_type": "markdown",
   "metadata": {},
   "source": [
    "Os ciclos dos grafos tem o mesmo tamanho e ambos tem a mesma quantidade de ciclos.\n",
    "\n",
    "<img src=\"./Imagens/grafoIsomorfismo3.png\" width=\"800\" height=\"840\" align=\"center\" >                          \n",
    "\n",
    "                                        G: v1-v5-v2-v3-v4-v1;                                  G': v1'-v3'-v5'-v4'-v2'-v1'\n",
    "                                                     \n",
    "Ambos são conexos, tem um circuito euleriano e um ciclo hamiltoniano."
   ]
  },
  {
   "cell_type": "markdown",
   "metadata": {},
   "source": [
    "Dada uma bijeção, podemos verificar se dois grafos são isomorfos utilizando matrizes de adjacência:\n",
    "    "
   ]
  },
  {
   "cell_type": "code",
   "execution_count": 1,
   "metadata": {},
   "outputs": [],
   "source": [
    "# Ordem dos vértices na matriz: v1, v2, v3, v4, v5\n",
    "grafo_G = [[0, 0, 0, 1, 1],\n",
    "           [0, 0, 1, 0, 1],\n",
    "           [0, 1, 0, 1, 0],\n",
    "           [1, 0, 1, 0, 0],\n",
    "           [1, 1, 0, 0, 0]]\n",
    "vertices_G = ['v1', 'v2', 'v3', 'v4', 'v5']\n",
    "arestas_G = [('v1','v4'), ('v1', 'v5'), ('v2', 'v3'), ('v2','v5'), ('v3', 'v4')]"
   ]
  },
  {
   "cell_type": "code",
   "execution_count": 2,
   "metadata": {},
   "outputs": [],
   "source": [
    "# Ordem dos vértices na matriz: v1', v2', v3', v4', v5'\n",
    "grafo_H = [[0, 1, 1, 0, 0],\n",
    "            [1, 0, 0, 1, 0],\n",
    "            [1, 0, 0, 0, 1],\n",
    "            [0, 1, 0, 0, 1],\n",
    "            [0, 0, 1, 1, 0]]\n",
    "vertices_H = ['v1', 'v2', 'v3', 'v4', 'v5']\n",
    "arestas_H = [('v1','v2'), ('v1', 'v3'), ('v2', 'v4'), ('v3','v5'), ('v4', 'v5')]"
   ]
  },
  {
   "cell_type": "markdown",
   "metadata": {},
   "source": [
    "Se nós conseguirmos montar duas matrizes de adjacência exatamente iguais, os grafos são isomorfos."
   ]
  },
  {
   "cell_type": "code",
   "execution_count": 4,
   "metadata": {},
   "outputs": [
    {
     "name": "stdout",
     "output_type": "stream",
     "text": [
      "Grafo isomorfo\n"
     ]
    }
   ],
   "source": [
    "## Através da bijeção podemos encontrar a ordem dos vértices na matriz\n",
    "\"\"\"\n",
    "     V1 - V1' \n",
    "     V2 - V5'\n",
    "     V3 - V4'\n",
    "     V4 - V2'\n",
    "     V5 - V3'\n",
    "\"\"\"\n",
    "bijecoes = [(0, 0), (1, 4), (2, 3), (3, 1), (4, 2)]\n",
    "\n",
    "def bijecao(n):\n",
    "    for i in range(n):\n",
    "        for j in range(n):\n",
    "            if(grafo_G[i][j] != grafo_H[bijecoes[i][1]][bijecoes[j][1]]):                \n",
    "                return False\n",
    "            \n",
    "    return True\n",
    "    \n",
    "if bijecao(len(grafo_G)):\n",
    "    print(\"Grafo isomorfo\")\n"
   ]
  }
 ],
 "metadata": {
  "kernelspec": {
   "display_name": "Python 3",
   "language": "python",
   "name": "python3"
  },
  "language_info": {
   "codemirror_mode": {
    "name": "ipython",
    "version": 3
   },
   "file_extension": ".py",
   "mimetype": "text/x-python",
   "name": "python",
   "nbconvert_exporter": "python",
   "pygments_lexer": "ipython3",
   "version": "3.6.9"
  }
 },
 "nbformat": 4,
 "nbformat_minor": 4
}
