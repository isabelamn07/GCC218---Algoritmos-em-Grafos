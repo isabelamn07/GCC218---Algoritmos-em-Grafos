{
 "cells": [
  {
   "cell_type": "markdown",
   "metadata": {},
   "source": [
    "# Algoritmo guloso\n",
    "\n",
    "No algoritmo guloso, inserimos as arestas em ordem crescente, e criamos o caminho adicionando arestas sem formar ciclos. No fim, criamos um ciclo ligando o último vértice visitado ao primeiro inserido."
   ]
  },
  {
   "cell_type": "markdown",
   "metadata": {},
   "source": [
    "Dado um grafo G=(V,E):\n",
    "\n",
    "<img src=\"./Imagens/TSP.png\" style=\"width:33%; margin-left:auto; margin-right:auto;\">\n",
    "\n",
    "<div style='width: 100%; vertical-align:top; font-size:16px; border: 4px solid black; background-color:white;'>\n",
    "    Inserimos os vértices em ordem decrescente sem formar ciclos.\n",
    "</div>\n",
    "<table>\n",
    "    <tr>\n",
    "        <td><img src=\"./Imagens/TSPGUL0.png\"></td>\n",
    "        <td><img src=\"./Imagens/TSPGUL1.png\"></td>\n",
    "        <td><img src=\"./Imagens/TSPGUL2.png\"></td>\n",
    "    </tr>\n",
    "    <tr>\n",
    "        <td style='width: 33,33%; vertical-align:top; font-size:16px; border: 4px solid black; background-color:white;'>\n",
    "        Para garantir que não vão ser formados ciclos, até visitarmos todos os vértices, cada vértice pode ter no máximo grau 2 na formação de caminho.\n",
    "        </td>\n",
    "        <td style='width: 33.33%; vertical-align:top; font-size:16px; border: 4px solid black; background-color:white;'>\n",
    "        Quando dois vértices tem pesos iguais, pode-se qualquer das arestas desde que siga as regras.\n",
    "        </td>\n",
    "        <td style='width: 33.34%; vertical-align:top; font-size:16px; border: 4px solid black; background-color:white;'>\n",
    "        Ao final formamos um caminho que não necessariamente terá o menor caminho.\n",
    "        </td>\n",
    "    </tr>\n",
    "    <tr> \n",
    "        <td><img src=\"./Imagens/TSPGUL3.png\"></td>\n",
    "        <td><img src=\"./Imagens/TSPGUL4.png\"></td>\n",
    "        <td><img src=\"./Imagens/TSPGUL5.png\"></td>\n",
    "    </tr>\n",
    "</table>"
   ]
  },
  {
   "cell_type": "markdown",
   "metadata": {},
   "source": [
    "# Código "
   ]
  },
  {
   "cell_type": "code",
   "execution_count": 3,
   "metadata": {},
   "outputs": [
    {
     "name": "stdout",
     "output_type": "stream",
     "text": [
      "Arestas:  [(0, 2, 1), (0, 5, 3), (1, 5, 4), (1, 4, 5), (4, 5, 5), (0, 1, 7), (0, 4, 8), (1, 2, 9), (2, 5, 12), (3, 4, 13), (0, 3, 15), (1, 3, 21), (2, 4, 26), (2, 3, 35), (3, 5, 42)]\n",
      "caminho [(0, 2), (0, 5), (1, 5), (1, 4), (3, 4), (2, 3)]\n"
     ]
    }
   ],
   "source": [
    "#tsp algoritmo guloso(greedy)\n",
    "\n",
    "'''\n",
    "pseudocodigo\n",
    "1 Para cada aresta do grafo, em ordem nao-descrecente de custo\n",
    "1.1 Se a inclusão da aresta nao deixa o grau de nenhum vertice maior do \n",
    "que 2 e nao provoca subciclos, inclua a aresta na solução'''\n",
    "\n",
    "import operator\n",
    "# Grafo no formato de matriz de adjacência\n",
    "grafo = grafo = {0: {1: 7, 2: 1, 3: 15, 4: 8, 5: 3},\n",
    "                 1: {0: 7, 2: 9, 3: 21, 4: 5, 5: 4},\n",
    "                 2: {0: 1, 1: 9, 3: 35, 4: 26, 5: 12},\n",
    "                 3: {0: 15, 1: 21, 2: 35, 4: 13, 5: 42},\n",
    "                 4: {0: 8, 1: 5, 2: 26, 3: 13, 5: 5},\n",
    "                 5: {0: 3, 1: 4, 2: 12, 3: 42, 4: 5}}\n",
    "caminho = []\n",
    "arestas = [] # estrutura que recebe todas as arestas do grafo e seus respectivos pesos\n",
    "\n",
    "\n",
    "def tsp_guloso():\n",
    "\n",
    "    grau_vertice_visitado = {} # estrutura que recebe o grau de cada vertice\n",
    "\n",
    "    for i, j in grafo.items():\n",
    "        adj = list(j)\n",
    "        for k in range(len(j)):\n",
    "            if (len(arestas) >= 0) and (adj[k], i, grafo[i][adj[k]]) not in arestas:\n",
    "                arestas.append((i, adj[k], grafo[i][adj[k]]))\n",
    "\n",
    "    arestas.sort(key=operator.itemgetter(2)) # ordenamos as arestas de acordo com o valor de seu peso\n",
    "\n",
    "    print(\"Arestas: \", arestas)\n",
    "\n",
    "    for i in grafo:\n",
    "        grau_vertice_visitado.update({i: 0}) \n",
    "\n",
    "    for aresta in arestas:\n",
    "        if grau_vertice_visitado[aresta[0]] < 2 and  grau_vertice_visitado[aresta[1]] < 2: # o grau de nenhum dos vertices da aresta a ser adicionada pode ser maior ou igual a 2\n",
    "            grau_vertice_visitado.update({aresta[0]: grau_vertice_visitado[aresta[0]]+1})\n",
    "            grau_vertice_visitado.update({aresta[1]: grau_vertice_visitado[aresta[1]]+1})\n",
    "            caminho.append((aresta[0], aresta[1]))\n",
    "\n",
    "tsp_guloso()\n",
    "\n",
    "print('caminho', caminho)\n"
   ]
  },
  {
   "cell_type": "code",
   "execution_count": null,
   "metadata": {},
   "outputs": [],
   "source": []
  }
 ],
 "metadata": {
  "kernelspec": {
   "display_name": "Python 3",
   "language": "python",
   "name": "python3"
  },
  "language_info": {
   "codemirror_mode": {
    "name": "ipython",
    "version": 3
   },
   "file_extension": ".py",
   "mimetype": "text/x-python",
   "name": "python",
   "nbconvert_exporter": "python",
   "pygments_lexer": "ipython3",
   "version": "3.8.5"
  }
 },
 "nbformat": 4,
 "nbformat_minor": 4
}
