{
 "cells": [
  {
   "cell_type": "markdown",
   "metadata": {},
   "source": [
    "# Vizinho mais próximo\n",
    "No algoritmo do vizinho mais próximo, sempre escolhemos arestas de menor peso que sejam ligadas a vértices já visitados para vértices não visitados.\n"
   ]
  },
  {
   "cell_type": "markdown",
   "metadata": {},
   "source": [
    "<table>\n",
    "<tr>\n",
    "    <td style='width: 33,33%; vertical-align:top; font-size:16px; border: 4px solid black; background-color:white;'>\n",
    "    Dado um grafo G=(V,E).\n",
    "    </td>\n",
    "    <td style='width: 33.33%; vertical-align:top; font-size:16px; border: 4px solid black; background-color:white;'>\n",
    "    Escolhemos um vértice inicial aleatoriamente.\n",
    "    </td>\n",
    "    <td style='width: 33.34%; vertical-align:top; font-size:16px; border: 4px solid black; background-color:white;'>\n",
    "        Escolhemos a aresta de menor peso adjacente ao vértice <b>4</b>.\n",
    "    </td>\n",
    "</tr>\n",
    "<tr>\n",
    "    <td><img src=\"Imagens/TSP.png\"></td>\n",
    "    <td><img src=\"Imagens/TSPVIZ0.png\"></td>\n",
    "    <td><img src=\"Imagens/TSPVIZ1.png\"></td>\n",
    "</tr>\n",
    "<tr>\n",
    "    <td style='width: 33,33%; vertical-align:top; font-size:16px; border: 4px solid black; background-color:white;'>\n",
    "    Escolheremos sempre a aresta de menor peso adjacente aos vértices já visitados.\n",
    "    </td>\n",
    "    <td style='width: 33.33%; vertical-align:top; font-size:16px; border: 4px solid black; background-color:white;'>\n",
    "        As aresta escolhidas sempre tem um vértice <b>i</b> já visitado e um vértice <b>j</b> não visitado.\n",
    "    </td>\n",
    "    <td style='width: 33.34%; vertical-align:top; font-size:16px; border: 4px solid black; background-color:white;'>\n",
    "        Mesmo que haja arestas com menor peso como a aresta (4, 5), precisamos fazer um caminho passando por todos os vértices, começando e terminando no mesmo ponto.\n",
    "    </td>\n",
    "</tr>\n",
    "<tr>    \n",
    "    <td><img src=\"Imagens/TSPVIZ2.png\"></td>\n",
    "    <td><img src=\"Imagens/TSPVIZ3.png\"></td>\n",
    "    <td><img src=\"Imagens/TSPVIZ4.png\"></td>\n",
    "</tr>\n",
    "<tr>\n",
    "    <td><img src=\"Imagens/TSPVIZ5.png\"></td>\n",
    "    <td><img src=\"Imagens/TSPVIZ6.png\"></td>\n",
    "</tr>\n",
    "</table>"
   ]
  },
  {
   "cell_type": "markdown",
   "metadata": {},
   "source": [
    "# Código "
   ]
  },
  {
   "cell_type": "code",
   "execution_count": 2,
   "metadata": {},
   "outputs": [
    {
     "name": "stdout",
     "output_type": "stream",
     "text": [
      "Caminho [1, 5, 0, 2, 4, 3, 1]\n"
     ]
    }
   ],
   "source": [
    "import random\n",
    "from math import inf\n",
    "\n",
    "# Grafo no formato de matriz de adjacência\n",
    "grafo = [[0, 7, 1, 15, 8, 3],\n",
    "         [7, 0, 9, 21, 5, 4],\n",
    "         [1, 9, 0, 35, 26, 12],\n",
    "         [15, 21, 35, 0, 13, 42],\n",
    "         [8, 5, 26, 13, 0, 5],\n",
    "         [3, 4, 12, 42, 5, 0]]\n",
    "\n",
    "caminho = []\n",
    "\n",
    "def tsp_vizino_mais_proximo():\n",
    "    \n",
    "    if grafo:\n",
    "        v1 = random.randint(0, len(grafo)-1)# v1 recebe o primeiro vértice aleatoriamente\n",
    "        caminho.append(v1) # o vértice é adicionado ao caminho\n",
    "\n",
    "        while len(caminho) < len(grafo): # procuramos o vizinho mais proximo ate todos vertices serem adicionados ao caminho\n",
    "            j = encontra_vizinho_mais_proximo()\n",
    "            caminho.append(j)\n",
    "            \n",
    "    caminho.append(caminho[0])  \n",
    "    print(\"Caminho\", caminho)\n",
    "\n",
    "def encontra_vizinho_mais_proximo():    \n",
    "    '''\n",
    "    Encontra e retorna o vizinho com a aresta incidente de menor peso a partir de todos os vértices já visitados\n",
    "    '''\n",
    "    menor = inf\n",
    "    vertice_v = 0\n",
    "    i = caminho[-1] # i recebe o ultimo vertice visitado\n",
    "    for j in range(len(grafo)):\n",
    "        if  (grafo[i][j] < menor) and j not in caminho and i != j: # encontramos o vizinho mais proximo que ainda nao foi visitado \n",
    "            menor = grafo[i][j]\n",
    "            vertice_v = j\n",
    "   \n",
    "    return vertice_v\n",
    "\n",
    "tsp_vizino_mais_proximo()\n",
    "\n"
   ]
  },
  {
   "cell_type": "code",
   "execution_count": null,
   "metadata": {},
   "outputs": [],
   "source": []
  },
  {
   "cell_type": "code",
   "execution_count": null,
   "metadata": {},
   "outputs": [],
   "source": []
  }
 ],
 "metadata": {
  "kernelspec": {
   "display_name": "Python 3",
   "language": "python",
   "name": "python3"
  },
  "language_info": {
   "codemirror_mode": {
    "name": "ipython",
    "version": 3
   },
   "file_extension": ".py",
   "mimetype": "text/x-python",
   "name": "python",
   "nbconvert_exporter": "python",
   "pygments_lexer": "ipython3",
   "version": "3.8.5"
  }
 },
 "nbformat": 4,
 "nbformat_minor": 4
}
