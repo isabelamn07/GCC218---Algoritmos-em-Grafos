{
 "cells": [
  {
   "cell_type": "markdown",
   "metadata": {},
   "source": [
    "### Caminho mínimo\n",
    "\n",
    "O caminho mínimo é o caminho com menor valor ou distância entre um vértice inicial **(Source)**, e todos os outros vértices(single shortest path) do grafo até chegar ao vértice final **(Target)**. Ou podemos encontrar a menor distância/valor entre todos os vértices(all pairs shortest path) do grafo. "
   ]
  },
  {
   "cell_type": "markdown",
   "metadata": {},
   "source": [
    "### Exemplos:"
   ]
  },
  {
   "cell_type": "markdown",
   "metadata": {},
   "source": [
    "Single shortest path ou Caminho mínimo único - encontra o menor caminho a partir de um vértice inicial em relação a todos os outros vértices.\n",
    "<table>\n",
    "    <tr>        \n",
    "        <td>\n",
    "            <p style=\"text-align: center; font-size: 15px\">Grafo G</p>\n",
    "            <img src=\"Imagens/CM0.png\">\n",
    "        </td>\n",
    "        <td>\n",
    "            <p style=\"text-align: center; font-size: 15px\">Grafo que representa o caminho mínimo entre o vértice inicial <b>S</b> e um vértice final <b>T</b>.</p>\n",
    "            <img src=\"Imagens/CM.png\">\n",
    "        </td>\n",
    "    </tr>\n",
    "</table>"
   ]
  },
  {
   "cell_type": "markdown",
   "metadata": {},
   "source": [
    "Caminho mínimo (single shortest path):\n",
    "* Source: S\n",
    "* Target: T\n",
    "|**Vértice inicial**|**Vértice de chegada**|**Distância**|\n",
    "|:-----------------:|:---------:|:-----------:|\n",
    "| S | A | 6 |\n",
    "| S | B | 1 |\n",
    "| S | C | 8 |\n",
    "| S | D | 3 |\n",
    "| S | E | 9 |\n",
    "| S | F | 5 |\n",
    "| S | T | 10 |"
   ]
  },
  {
   "cell_type": "markdown",
   "metadata": {},
   "source": [
    "Caminho mínimo(All shortest paths)\n",
    "* **infinito** significa que o vértice não é alcançável \n",
    "\n",
    "\n",
    "|    | S| A   | B   | C   | D   | E   | F   | T|\n",
    "|:--:|:--:|:--:|:--:|:--:|:--:|:--:|:--:|:--:|\n",
    "|   S|   0|   6|   1|   8|   3|   9|   5|  10| \n",
    "|   A| infinito|   0|  16|   9|  28|  34|  30|  11| \n",
    "|   B| infinito|   5|   0|  14|  12|  18|  14|  16| \n",
    "|   C| infinito|  12|   7|   0|  19|  25|  21|   2| \n",
    "|   D| infinito|  17|  12|   5|   0|   6|   2|   7| \n",
    "|   E| infinito|  16|  11|   4|  23|   0|  25|   1| \n",
    "|   F| infinito|  37|  32|  25|  44|  21|   0|   8| \n",
    "|   T| infinito| infinito| infinito| infinito| infinito| infinito| infinito|   0|"
   ]
  },
  {
   "cell_type": "markdown",
   "metadata": {},
   "source": [
    "### Algoritmos de caminho mínimo:\n",
    "\n",
    "* Dijkstra (single shortest path)\n",
    "    * Encontra o caminho mínimo a partir de um vértice inicial para todos os outros vértices.\n",
    "    * Não pode ser usado em grafos com arestas negativas.\n",
    "* Bellman-Ford (single shortest path)\n",
    "   * Encontra o caminho mínimo a partir de um vértice inicial para todos os outros vértices\n",
    "   * Pode ser usado em grafos com arestas negativas.\n",
    "* Floyd-Warshall (All shortest paths)\n",
    "    * Encontra o caminho minimo dentre todos os pares de vértices\n",
    "    * Pode ser usado em grafos com arestas negativas"
   ]
  }
 ],
 "metadata": {
  "kernelspec": {
   "display_name": "Python 3",
   "language": "python",
   "name": "python3"
  },
  "language_info": {
   "codemirror_mode": {
    "name": "ipython",
    "version": 3
   },
   "file_extension": ".py",
   "mimetype": "text/x-python",
   "name": "python",
   "nbconvert_exporter": "python",
   "pygments_lexer": "ipython3",
   "version": "3.8.5"
  }
 },
 "nbformat": 4,
 "nbformat_minor": 4
}
