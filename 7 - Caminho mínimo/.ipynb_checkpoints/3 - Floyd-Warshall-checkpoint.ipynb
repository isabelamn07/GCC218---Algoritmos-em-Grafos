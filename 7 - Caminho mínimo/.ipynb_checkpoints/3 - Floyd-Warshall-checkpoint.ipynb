{
 "cells": [
  {
   "cell_type": "markdown",
   "metadata": {},
   "source": [
    "# Floyd-Warshall"
   ]
  },
  {
   "cell_type": "markdown",
   "metadata": {},
   "source": [
    "O algoritmo de Floyd-Warshall encontra as menores distâncias entre todos os pares de vértices de um grafo. Assim como no algorimot de Bellman-Ford, arestas de peso negativo são aceitas."
   ]
  },
  {
   "cell_type": "markdown",
   "metadata": {},
   "source": [
    "## Exemplo:\n"
   ]
  },
  {
   "cell_type": "markdown",
   "metadata": {},
   "source": [
    "Encontre o caminho mínimo dado o grafo G a seguir:"
   ]
  },
  {
   "cell_type": "markdown",
   "metadata": {},
   "source": [
    "![Floyd Warshall](./Imagens/Floyd-Warshall.png)"
   ]
  },
  {
   "cell_type": "markdown",
   "metadata": {},
   "source": [
    "1. Geramos um matriz de adjacência **D**, onde as linhas e colunas representam os vértices e cada posição na matriz representa o peso das arestas. Atribuimos infinito para todas os vértices que não possuem adjacência, e **0** para quando o vértice de destino é igual ao vértice de saída."
   ]
  },
  {
   "cell_type": "markdown",
   "metadata": {},
   "source": [
    "|   | 0        | 1        | 2        | 3        | 4        |\n",
    "|:-:|:--------:|:--------:|:--------:|:--------:|:--------:|\n",
    "| 0 | 0        | 3        | 8        | infinito | -4       |\n",
    "| 1 | infinito | 0        | infinito | infinito | 7        |\n",
    "| 2 | infinito | 4        | 0        | infinito | infinito |\n",
    "| 3 | 2        | infinito | -5       | 0        | infinito |\n",
    "| 4 | infinito | infinito | infinito | 6        | 0        |"
   ]
  },
  {
   "cell_type": "markdown",
   "metadata": {},
   "source": [
    "O algoritmo de Floyd-Warshall permite pesos negativos nas arestas."
   ]
  },
  {
   "cell_type": "markdown",
   "metadata": {},
   "source": [
    "Geramos também uma matriz **pi** que contém os predecessores ou vértices pai de cada vértice."
   ]
  },
  {
   "cell_type": "markdown",
   "metadata": {},
   "source": [
    "|   |   0  |   1  |   2  |   3  |   4  |\n",
    "|:-:|:----:|:----:|:----:|:----:|:----:|\n",
    "| 0 | NULL |   1  |   1  | NULL |   1  |\n",
    "| 1 | NULL | NULL | NULL |   2  |   2  |\n",
    "| 2 | NULL |   3  | NULL | NULL | NULL |\n",
    "| 3 |   4  | NULL |   4  | NULL | NULL |\n",
    "| 4 | NULL | NULL | NULL |   5  | NULL |"
   ]
  },
  {
   "cell_type": "markdown",
   "metadata": {},
   "source": [
    "### Funcionamento do Algoritmo\n",
    "\n",
    "O algorimo de Warshall já foi visto no tópico **1 - Estrutura de dados/4 - Algoritmo de Warshall.ipynb**\n"
   ]
  },
  {
   "cell_type": "markdown",
   "metadata": {},
   "source": [
    "# Código"
   ]
  },
  {
   "cell_type": "code",
   "execution_count": 13,
   "metadata": {},
   "outputs": [
    {
     "name": "stdout",
     "output_type": "stream",
     "text": [
      "D0 [[0, 3, 8, inf, -4], [inf, 0, inf, 1, 7], [inf, 4, 0, inf, inf], [2, inf, -5, 0, inf], [inf, inf, inf, 6, 0]]\n",
      "PI [[None, 1, 1, None, 1], [None, None, None, 2, 2], [None, 3, None, None, None], [4, None, 4, None, None], [None, None, None, 5, None]]\n",
      "D1 [[0, 3, 8, inf, -4], [inf, 0, inf, 1, 7], [inf, 4, 0, inf, inf], [2, 5, -5, 0, -2], [inf, inf, inf, 6, 0]]\n",
      "D2 [[0, 3, 8, 4, -4], [inf, 0, inf, 1, 7], [inf, 4, 0, 5, 11], [2, 5, -5, 0, -2], [inf, inf, inf, 6, 0]]\n",
      "D3 [[0, 3, 8, 4, -4], [inf, 0, inf, 1, 7], [inf, 4, 0, 5, 11], [2, -1, -5, 0, -2], [inf, inf, inf, 6, 0]]\n",
      "D4 [[0, 3, -1, 4, -4], [3, 0, -4, 1, -1], [7, 4, 0, 5, 3], [2, -1, -5, 0, -2], [8, 5, 1, 6, 0]]\n",
      "D5 [[0, 1, -3, 2, -4], [3, 0, -4, 1, -1], [7, 4, 0, 5, 3], [2, -1, -5, 0, -2], [8, 5, 1, 6, 0]]\n",
      "Distâncias [[0, 1, -3, 2, -4], [3, 0, -4, 1, -1], [7, 4, 0, 5, 3], [2, -1, -5, 0, -2], [8, 5, 1, 6, 0]]\n",
      "Vértices pai:  [[None, 3, 4, 5, 1], [4, None, 4, 2, 1], [4, 3, None, 2, 1], [4, 3, 4, None, 1], [4, 3, 4, 5, None]]\n"
     ]
    }
   ],
   "source": [
    "'''\n",
    "FLOYD-WARSHALL(W)\n",
    "1 n = W.rows\n",
    "2 D^(0) = W\n",
    "3 for k = 1 to n\n",
    "4   let D^(k) = (d(ij)^(k) be a new n x n matrix\n",
    "5   for i = 1 to n\n",
    "6       for j = 1 to n\n",
    "7           d(ij)^(k) = min(d(ij)^(k-1), d(ik)^(k) + d(km)^(k-1)\n",
    "8 return D^(n)\n",
    "'''\n",
    "from math import inf\n",
    "def floyd_warshall(grafo):\n",
    "    n = len(grafo) # n recebe o número de vértices do grafo\n",
    "    D = [] # D guarda as caminho mínimo\n",
    "    pi = [] # pi recebe os verices pai\n",
    "    for i in range(len(grafo)):\n",
    "        D.append([])\n",
    "        for j in range(len(grafo)):\n",
    "            if i == j:\n",
    "                D[i].append(0)\n",
    "            elif grafo[i][j] == 0:\n",
    "                D[i].append(inf)\n",
    "            else:\n",
    "                D[i].append(grafo[i][j])\n",
    "    print(\"D0\", D)\n",
    "\n",
    "    for i in range(len(grafo)):\n",
    "        pi.append([])\n",
    "        for j in range(len(grafo)):\n",
    "            if grafo[i][j] == 0 or grafo[i][j] == inf:\n",
    "                pi[i].append(None)\n",
    "            else:\n",
    "                pi[i].append(i+1)\n",
    "    print(\"PI\", pi)\n",
    "\n",
    "    for k in range(0, n):\n",
    "        for i in range(0, n):\n",
    "            for j in range(0, n):\n",
    "                if D[i][j] <= (D[i][k] + D[k][j]):\n",
    "                    pi[i][j] = pi[i][j]\n",
    "                elif D[i][j] > (D[i][k] + D[k][j]):\n",
    "                    pi[i][j] = pi[k][j]\n",
    "                D[i][j] = min(D[i][j], D[i][k] + D[k][j])\n",
    "        print(\"D\"+str(k+1), D)\n",
    "    print(\"Distâncias\", D)\n",
    "    print(\"Vértices pai: \", pi)\n",
    "\n",
    "'''\n",
    "grafo_lista = {0: {1: 3, 2: 8, 4: -4 },\n",
    "         1: {3: 1, 4: 7},\n",
    "         2: {1: 4},\n",
    "         3: {0: 2, 2:-5},\n",
    "         4: {3: 6}\n",
    "}\n",
    "'''\n",
    "grafo_madj = [[0, 3, 8, 0, -4],\n",
    "             [0, 0, 0, 1, 7],\n",
    "             [0, 4, 0, 0, 0],\n",
    "             [2, 0, -5, 0, 0],\n",
    "             [0, 0, 0, 6, 0]   \n",
    "            ]\n",
    "\n",
    "'''\n",
    "grafo_madj = [[0, 0, 1, 0, 3, 0, 0, 0],\n",
    "              [0, 0, 0, 9, 0, 0, 0, 0],\n",
    "              [0, 5, 0, 0, 12, 0, 0, 0],\n",
    "              [0, 0, 7, 0, 0, 0, 0, 2],\n",
    "              [0, 0, 0, 5, 0, 6, 2, 0],\n",
    "              [0, 0, 0, 4, 0, 0, 0, 1],\n",
    "              [0, 0, 0, 0, 0, 21, 0, 0],\n",
    "              [0, 0, 0, 0, 0, 0, 0, 0]]\n",
    "'''\n",
    "floyd_warshall(grafo_madj)\n"
   ]
  }
 ],
 "metadata": {
  "kernelspec": {
   "display_name": "Python 3",
   "language": "python",
   "name": "python3"
  },
  "language_info": {
   "codemirror_mode": {
    "name": "ipython",
    "version": 3
   },
   "file_extension": ".py",
   "mimetype": "text/x-python",
   "name": "python",
   "nbconvert_exporter": "python",
   "pygments_lexer": "ipython3",
   "version": "3.8.5"
  }
 },
 "nbformat": 4,
 "nbformat_minor": 4
}
