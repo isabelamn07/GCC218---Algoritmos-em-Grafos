{
 "cells": [
  {
   "cell_type": "markdown",
   "metadata": {},
   "source": [
    "### Algoritmo de Kruskal\n",
    "No algoritmo de Krusakal os valores das arestas são ordenados de forma crescente e vão sendo adicionados à AGM a partir do menor valor sem formar ciclos, para tanto, consideramos que inicialmente cada vértice é represetado por um conjunto(set) distinto. À medida que a AGM vai sendo criada realizamos a união entre os conjuntos que representam os vértices. __Exemplo__:\n",
    "\n",
    "* Suponha que temos os vértices **A** e o vértice **B** em um grafo G.\n",
    "* Ambos são representados pelos conjuntos {A} e {B} \n",
    "* A aresta (A, B) tem o menor peso no grafo.\n",
    "* Adicionamos (A, B) na AGM correspondente.\n",
    "* Então unimos os conjuntos {A} e {B}\n",
    "* {A} U {B} = {A, B} \n",
    "* Os conjutos não podem ter elementos repetidos, isso garante que:\n",
    "1. Não formaremos ciclos.\n",
    "\n",
    "### Exemplo:\n",
    "Dado um grafo G, encontre a AGM utilizando o algoritmo de KrusKal.\n"
   ]
  },
  {
   "cell_type": "markdown",
   "metadata": {},
   "source": [
    "<img src=\"Imagens/kruskal1.png\"  style=\"width:75%; margin-left:auto; margin-right:auto;\">\n",
    "\n",
    "#### Ordenação das arestas por ordem crescente: \n",
    "\n",
    "__(1, 2), (8, 9), (2, 3), (2, 4), (1, 6), (1, 5), (6, 10), (3, 5), (2, 7), 4, 7), (3, 6), (4, 6), (4, 5).__"
   ]
  },
  {
   "cell_type": "markdown",
   "metadata": {},
   "source": [
    "Ao adicionar arestas de menor valor à árvore geradora mínima, unimos o conjunto que contém o vértice _u_ ao conjunto que contém o vértice _v_, os vértices são visitados apenas uma vez, ou seja, os conjutos não podem ter valores repetidos.\n",
    "\n",
    "O menor valor entre as aresta é 4, as arestas (1, 2) e (8, 9) possuem o mesmo valor, usando do critério de ordem crescente, escolhemos primeiro a aresta **(1, 2)**\n"
   ]
  },
  {
   "cell_type": "markdown",
   "metadata": {},
   "source": [
    "<img src=\"Imagens/kruskal3.png\"  style=\"width:75%; margin-left:auto; margin-right:auto;\">"
   ]
  },
  {
   "cell_type": "markdown",
   "metadata": {},
   "source": [
    "Depois escolhemos a aresta (8, 9)\n",
    "\n",
    "<img src=\"./Imagens/kruskal4.png\"  style=\"width:75%; margin-left:auto; margin-right:auto;\">\n"
   ]
  },
  {
   "cell_type": "markdown",
   "metadata": {},
   "source": [
    "Aresta (2, 3) \n",
    "\n",
    "<img src=\"./Imagens/kruskal5.png\" style=\"width:75%; margin-left:auto; margin-right:auto;\">"
   ]
  },
  {
   "cell_type": "markdown",
   "metadata": {},
   "source": [
    "Aresta (2, 4) \n",
    "\n",
    "<img src=\"./Imagens/kruskal6.png\"  style=\"width:75%; margin-left:auto; margin-right:auto;\">"
   ]
  },
  {
   "cell_type": "markdown",
   "metadata": {},
   "source": [
    "Aresta (1, 6) \n",
    "\n",
    "<img src=\"./Imagens/kruskal7.png\"  style=\"width:75%; margin-left:auto; margin-right:auto;\">"
   ]
  },
  {
   "cell_type": "markdown",
   "metadata": {},
   "source": [
    "Aresta (1, 5) \n",
    "\n",
    "<img src=\"./Imagens/kruskal8.png\"  style=\"width:75%; margin-left:auto; margin-right:auto;\">"
   ]
  },
  {
   "cell_type": "markdown",
   "metadata": {},
   "source": [
    "Aresta (6, 10) \n",
    "\n",
    "<img src=\"./Imagens/kruskal9.png\"  style=\"width:75%; margin-left:auto; margin-right:auto;\">"
   ]
  },
  {
   "cell_type": "markdown",
   "metadata": {},
   "source": [
    "Não escolhemos (3, 5), pois formaríamos um ciclo, então escohemos (2, 7) \n",
    "\n",
    "<img src=\"./Imagens/kruskal10.png\"  style=\"width:75%; margin-left:auto; margin-right:auto;\">"
   ]
  },
  {
   "cell_type": "markdown",
   "metadata": {},
   "source": [
    "### AGM's\n",
    "\n",
    "<img src=\"./Imagens/kruskal11.png\"  style=\"width:75%; margin-left:auto; margin-right:auto;\">"
   ]
  },
  {
   "cell_type": "markdown",
   "metadata": {},
   "source": [
    "<h3>Pseudocodigo</h3>\n",
    "<pre> \n",
    "    \n",
    "GENERIC-MST(G, w)\n",
    "1 A = vazio\n",
    "2 while A não formar uma árvore geradora mínima\n",
    "3   encontre uma aresta(u, v) que é segura para A\n",
    "4   A = A U {(u, v)}\n",
    "5 return A\n",
    "\n",
    "    MST-Kruskal(G, w)\n",
    "    A = vazio\n",
    "    for each vertex v E G.v\n",
    "        MAKE-SET(v)\n",
    "    sort the edges of G.E em ordem não decrescente por ordem de peso w\n",
    "    for each edge(u, v) E G.E, por ordem de peso não decrescente\n",
    "        if FIND-SET(u) != FIND-SET(v)\n",
    "            A = A U {(u, v)}\n",
    "            UNION(u, v)\n",
    "    return A\n",
    "    \n",
    "G - Grafo\n",
    "w - peso (weight)\n",
    "A - árvore geradora mínima\n",
    "</pre>"
   ]
  },
  {
   "cell_type": "markdown",
   "metadata": {},
   "source": [
    "#  Código"
   ]
  },
  {
   "cell_type": "code",
   "execution_count": 1,
   "metadata": {},
   "outputs": [
    {
     "name": "stdout",
     "output_type": "stream",
     "text": [
      "[(1, 2, 4), (1, 5, 9), (1, 6, 8), (2, 3, 6), (2, 4, 6), (2, 7, 12), (3, 6, 23), (3, 5, 11), (3, 7, 55), (4, 5, 99), (4, 6, 46), (4, 7, 19), (6, 10, 9), (8, 9, 4)]\n",
      "AGM:  [(1, 2), (8, 9), (2, 3), (2, 4), (1, 6), (1, 5), (6, 10), (2, 7)]\n",
      "Lista de sets:  [{8, 9}, {1, 2, 3, 4, 5, 6, 7, 10}]\n"
     ]
    }
   ],
   "source": [
    "import operator\n",
    "\n",
    "def MST_Kruskal(Grafo):\n",
    "    # lista com todas a arestas do grafo\n",
    "    edges = []\n",
    "    for i, j in Grafo.items():\n",
    "        adj = list(j)\n",
    "        for k in range(len(j)):\n",
    "            if (len(edges) > 0) and (adj[k], i, Grafo[i][adj[k]] ) not in edges:\n",
    "                edges.append((i, adj[k], Grafo[i][adj[k]]))\n",
    "            elif len(edges) == 0:\n",
    "                edges.append((i, adj[k], Grafo[i][adj[k]]))\n",
    "    print(edges)\n",
    "    agm = []\n",
    "    # ordena as arestas em ordem crescente\n",
    "    edges.sort(key=operator.itemgetter(2)) \n",
    "    #print(\"Edges: \", edges)\n",
    "    # recebe os sets\n",
    "    sets = set()\n",
    "    lista_de_sets = []\n",
    "    for v in Grafo.keys():        \n",
    "        sets = {v}\n",
    "        lista_de_sets.append(sets)\n",
    "    #print(\"lista_de_sets\", lista_de_sets)\n",
    "\n",
    "    for w in range(len(edges)): # De acordo com a ordem crescente das arestas u e v recebem os vertices correspondentes\n",
    "        for j in range(len(edges[w])):\n",
    "            u = edges[w][0]\n",
    "            v = edges[w][1]\n",
    "\n",
    "\n",
    "        x = find_set(lista_de_sets, u) # x recebe o indice do set onde u esta inserido\n",
    "        y = find_set(lista_de_sets, v) # y recebe o indice do set onde y esta inserido\n",
    "\n",
    "        if x != y: # se u e v estiverem sets diferentes, fazemos a uniao entre eles\n",
    "            agm.append((u, v))\n",
    "            new_set = lista_de_sets[x].union(lista_de_sets[y])\n",
    "     \n",
    "            lista_de_sets.append(new_set)\n",
    "            if y > x:\n",
    "                lista_de_sets.pop(y)\n",
    "                lista_de_sets.pop(x)\n",
    "            else:\n",
    "                lista_de_sets.pop(x)\n",
    "                lista_de_sets.pop(y)\n",
    "       \n",
    "    print(\"AGM: \", agm)   \n",
    "    print(\"Lista de sets: \", lista_de_sets)\n",
    "\n",
    "def find_set(lista, x):\n",
    "    '''\n",
    "    Funcao que encontra o indice de um set na lista lista_de_sets\n",
    "    '''\n",
    "    for i in range(len(lista)):\n",
    "        if x in lista[i]:\n",
    "            return i\n",
    "           \n",
    "\n",
    "\n",
    "lista_adj = {\n",
    "    1: {2: 4, 5: 9, 6: 8},\n",
    "    2: {1: 4, 3: 6, 4: 6, 7: 12},\n",
    "    3: {2: 6, 6: 23, 5: 11, 7: 55},\n",
    "    4: {2: 6, 5: 99, 6: 46, 7: 19},\n",
    "    5: {1: 9, 3: 11, 4: 99},\n",
    "    6: {1: 8, 3: 23, 4: 46, 10: 9},\n",
    "    7: {2: 12, 3: 55, 4: 19},\n",
    "    8: {9: 4},\n",
    "    9: {8: 4},\n",
    "    10: {6: 9}\n",
    "}\n",
    "\n",
    "MST_Kruskal(lista_adj)\n"
   ]
  },
  {
   "cell_type": "code",
   "execution_count": null,
   "metadata": {},
   "outputs": [],
   "source": []
  }
 ],
 "metadata": {
  "kernelspec": {
   "display_name": "Python 3",
   "language": "python",
   "name": "python3"
  },
  "language_info": {
   "codemirror_mode": {
    "name": "ipython",
    "version": 3
   },
   "file_extension": ".py",
   "mimetype": "text/x-python",
   "name": "python",
   "nbconvert_exporter": "python",
   "pygments_lexer": "ipython3",
   "version": "3.6.9"
  }
 },
 "nbformat": 4,
 "nbformat_minor": 4
}
