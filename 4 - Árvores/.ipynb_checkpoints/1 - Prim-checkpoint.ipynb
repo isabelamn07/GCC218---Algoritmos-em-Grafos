{
 "cells": [
  {
   "cell_type": "markdown",
   "metadata": {},
   "source": [
    "# Algoritmo de Prim\n",
    "\n",
    "O algoritmo de Prim é um algoritmo que encontra a árvore geradora mínima em um grafo. Trata-se de um algoritmo guloso(greedy), e baseado em busca em largura.  \n",
    "\n",
    "### Funcionamento do algoritmo de Prim:\n",
    "\n",
    "Dado um grafo não direcionado e valorado G:\n",
    "\n",
    "<img src=\"./Imagens/Prim.png\"  style=\"width:45%; margin-left:auto; margin-right:auto;\">"
   ]
  },
  {
   "cell_type": "markdown",
   "metadata": {},
   "source": [
    "### Passo a passo:"
   ]
  },
  {
   "cell_type": "markdown",
   "metadata": {},
   "source": [
    "Inicializamos uma matriz contendo todos os vértices e definimos com infinito as distância entre o vértice e seu vértice pai.\n",
    "\n",
    "|**Vértice**  |**Distância**|**Vértice antecessor**|\n",
    "|:-----------:|:-------:|:----------------:|\n",
    "|1            |inf      |pai               |\n",
    "|2            |inf      |pai               |        \n",
    "|3            |inf      |pai               |\n",
    "|4            |inf      |pai               |\n",
    "|5            |inf      |pai               |\n",
    "|6            |inf      |pai               | \n",
    "|7            |inf      |pai               |\n",
    "|8            |inf      |pai               |\n",
    "|9            |inf      |pai               | \n",
    "|10           |inf      |pai               |\n",
    "\n",
    "**O vértice inicial sempre recebe distância 0**\n",
    "\n",
    "* A execução do algoritmo de Prim começa a partir de um vértice aleatório u.\n"
   ]
  },
  {
   "cell_type": "markdown",
   "metadata": {},
   "source": [
    "\n",
    "Exemplo: vértice inicial **4**\n",
    "* Por ser o vértice inicial, **4** não possui vértice pai, atribuimos distância **0**.\n",
    "![Vértice inicial 4](./Imagens/Prim2.png)"
   ]
  },
  {
   "cell_type": "markdown",
   "metadata": {},
   "source": [
    "* Comparamos todos os pesos das arestas adjacentes e escolhemos a aresta de menor valor ligada a um vértice não visitado.\n",
    "* Para o vértice 4 temos:\n",
    "    - (4, 2) : 6\n",
    "    - (4, 6) : 46\n",
    "    - (4, 7) : 7\n",
    "    - (4, 5) : 99\n",
    "* A aresta (4, 2) tem menor peso, logo, escolhemos o vértice 2\n",
    "* Colocamos a distância do vértices sendo visitado **4** e seu vértice pai **2** na tabela.\n",
    "![Vértice 2](./Imagens/Prim3.png)"
   ]
  },
  {
   "cell_type": "markdown",
   "metadata": {},
   "source": [
    "* Agora analisamos todas as arestas adjacentes aos vértices já visitados **4** e **2**\n",
    "\n",
    "* As arestas elegíveis a serem introduzidas na AGM são: _(2, 1), (2, 3), (2, 7), (4, 6), (4, 5), (4, 7)_\n",
    "\n",
    "* A aresta com menor peso dentre todoas as aretas possíveis é a aresta (2, 1) \n",
    "\n",
    "* Visitamos o vértice **1**\n",
    "\n",
    "![Vértice 1](./Imagens/Prim4.png)"
   ]
  },
  {
   "cell_type": "markdown",
   "metadata": {},
   "source": [
    "* Repetimos os processo até que todos os vértices sejam visitados:\n",
    "\n",
    "![Vértice 3](./Imagens/Prim5.png)"
   ]
  },
  {
   "cell_type": "markdown",
   "metadata": {},
   "source": [
    "![Vértice 6](./Imagens/Prim6.png)"
   ]
  },
  {
   "cell_type": "markdown",
   "metadata": {},
   "source": [
    "![Vértice 5](./Imagens/Prim7.png)"
   ]
  },
  {
   "cell_type": "markdown",
   "metadata": {},
   "source": [
    "![Vértice 10](./Imagens/Prim8.png)"
   ]
  },
  {
   "cell_type": "markdown",
   "metadata": {},
   "source": [
    "![Vértice 7](./Imagens/Prim9.png)    "
   ]
  },
  {
   "cell_type": "markdown",
   "metadata": {},
   "source": [
    "![Vértice 8](./Imagens/Prim10.png)  "
   ]
  },
  {
   "cell_type": "markdown",
   "metadata": {},
   "source": [
    "![Vértice 9](./Imagens/Prim11.png) "
   ]
  },
  {
   "cell_type": "markdown",
   "metadata": {},
   "source": [
    "### AGM's:\n",
    "<img src= \"./Imagens/AGMPrim.png\" alt=\"AGM Prim\" style=\"width:50%; margin-left:auto; margin-right:auto;\"> "
   ]
  },
  {
   "cell_type": "markdown",
   "metadata": {},
   "source": [
    "### Pseudocódigo\n",
    "\n",
    "<pre>\n",
    "1: MST-PRIM(G, w, r)\n",
    "2:  for each u E G.V\n",
    "3:   u.key = inf\n",
    "4:   u.pi = NIL\n",
    "5: r.key = 0\n",
    "6: Q = G.V\n",
    "7: while Q != vazio\n",
    "8:   u = EXTRACT-MIN(Q)\n",
    "9:   for each v E G.Adj[u]\n",
    "10:       if v E Q and w(u, v) < v.key\n",
    "11:          v.pi = u\n",
    "12:          v.key = w(u, v)\n",
    "</pre>"
   ]
  },
  {
   "cell_type": "markdown",
   "metadata": {},
   "source": [
    "1. G - grafo\n",
    "2. w - peso (weight)\n",
    "3. r - vértice inicial\n",
    "4. r.key - ditância inicial\n",
    "5. Q - estrutura de dados contendo o conjunto de vértices do grafo.\n",
    "6. pi - vértice pai"
   ]
  },
  {
   "cell_type": "markdown",
   "metadata": {},
   "source": [
    "* O vértice inicial pode ser escolhido aleatoriamente\n",
    "* O vértice inicial **r** recebe distância inical igual a zero.\n",
    "* Todas as distâncias e os vértices pai recebem valor 0 e nulo respectivamente.<br>\n",
    "**Loop:**\n",
    "\n",
    "    * Q possui o conjunto de todos os vértices do grafo, então quando Q estiver vazio, isso significa que todos os vértices foram visitados\n",
    "    * _u_ recebe o vértice que forma a aresta de menor peso com o seu vértice pai, por exemplo: vértice atual r = 2, dentre os vértices adjacentes a r, o menor peso é 4, ou seja, a aresta (2, 1), então u recebe 1.\n",
    "    <img src=\"Imagens/Primex.png\">\n",
    "* É escolhida a menor distância/peso, dentre os vértices já visitados\n",
    "* Se o valor encontrado  for menor que o valor atualmente definido como distância/peso, atualizamos com o novo valor e vértice pai. "
   ]
  },
  {
   "cell_type": "markdown",
   "metadata": {},
   "source": [
    "# Código"
   ]
  },
  {
   "cell_type": "code",
   "execution_count": 21,
   "metadata": {},
   "outputs": [
    {
     "name": "stdout",
     "output_type": "stream",
     "text": [
      "Visitado:  [4]\n",
      "Q [0, 1, 2, 3, 5]\n",
      "Visitado:  [4, 5]\n",
      "Q [0, 1, 2, 3]\n",
      "Visitado:  [4, 5, 2]\n",
      "Q [0, 1, 3]\n",
      "Visitado:  [4, 5, 2, 1]\n",
      "Q [0, 3]\n",
      "Visitado:  [4, 5, 2, 1, 0]\n",
      "Q [3]\n",
      "lista:  [[0, 1, 1], [1, 4, 2], [2, 3, 5], [3, 3, 0], [4, 0, None], [5, 2, 4]]\n"
     ]
    }
   ],
   "source": [
    "from math import inf\n",
    "import sys\n",
    "import random\n",
    "\n",
    "# Grafo no formato de matriz de adjacência\n",
    "grafo = [[0, 1, 0, 3, 0, 0],\n",
    "         [1, 0, 4, 13, 0, 0],\n",
    "         [0, 4, 0, 6, 0, 3],\n",
    "         [3, 13, 6, 0, 8, 0],\n",
    "         [0, 0, 0, 8, 0, 2],\n",
    "         [0, 0, 3, 0, 2, 0]]\n",
    "\n",
    "\n",
    "# lista com vertices já visitados\n",
    "visitado = []\n",
    "\n",
    "def MST_PRIM(G, vertice_inicial):\n",
    "    '''\n",
    "    A função MST_PRIM encontra a árvore geradora mínima em um grafo, representado por uma matriz de adjacência NxN,\n",
    "    ao receber um vértice inicial r, calcula as distâncias dos vértices mais próximos, adjacentes a r. As arestas não se \n",
    "    repetem e o devem gerar uma árvore(sem ciclos) com todas as arestas de menor peso do grafo.\n",
    "    Parametros:\n",
    "        G\n",
    "            matriz de adjacência represtando o grafo\n",
    "            \n",
    "        vertice_inicial   \n",
    "            vértice inicial\n",
    "    '''\n",
    "\n",
    "    # Matriz que recebe as arestas (u, v) de menor peso\n",
    "    # forma [u, peso, v]\n",
    "    matriz_prim = []\n",
    "    for i in range(len(G)):\n",
    "        # inicialmente a matriz recebe todos os vértices: u, distância(peso): infinito, vértice v: None\n",
    "        matriz_prim.append([i, inf, None])\n",
    "\n",
    "    # O vertice inicial nao tem pai por isso recebe distancia 0    \n",
    "    matriz_prim[vertice_inicial][1] = 0\n",
    "    # Q recebe todos os vertices do grafo\n",
    "    Q = []\n",
    "    for i in range(len(matriz_prim)):\n",
    "        Q.append(i)\n",
    "    # enquanto toda a arvore nao for percorrida, ou seja,\n",
    "    # enquanto todos os vertices forem visitados, o programa\n",
    "    # continua procurando as arestas de menor peso\n",
    "    while len(Q) > 0:\n",
    "        if len(visitado) == 0:\n",
    "            # recebe o vertice inicial passado por parametro\n",
    "            u = vertice_inicial\n",
    "            Q.remove(u)\n",
    "            visitado.append(u)\n",
    "        else:\n",
    "            # u recebe o vizinho mais proximo dentre os vertices ja vistados\n",
    "            u = extract_min(Q)\n",
    "            visitado.append(u)\n",
    "            print(\"Q\", Q)\n",
    "            Q.remove(u)\n",
    "\n",
    "        # percorre a matriz com as distancia dos vertices e atualiza\n",
    "        # sempre que encontrar distancias menores\n",
    "        for v in range(len(G)):\n",
    "            if G[u][v] < matriz_prim[v][1] and G[u][v] != 0 and v in Q:\n",
    "                matriz_prim[v][2] = u\n",
    "                matriz_prim[v][1] = G[u][v]\n",
    "\n",
    "    print(\"lista: \", matriz_prim)\n",
    "\n",
    "x = grafo[:]\n",
    "    \n",
    "# modifica valor de uma aresta ja adicionada a arvore\n",
    "# para que o mesmo nao seja escolhido novamente\n",
    "for i in range(len(x)):\n",
    "    for j in range(len(x)):\n",
    "        if x[i][j] == 0:\n",
    "            x[i][j] = inf\n",
    "\n",
    "def extract_min(Q):\n",
    "    # indices da matriz que vao receber a menor aresta\n",
    "    # e o vizinho mais proximo\n",
    "    linha = 0\n",
    "    coluna = 0\n",
    "    # valor muito grande para fazer comparacoes e achar o menor valor\n",
    "    menor = inf        \n",
    "    # percore na matriz os vertices adjacentes ao vertices ja visitados\n",
    "    # e encontra o vizinho mais proximo\n",
    "    \n",
    "    print(\"Visitado: \", visitado)\n",
    "    for i in visitado:\n",
    "        for j in range(len(x[i])):\n",
    "            if j not in visitado:\n",
    "                if x[i][j] < menor:\n",
    "                    menor = x[i][j]\n",
    "                    u = i\n",
    "                    v = j\n",
    "                    \n",
    "    return v\n",
    "\n",
    "u = random.randrange(0, len(grafo))\n",
    "MST_PRIM(grafo, u)\n"
   ]
  }
 ],
 "metadata": {
  "kernelspec": {
   "display_name": "Python 3",
   "language": "python",
   "name": "python3"
  },
  "language_info": {
   "codemirror_mode": {
    "name": "ipython",
    "version": 3
   },
   "file_extension": ".py",
   "mimetype": "text/x-python",
   "name": "python",
   "nbconvert_exporter": "python",
   "pygments_lexer": "ipython3",
   "version": "3.8.5"
  }
 },
 "nbformat": 4,
 "nbformat_minor": 4
}
