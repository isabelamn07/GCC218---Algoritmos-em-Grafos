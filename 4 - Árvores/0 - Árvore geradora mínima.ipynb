{
 "cells": [
  {
   "cell_type": "markdown",
   "metadata": {},
   "source": [
    "# Árvores geradoras mínimas (AGM)\n",
    "Uma árvore geradora mínima consiste em uma árvore geradora cujo o somatório dos pesos de todas as arestas é o menor possível.\n",
    "### Exemplo\n",
    "\n",
    "<img src=\"Imagens/AGM2.png\" style=\"width:50%; margin-left:auto; margin-right:auto;\"> "
   ]
  },
  {
   "cell_type": "markdown",
   "metadata": {},
   "source": [
    "### Aplicação\n",
    "\n",
    "Suponha que em uma vizinhaça seja necessário fazer uma ligação entre casas que formarão uma rede. Como distribuir essas ligações, de forma que todos os pontos sejam ligados, com o menor custo possível?\n",
    "\n",
    "<img src=\"./Imagens/AGMCasas.png\" style=\"width:50%; margin-left:auto; margin-right:auto;\">\n",
    "    "
   ]
  },
  {
   "cell_type": "markdown",
   "metadata": {},
   "source": [
    "Considerando todas as possibilidades de interligar as residências, como poderíamos fazer para fazer essa  ligação de forma mais eficiente ?\n",
    "\n",
    "<img src=\"./Imagens/AGMWired.png\" style=\"width:50%; margin-left:auto; margin-right:auto;\">\n"
   ]
  },
  {
   "cell_type": "markdown",
   "metadata": {},
   "source": [
    "Encontrando a AGM, encontraríamos as menores distância para ligar a rede\n",
    "\n",
    "<img src=\"./Imagens/AGM1.png\" style=\"width:50%; margin-left:auto; margin-right:auto;\">\n",
    "\n",
    "Todas as casas estão interligadas entre si!"
   ]
  },
  {
   "cell_type": "markdown",
   "metadata": {},
   "source": [
    "### Para que os algoritmos de AGM podem ser usados?\n",
    "* Fazer ligações de redes otimizando o espaço e material utilizado (grandes redes).\n",
    "* Geração de labirintos.\n",
    "* Análise de clusters.\n",
    "* Identificação facial.\n",
    "* Protocolos em ciência da computação para evitar ciclos em redes.\n",
    "* Dithering (adicionar ruído branco a uma gravação digital para reduzir a distorção).\n",
    "* Caminho máximo de gargalos para problemas de fluxo.\n",
    "\n",
    "***fonte:[https://www.cs.princeton.edu/~rs/AlgsDS07/14MST.pdf](https://www.cs.princeton.edu/~rs/AlgsDS07/14MST.pdf)***"
   ]
  },
  {
   "cell_type": "code",
   "execution_count": null,
   "metadata": {},
   "outputs": [],
   "source": []
  }
 ],
 "metadata": {
  "kernelspec": {
   "display_name": "Python 3",
   "language": "python",
   "name": "python3"
  },
  "language_info": {
   "codemirror_mode": {
    "name": "ipython",
    "version": 3
   },
   "file_extension": ".py",
   "mimetype": "text/x-python",
   "name": "python",
   "nbconvert_exporter": "python",
   "pygments_lexer": "ipython3",
   "version": "3.8.5"
  }
 },
 "nbformat": 4,
 "nbformat_minor": 4
}
