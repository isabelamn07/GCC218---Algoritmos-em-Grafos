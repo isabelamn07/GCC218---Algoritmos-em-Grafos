{
 "cells": [
  {
   "cell_type": "markdown",
   "metadata": {},
   "source": [
    "<h2>Boruvka</h2>"
   ]
  },
  {
   "cell_type": "markdown",
   "metadata": {},
   "source": [
    "O algoritmo de Boruvka, assim como o de Kruskal, utiliza conjuntos (sets) para encontra a AGM. Porém, ao invés de unir os conjuntos através da ordenação das arestas, procuramos a menor aresta que une dois conjuntos.\n",
    "\n",
    "### Exemplo \n",
    "\n",
    "<img src=\"./Imagens/Boruvka0.png\" style=\"width:50%; margin-left:auto; margin-right:auto;\">"
   ]
  },
  {
   "cell_type": "markdown",
   "metadata": {},
   "source": [
    "Inicialmente todos os vértices formam um conjunto distinto.\n",
    "\n",
    "Conjuntos: **{0}, {1}, {2}, {3}, {4}, {5}, {6}, {7}, {8}**\n",
    "\n",
    "<img src=\"./Imagens/Boruvka1.png\" style=\"width:50%; margin-left:auto; margin-right:auto;\">"
   ]
  },
  {
   "cell_type": "markdown",
   "metadata": {},
   "source": [
    "* Procuramos as menores arestas entre todos os conjuntos \n",
    "* Primeiro conjunto: **{0}**\n",
    "* A aresta de menor peso é (0, 1), logo fazemos a união dos conjuntos **{0}** e **{1}**. \n",
    "\n",
    "Conjuntos: **{0, 1}, {2}, {3}, {4}, {5}, {6}, {7}, {8}** \n",
    "\n",
    "<img src=\"./Imagens/Boruvka2.1.png\" style=\"width:50%; margin-left:auto; margin-right:auto;\">\n",
    "\n",
    "O segundo conjunto a ser analisado é **{1}**, como a menor aresta ligada ao conjunto **{1}** é **(0, 1)** os conjuntos **{0}** e **{1}** já estão unidos e nada se altera. \n",
    "\n",
    "<img src=\"./Imagens/Boruvka2.1.png\" style=\"width:50%; margin-left:auto; margin-right:auto;\">"
   ]
  },
  {
   "cell_type": "markdown",
   "metadata": {},
   "source": [
    "* Próximo conjunto - **{2}** \n",
    "* A menor aresta ligada ao vértice **2** é **(2, 8)**\n",
    "* Então unimos esses conjuntos. \n",
    " \n",
    "Conjuntos: **{0, 1}, {2, 8}, {3}, {4}, {5}, {6}, {7}** \n",
    "\n",
    "<img src=\"Imagens/Boruvka2.2.png\"  style=\"width:50%; margin-left:auto; margin-right:auto;\">"
   ]
  },
  {
   "cell_type": "markdown",
   "metadata": {},
   "source": [
    "* Próximo conjunto: **{3}** \n",
    "* Menor aresta: **(3, 2)**\n",
    " \n",
    "Conjuntos: **{0, 1}, {2, 3, 8}, {4}, {5}, {6}, {7}** \n",
    "\n",
    "<img src=\"Imagens/Boruvka2.3.png\" style=\"width:50%; margin-left:auto; margin-right:auto;\">"
   ]
  },
  {
   "cell_type": "markdown",
   "metadata": {},
   "source": [
    "* Próximo conjunto: **{4}** \n",
    "* Menor aresta: **(4, 3)**\n",
    " \n",
    "Conjuntos: **{0, 1}, {2, 3, 4, 8}, {5}, {6}, {7}** \n",
    "\n",
    "<img src=\"Imagens/Boruvka2.4.png\" style=\"width:50%; margin-left:auto; margin-right:auto;\">"
   ]
  },
  {
   "cell_type": "markdown",
   "metadata": {},
   "source": [
    "* Próximo conjunto: **{5}** \n",
    "* Menor aresta: **(5, 6)** \n",
    "\n",
    "Conjuntos: **{0, 1}, {2, 3, 4, 8}, {5, 6}, {7}** \n",
    "\n",
    "<img src=\"Imagens/Boruvka2.5.png\" style=\"width:50%; margin-left:auto; margin-right:auto;\">"
   ]
  },
  {
   "cell_type": "markdown",
   "metadata": {},
   "source": [
    "* Próximo conjunto: **{6}** \n",
    "* Menor aresta: **(6, 7)**\n",
    "\n",
    "Conjuntos: **{0, 1}, {2, 3, 4, 8}, {5, 6, 7}** \n",
    "\n",
    "<img src=\"Imagens/Boruvka2.6.png\" style=\"width:50%; margin-left:auto; margin-right:auto;\">\n",
    "\n",
    "* Próximo conjunto: **{7}** \n",
    "* Menor aresta: **(7, 6)** \n",
    "\n",
    "Conjuntos: **{0, 1}, {2, 3, 4, 8}, {5, 6, 7}**  Nada se altera, pois os conjuntos já foram unidos anteriomente \n",
    "\n",
    "<img src=\"Imagens/Boruvka2.6.png\" style=\"width:50%; margin-left:auto; margin-right:auto;\">"
   ]
  },
  {
   "cell_type": "markdown",
   "metadata": {},
   "source": [
    "* Próximo conjunto: **{0, 1}** \n",
    "* Menores arestas: **(0, 7)** e **(1, 2)** \n",
    "* Escolhemos (0, 7) por conter o menor vértice (ordem crescente). \n",
    "\n",
    "Conjuntos: **{0, 1, 5, 6, 7}, {2, 3, 4, 8}** \n",
    "\n",
    "<img src=\"Imagens/Boruvka2.7.png\" style=\"width:50%; margin-left:auto; margin-right:auto;\">"
   ]
  },
  {
   "cell_type": "markdown",
   "metadata": {},
   "source": [
    "* Próximo conjunto: **{2, 3, 4, 8}** \n",
    "* Menor aresta: **(2, 5)** \n",
    "* Escolhemos **(2, 5)**. \n",
    "\n",
    "Conjunto: **{0, 1, 2, 3, 4, 5, 6, 7, 8}** \n",
    "\n",
    "<img src=\"Imagens/Boruvka2.8.png\" style=\"width:50%; margin-left:auto; margin-right:auto;\">"
   ]
  },
  {
   "cell_type": "markdown",
   "metadata": {},
   "source": [
    "* Próximo conjunto: **{5, 6, 7}** \n",
    "* Menor aresta: **(6, 8)** \n",
    "* Não temos mais conjuntos para unir, pois já temos apenas um conjuto com a AGM. \n",
    " \n",
    "Conjunto: **{0, 1, 2, 3, 4, 5, 6, 7, 8}** \n",
    "\n",
    "<img src=\"Imagens/Boruvka2.8.png\" style=\"width:50%; margin-left:auto; margin-right:auto;\">"
   ]
  },
  {
   "cell_type": "markdown",
   "metadata": {},
   "source": [
    "### Pseudocódigo "
   ]
  },
  {
   "cell_type": "markdown",
   "metadata": {},
   "source": [
    "<pre>\n",
    "1) Dado um grafo valorado\n",
    "2) Todos os vértices são inicializados como componentes individuais(sets).\n",
    "3) A AGM é inicializada como vazia.\n",
    "4) Enquanto existir mais de um set(componente) faça\n",
    "   Para cada set\n",
    "       encontrar o menor valor entre vertices adjacentes ao set\n",
    "       adicionar a aresta à AGM\n",
    "       unir os sets sem repetições de vertices\n",
    "</pre>"
   ]
  },
  {
   "cell_type": "markdown",
   "metadata": {},
   "source": [
    "# Código"
   ]
  },
  {
   "cell_type": "code",
   "execution_count": 1,
   "metadata": {},
   "outputs": [
    {
     "name": "stdout",
     "output_type": "stream",
     "text": [
      "[{0, 1, 2, 3, 4, 5, 6, 7, 8}]\n",
      "AGM:  [(0, 1), (2, 8), (3, 2), (4, 3), (5, 6), (6, 7), (0, 7), (2, 5)]\n"
     ]
    }
   ],
   "source": [
    "# Boruvka\n",
    "\n",
    "from math import inf\n",
    "\n",
    "lista_adjacencia = {\n",
    "    0: {1: 4, 7: 8},\n",
    "    1: {0: 4, 2: 8, 7: 11},\n",
    "    2: {1: 8, 5: 4, 3: 7, 8: 2},\n",
    "    3: {2: 7, 4: 9, 5: 14},\n",
    "    4: {3: 9, 5: 10},\n",
    "    5: {2: 4, 3: 14, 4: 10, 6: 2},\n",
    "    6: {5: 2, 7: 1, 8: 6},\n",
    "    7: {0: 8, 1: 11, 6: 1, 8: 7},\n",
    "    8: {2: 2, 6: 6, 7: 7}\n",
    "\n",
    "}\n",
    "\n",
    "# Recebe todas as arestas do grafo\n",
    "arestas_grafo = []\n",
    "# Recebe as arestas que formam a AGM\n",
    "arvore = []\n",
    "\n",
    "def boruvka_agm():\n",
    "    '''\n",
    "    Função boruvka\n",
    "    '''\n",
    "    # Cria um set para cada vértice\n",
    "    sets = [set([x]) for x in lista_adjacencia.keys()]\n",
    "    \n",
    "\n",
    "    # Atribui à lista grafo_boruvka as arestas do grafo\n",
    "    for i in lista_adjacencia.keys():\n",
    "        for j in lista_adjacencia[i]:\n",
    "            arestas_grafo.append((i, j))\n",
    "    \n",
    "    # Enquanto existir mais de um set continuamos a unir os componentes para gerar a AGM\n",
    "    while(len(sets) > 1):\n",
    "        #print(\"sets\", sets)\n",
    "        itera = sets[:] # criamos um set auxiliar para modificar a lista sets\n",
    "        for i in range(len(itera)): # o tamanho de sets não pode ser modificado durante a iteracao do loop for\n",
    "            edge = encontra_menor_aresta(itera[i], arestas_grafo)\n",
    "             \n",
    "            if ((edge[1], edge[0]) not in arvore):\n",
    "                arvore.append(edge)\n",
    "            uniao_sets(edge, sets)\n",
    "    print(sets)\n",
    "\n",
    "\n",
    "def encontra_menor_aresta(set_atual, grafo):\n",
    "    '''\n",
    "    Função para encontrar o menor valor de conexao entre os sets\n",
    "    Parametros\n",
    "        set_atual\n",
    "            set atual\n",
    "        grafo\n",
    "            lista com todas as arestas do grafo(arestas_grafo)\n",
    "    '''\n",
    "   \n",
    "    menor_valor = inf\n",
    "    # econtra o menor peso dentre os sets adjacentes\n",
    "\n",
    "    for x in set_atual:\n",
    "        for i in lista_adjacencia[x]:\n",
    "            if (x, i) in grafo:\n",
    "                if lista_adjacencia[x][i] < menor_valor:\n",
    "                    menor_valor = lista_adjacencia[x][i]\n",
    "                    u = x\n",
    "                    v = i\n",
    "                    \n",
    "    if (u, v) in grafo:\n",
    "        arestas_grafo.remove((u, v))\n",
    "    \n",
    "    return (u, v)\n",
    "\n",
    "\n",
    "def uniao_sets(set1, sets):\n",
    "    '''\n",
    "    Função para unir os sets\n",
    "    '''\n",
    "    indices = []\n",
    "    for i in range(len(sets)):\n",
    "        if set1[0] in sets[i]:\n",
    "            indices.append(i)\n",
    "        if set1[1] in sets[i]:\n",
    "            indices.append(i)\n",
    "    if len(indices) == 2:\n",
    "        if indices[0] != indices[1]:\n",
    "            componente = set.union(sets[indices[0]], sets[indices[1]])\n",
    "            sets.append(componente)\n",
    "\n",
    "        if indices[0] > indices[1]:\n",
    "            sets.pop(indices[0])\n",
    "            sets.pop(indices[1])\n",
    "        elif indices[0] < indices[1]:\n",
    "            sets.pop(indices[1])\n",
    "            sets.pop(indices[0])\n",
    "\n",
    "boruvka_agm()\n",
    "print(\"AGM: \", arvore)"
   ]
  },
  {
   "cell_type": "code",
   "execution_count": null,
   "metadata": {},
   "outputs": [],
   "source": []
  },
  {
   "cell_type": "code",
   "execution_count": null,
   "metadata": {},
   "outputs": [],
   "source": []
  }
 ],
 "metadata": {
  "kernelspec": {
   "display_name": "Python 3",
   "language": "python",
   "name": "python3"
  },
  "language_info": {
   "codemirror_mode": {
    "name": "ipython",
    "version": 3
   },
   "file_extension": ".py",
   "mimetype": "text/x-python",
   "name": "python",
   "nbconvert_exporter": "python",
   "pygments_lexer": "ipython3",
   "version": "3.8.5"
  }
 },
 "nbformat": 4,
 "nbformat_minor": 4
}
