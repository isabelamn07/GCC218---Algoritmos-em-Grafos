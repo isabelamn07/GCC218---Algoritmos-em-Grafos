{
 "cells": [
  {
   "cell_type": "markdown",
   "metadata": {},
   "source": [
    "### Pacote numpy\n",
    "Numpy é um o pacote que contém diversas funções matemáticas e de manipulação de matrizes multidimensionais. Para os exemplos utilizados nesse material, ilustramos algumas funções básicas que precisarão ser utilizadas."
   ]
  },
  {
   "cell_type": "markdown",
   "metadata": {},
   "source": [
    "### Instalação\n",
    "\n",
    "Existem diversas formas de instalar o pacote numpy.\n",
    "**Anaconda:**\n",
    "\n",
    "```conda install -c anaconda numpy.```\n",
    "\n",
    "**Pip:**\n",
    "\n",
    "```pip install numpy```\n",
    "\n",
    "```pip install -U numpy```\n",
    "o\n",
    "\n",
    "```python -m pip install numpy```\n",
    "\n",
    "**apt-get**: \n",
    "\n",
    "```sudo apt-get install python-numpy ```\n",
    "\n",
    "[**Link Instalação numpy**](https://scipy.org/install.html)\n",
    "         "
   ]
  },
  {
   "cell_type": "markdown",
   "metadata": {},
   "source": [
    "### Importação\n"
   ]
  },
  {
   "cell_type": "code",
   "execution_count": 1,
   "metadata": {},
   "outputs": [],
   "source": [
    "import numpy as np"
   ]
  },
  {
   "cell_type": "markdown",
   "metadata": {},
   "source": [
    "### Criação de matrizes\n",
    "Podemos criar matrizes utilizando a função array(). Nela passamos como parâmetros os elementos que vão preencher a matriz no formato de lista <b>[1, 2, 3]</b> ou tupla <b>(1, 2, 3)</b>. Cada posição do parâmetro da função representa uma linha distinta da matriz, que pode conter elementos heterogêneos, ou seja, as matrizes podem conter diferentes tipos de dados. "
   ]
  },
  {
   "cell_type": "code",
   "execution_count": 2,
   "metadata": {},
   "outputs": [
    {
     "name": "stdout",
     "output_type": "stream",
     "text": [
      " Matriz A: \n",
      " [2 3 4]\n",
      " Matriz B: \n",
      " [1.2 3.5 5.1]\n",
      " Matriz C: \n",
      " [['1.5' '2' '3']\n",
      " ['4' 'a' '6']]\n"
     ]
    }
   ],
   "source": [
    "matriz_a = np.array([2, 3, 4])\n",
    "print(\" Matriz A: \\n\", matriz_a)\n",
    "\n",
    "matriz_b = np.array([1.2, 3.5, 5.1])\n",
    "print(\" Matriz B: \\n\", matriz_b)\n",
    "\n",
    "matriz_c = np.array([(1.5, 2, 3), (4, 'a', 6)])\n",
    "print(\" Matriz C: \\n\", matriz_c)\n"
   ]
  },
  {
   "cell_type": "markdown",
   "metadata": {},
   "source": [
    "### Funções"
   ]
  },
  {
   "cell_type": "markdown",
   "metadata": {},
   "source": [
    "### arange() e reshape()\n",
    "Podemos criar matrizes e preenchê-las com números dentro de um intervalo utilizando **arange()** e definir as dimensões dessa matriz com o **reshape()**:"
   ]
  },
  {
   "cell_type": "code",
   "execution_count": 1,
   "metadata": {},
   "outputs": [
    {
     "name": "stdout",
     "output_type": "stream",
     "text": [
      " Matriz: \n",
      " [[ 0  1  2  3  4]\n",
      " [ 5  6  7  8  9]\n",
      " [10 11 12 13 14]]\n",
      " \n",
      "Número de linhas e colunas:  (3, 5)\n",
      " \n",
      "Número de dimensões(axes): 2\n",
      " \n",
      "Tipo dos elementos:  int64\n",
      " \n",
      "Número de elementos:  15\n",
      " \n",
      "Tamanho em bytes:  8\n"
     ]
    }
   ],
   "source": [
    "import numpy as np\n",
    "\n",
    "a = np.arange(15).reshape(3, 5) # A matriz sera preenchida com valores de 0 a 14, esses valores serao distribuidos entra 3 linhas e 5 colunas\n",
    "\n",
    "print(\" Matriz: \\n\", a)\n",
    "print(\" \\nNúmero de linhas e colunas: \", a.shape)\n",
    "print(\" \\nNúmero de dimensões(axes):\", a.ndim)\n",
    "print(\" \\nTipo dos elementos: \", a.dtype.name)\n",
    "print(\" \\nNúmero de elementos: \", a.size)\n",
    "print(\" \\nTamanho em bytes: \", a.itemsize)"
   ]
  },
  {
   "cell_type": "markdown",
   "metadata": {},
   "source": [
    "### zeros() e ones()\n",
    "As funções da **zeros()** e **ones()** da biblioteca numpy geram matrizes de zeros ou uns respectivamente, há como definir o tipo dos elementos e as dimensões da matriz."
   ]
  },
  {
   "cell_type": "code",
   "execution_count": 2,
   "metadata": {},
   "outputs": [
    {
     "name": "stdout",
     "output_type": "stream",
     "text": [
      "[[0. 0. 0. 0.]\n",
      " [0. 0. 0. 0.]\n",
      " [0. 0. 0. 0.]]\n",
      "[[0 0 0 0]\n",
      " [0 0 0 0]\n",
      " [0 0 0 0]\n",
      " [0 0 0 0]]\n",
      "[[1. 1.]\n",
      " [1. 1.]]\n"
     ]
    }
   ],
   "source": [
    "zeros = np.zeros( (3,4) )\n",
    "print(zeros)\n",
    "\n",
    "z_inteiros = np.zeros((4, 4), dtype=np.int16)\n",
    "print(z_inteiros)\n",
    "\n",
    "ones = np.ones( (2, 2))\n",
    "print(ones)\n"
   ]
  },
  {
   "cell_type": "markdown",
   "metadata": {},
   "source": [
    "Há como definir diversas formas de gerar intevalos de números para popular a tabela, ou até mesmo usar um gerador de números aleatórios."
   ]
  },
  {
   "cell_type": "code",
   "execution_count": 5,
   "metadata": {},
   "outputs": [
    {
     "data": {
      "text/plain": [
       "array([10, 15, 20, 25])"
      ]
     },
     "execution_count": 5,
     "metadata": {},
     "output_type": "execute_result"
    }
   ],
   "source": [
    " np.arange( 10, 30, 5 )\n",
    "    "
   ]
  },
  {
   "cell_type": "code",
   "execution_count": 6,
   "metadata": {},
   "outputs": [
    {
     "name": "stdout",
     "output_type": "stream",
     "text": [
      "[[[ 0  1  2  3]\n",
      "  [ 4  5  6  7]\n",
      "  [ 8  9 10 11]]\n",
      "\n",
      " [[12 13 14 15]\n",
      "  [16 17 18 19]\n",
      "  [20 21 22 23]]]\n"
     ]
    }
   ],
   "source": [
    "c = np.arange(24).reshape(2,3,4)\n",
    "print(c)"
   ]
  },
  {
   "cell_type": "code",
   "execution_count": 7,
   "metadata": {},
   "outputs": [
    {
     "name": "stdout",
     "output_type": "stream",
     "text": [
      "[[[ 0  1  2  3]\n",
      "  [ 4  5  6  7]\n",
      "  [ 8  9 10 11]]\n",
      "\n",
      " [[12 13 14 15]\n",
      "  [16 17 18 19]\n",
      "  [20 21 22 23]]]\n"
     ]
    }
   ],
   "source": [
    "c = np.arange(24).reshape(2,3,4)\n",
    "print(c)"
   ]
  },
  {
   "cell_type": "markdown",
   "metadata": {},
   "source": [
    "Fonte: Fonte: https://numpy.org/devdocs/user/quickstart.html"
   ]
  },
  {
   "cell_type": "code",
   "execution_count": null,
   "metadata": {},
   "outputs": [],
   "source": []
  }
 ],
 "metadata": {
  "kernelspec": {
   "display_name": "Python 3",
   "language": "python",
   "name": "python3"
  },
  "language_info": {
   "codemirror_mode": {
    "name": "ipython",
    "version": 3
   },
   "file_extension": ".py",
   "mimetype": "text/x-python",
   "name": "python",
   "nbconvert_exporter": "python",
   "pygments_lexer": "ipython3",
   "version": "3.8.5"
  }
 },
 "nbformat": 4,
 "nbformat_minor": 4
}
