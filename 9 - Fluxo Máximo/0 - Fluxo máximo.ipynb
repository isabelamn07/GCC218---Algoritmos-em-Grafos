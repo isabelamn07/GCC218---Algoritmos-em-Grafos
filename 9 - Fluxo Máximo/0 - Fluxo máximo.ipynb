{
 "cells": [
  {
   "cell_type": "markdown",
   "metadata": {},
   "source": [
    "# Fluxo Máximo"
   ]
  },
  {
   "cell_type": "markdown",
   "metadata": {},
   "source": [
    "Fluxo máximo em teoria de grafos diz repeito à quantidade máxima de fluxo que conseguimos levar de um vértice inical **s (source)** a um vértice final **t (sink)**, respeitando restrições de capacidade dos arcos e conservação de fluxo nos vértices."
   ]
  },
  {
   "cell_type": "markdown",
   "metadata": {},
   "source": [
    "### Exemplo:\n",
    "\n",
    "Um caminhão com capacidade total de 6 toneladas de carga precisa levar 5 toneladas de carga da cidade **A** à cidade **C**:\n"
   ]
  },
  {
   "cell_type": "markdown",
   "metadata": {},
   "source": [
    "<img src =\"./Imagens/exemplo_fluxo_maximo0.png\">"
   ]
  },
  {
   "cell_type": "markdown",
   "metadata": {},
   "source": [
    "Embora o caminhão tenha capacidade de 6 toneladas, temos um limite de carga nas estradas que precisamos atravessar. Para definir a capacidade máxima que pode ser transportada de **A** até **C** precisamos considerar todo o caminho a ser percorrido e encontrar o fluxo máximo.\n",
    "\n",
    "De **A** à **B** conseguimos transportar 5 toneladas de carga que temos que transportar, porém o maior valor de carga permitida de **B** até **C** é de 3 toneladas, logo temos um fluxo máximo de 3 toneladas:"
   ]
  },
  {
   "cell_type": "markdown",
   "metadata": {},
   "source": [
    "<table>\n",
    "    <tr>\n",
    "        <td><img src =\"./Imagens/exemplo_fluxo_maximo1.png\"></td>\n",
    "        <td><img src =\"./Imagens/exemplo_fluxo_maximo2.png\"></td>\n",
    "    </tr>\n",
    "</table>"
   ]
  }
 ],
 "metadata": {
  "kernelspec": {
   "display_name": "Python 3",
   "language": "python",
   "name": "python3"
  },
  "language_info": {
   "codemirror_mode": {
    "name": "ipython",
    "version": 3
   },
   "file_extension": ".py",
   "mimetype": "text/x-python",
   "name": "python",
   "nbconvert_exporter": "python",
   "pygments_lexer": "ipython3",
   "version": "3.8.5"
  }
 },
 "nbformat": 4,
 "nbformat_minor": 4
}
