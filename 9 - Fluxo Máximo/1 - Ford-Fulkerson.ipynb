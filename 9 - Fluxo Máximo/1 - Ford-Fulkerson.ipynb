{
 "cells": [
  {
   "cell_type": "markdown",
   "metadata": {},
   "source": [
    "# Algoritmo Ford-Fulkerson"
   ]
  },
  {
   "cell_type": "markdown",
   "metadata": {},
   "source": [
    "O algoritmo de Ford-Fulkerson, encontra o fluxo máximo em um grafo direcionado valorado. \n",
    "\n",
    "### Exemplo:\n",
    "Dado um grafo  $G=(V,E)$, para encontrar o fluxo máximo precisamos ter um vértice inicial *s* **(source)** e um vértice terminal *t* **(sink)**.\n",
    "\n",
    "![Exemplo CLRS Ford Fulkerson](./Imagens/ford-fulkerson.png)\n"
   ]
  },
  {
   "cell_type": "markdown",
   "metadata": {},
   "source": [
    "1. Inicie o fluxo com o valor 0."
   ]
  },
  {
   "cell_type": "markdown",
   "metadata": {},
   "source": [
    "2. Encontre um caminho aumentante. \n",
    "    1. Caminho aumentante: 0-1-3-5."
   ]
  },
  {
   "cell_type": "markdown",
   "metadata": {},
   "source": [
    "<img src=\"./Imagens/caminho-aumentante.png\" style=\"width:50%; margin-left:auto; margin-right:auto\">"
   ]
  },
  {
   "cell_type": "markdown",
   "metadata": {},
   "source": [
    "3. Encontre a capacide de fluxo(cf) do caminho definido, a capacidade de fluxo é correspondente à aresta de menor peso do caminho.\n",
    "    1. cf = min{cf(u,v): (u, v) em p}\n",
    "    2. A menor capacide de fluxo no caminho *p* é igual a 12."
   ]
  },
  {
   "cell_type": "markdown",
   "metadata": {},
   "source": [
    "<table>\n",
    "    <tr>\n",
    "        <td style=\"text-align:center;\">Grafo residual</td>\n",
    "        <td style=\"text-align:center;\">Grafo com o fluxo máximo do caminho aumentante definido.</td>\n",
    "    </tr>\n",
    "    <tr>\n",
    "        <td><img src=\"./Imagens/ford-fulkerson1.png\"></td>\n",
    "        <td><img src=\"./Imagens/ford-fulkerson2.png\"></td>\n",
    "    </tr>    \n",
    "</table>"
   ]
  },
  {
   "cell_type": "markdown",
   "metadata": {},
   "source": [
    "4. Enquando existir caminho aumentante no grafo, continue a execução do loop a partir de passo 3."
   ]
  },
  {
   "cell_type": "markdown",
   "metadata": {},
   "source": [
    "### Pseudocódigo"
   ]
  },
  {
   "cell_type": "markdown",
   "metadata": {},
   "source": [
    "<pre>\n",
    "FORD-FULKERSON-METHOD(G, s)\n",
    "1 inicialize o valor do fluxo f com 0\n",
    "2 enquando existir um caminho aumentante p no grafo residual Gf\n",
    "3    aumente o fluxo f através de p\n",
    "4 retorne f\n",
    "\n",
    "\n",
    "Ford-Fulkerson(G,s,t)\n",
    "1 for each edge (u,v) in G.E\n",
    "2   (u,v).f = 0\n",
    "3 enquando existir um caminho aumentante p no grafo residual Gf \n",
    "4   cf = min{cf(u,v): (u, v) is in p}\n",
    "5   for each edge (u,v) em p \n",
    "6       if (u, v).f = (u, v).f + cf(p)\n",
    "7           (v, u).f = (v, u).f - cf(p)\n",
    "\n",
    "p - path(caminho)\n",
    "cf - capacidade de fluxo\n",
    "Gf - grafo residual\n",
    "f - flow(fluxo)\n",
    "</pre>\n"
   ]
  },
  {
   "cell_type": "markdown",
   "metadata": {},
   "source": [
    "# Código "
   ]
  },
  {
   "cell_type": "code",
   "execution_count": 2,
   "metadata": {},
   "outputs": [
    {
     "name": "stdout",
     "output_type": "stream",
     "text": [
      "{0: {1: 16, 2: 13}, 1: {3: 12}, 2: {1: 4, 4: 14}, 3: {2: 9, 5: 20}, 4: {3: 7, 5: 4}, 5: {}}\n",
      "visitado [0, 1, 2, 3, 4, 5]\n",
      "predecessor {0: 0, 1: 0, 2: 0, 3: 1, 4: 2, 5: 3}\n",
      "caminho [0, 1, 3, 5]\n",
      "[16]\n",
      "[16, 12]\n",
      "[16, 12, 20]\n",
      "cf 12\n",
      "grafo residual {0: {1: 4, 2: 13}, 1: {3: 0}, 2: {1: 4, 4: 14}, 3: {2: 9, 5: 8}, 4: {3: 7, 5: 4}, 5: {}}\n",
      "visitado [0, 1, 2, 4, 3, 5]\n",
      "predecessor {0: 0, 1: 0, 2: 0, 4: 2, 3: 4, 5: 4}\n",
      "caminho [0, 2, 4, 5]\n",
      "[13]\n",
      "[13, 14]\n",
      "[13, 14, 4]\n",
      "cf 4\n",
      "grafo residual {0: {1: 4, 2: 9}, 1: {3: 0}, 2: {1: 4, 4: 10}, 3: {2: 9, 5: 8}, 4: {3: 7, 5: 0}, 5: {}}\n",
      "visitado [0, 1, 2, 4, 3, 5]\n",
      "predecessor {0: 0, 1: 0, 2: 0, 4: 2, 3: 4, 5: 3}\n",
      "caminho [0, 2, 4, 3, 5]\n",
      "[9]\n",
      "[9, 10]\n",
      "[9, 10, 7]\n",
      "[9, 10, 7, 8]\n",
      "cf 7\n",
      "grafo residual {0: {1: 4, 2: 2}, 1: {3: 0}, 2: {1: 4, 4: 3}, 3: {2: 9, 5: 1}, 4: {3: 0, 5: 0}, 5: {}}\n",
      "visitado [0, 1, 2, 4]\n",
      "predecessor {0: 0, 1: 0, 2: 0, 4: 2}\n",
      "caminho []\n",
      "flow 23\n",
      "visitado [0, 1, 2, 4]\n",
      "predecessor {0: 0, 1: 0, 2: 0, 4: 2}\n",
      "caminho []\n",
      "flow 0\n"
     ]
    },
    {
     "data": {
      "image/png": "[encoded data removed]",
      "text/plain": [
       "<Figure size 432x288 with 1 Axes>"
      ]
     },
     "metadata": {},
     "output_type": "display_data"
    }
   ],
   "source": [
    "'''\n",
    "FORD-FULKERSON-METHOD.G; s; t/\n",
    "1 initialize flow f to 0\n",
    "2 while there exists an augmenting path p in the residual network Gf\n",
    "3    augment flow f along p\n",
    "4 return f\n",
    "\n",
    "Ford-Fulkerson(G,s,t)\n",
    "1 for each edge (u,v) in G.E\n",
    "2   (u,v).f = 0\n",
    "3 while there exists a path p from s to t in residualnetwork Gf \n",
    "4   cf = min{cf(u,v): (u, v) is in p}\n",
    "5   for each edge (u,v) in p \n",
    "6       if (u, v).f = (u, v).f + cf(p)\n",
    "7           (v, u).f = (v, u).f - cf(p)\n",
    "8 \n",
    "\n",
    "\n",
    "'''\n",
    "import copy\n",
    "\n",
    "\n",
    "grafo = { 0: {1: 16, 2: 13},\n",
    "          1: {3: 12},\n",
    "          2: {1: 4, 4: 14},\n",
    "          3: {2: 9, 5: 20},\n",
    "          4: {3: 7, 5: 4},\n",
    "          5: {}}\n",
    "\n",
    "source = 0\n",
    "sink = 5\n",
    "grafo_residual = {}\n",
    "caminho = []\n",
    "\n",
    "grafo_residual = copy.deepcopy(grafo)\n",
    "print(grafo_residual)\n",
    "\n",
    "def ford_fulkerson(G, s, t):\n",
    "    flow = 0\n",
    "\n",
    "    while caminho_aumentante():\n",
    "        if caminho:\n",
    "            menor = []\n",
    "            for i in range(len(caminho)-1):\n",
    "                menor.append(grafo_residual[caminho[i]][caminho[i+1]])\n",
    "                print(menor)\n",
    "            cf = min(menor)\n",
    "            print('cf', cf)\n",
    "            flow += cf\n",
    "            for i in range(len(caminho)-1):\n",
    "                grafo_residual[caminho[i]][caminho[i+1]] -= cf\n",
    "        print(\"grafo residual\", grafo_residual)\n",
    "    print(\"flow\", flow)\n",
    "\n",
    "def caminho_aumentante():\n",
    "    visitado = [source]    \n",
    "    predecessor = {source: 0}\n",
    "    caminho.clear()\n",
    "\n",
    "    \n",
    "    list(grafo.keys())\n",
    " \n",
    "    Q = []\n",
    "    Q.append(source)\n",
    "    s = sink\n",
    "    while Q:\n",
    "        u = Q.pop(0)\n",
    "        for v in grafo_residual[u]:\n",
    "            if (v not in visitado) and (grafo_residual[u][v] > 0):\n",
    "                visitado.append(v)\n",
    "                predecessor[v] = u\n",
    "                Q.append(v)\n",
    "    \n",
    "    print(\"visitado\", visitado)\n",
    "    print(\"predecessor\", predecessor)\n",
    "    if sink in predecessor:         \n",
    "        for x in range(len(predecessor)):\n",
    "            if s not in caminho:\n",
    "                caminho.insert(0, s)\n",
    "                s = predecessor[s]\n",
    "               \n",
    "    \n",
    "    \n",
    "    print(\"caminho\", caminho)\n",
    "    if sink in caminho:\n",
    "        return True\n",
    "    else:\n",
    "        return False    \n",
    "\n",
    "\n",
    "ford_fulkerson(grafo, source, sink)\n",
    "\n",
    "\n",
    "\n",
    "\n",
    "ford_fulkerson(grafo, source, sink)\n",
    "# Desenhando o grafo com networkx e matplotlib\n",
    "import networkx as nx\n",
    "import matplotlib.pyplot as plt\n",
    "\n",
    "G = nx.DiGraph(grafo)\n",
    "\n",
    "plt.figure()\n",
    "nx.draw(G, with_labels=True, font_weight='bold', node_size=700, font_size=18, width=5.5, font_color='w')\n",
    "plt.show()\n",
    "\n",
    "\n"
   ]
  },
  {
   "cell_type": "markdown",
   "metadata": {},
   "source": [
    "### Fonte:\n",
    "Cormen, Thomas H.; Leiserson, Charles E.; Rivest, Ronald L.; Stein, Clifford (2009) [1990]. _Introduction to Algorithms_ (3rd ed.). "
   ]
  },
  {
   "cell_type": "code",
   "execution_count": null,
   "metadata": {},
   "outputs": [],
   "source": []
  }
 ],
 "metadata": {
  "kernelspec": {
   "display_name": "Python 3",
   "language": "python",
   "name": "python3"
  },
  "language_info": {
   "codemirror_mode": {
    "name": "ipython",
    "version": 3
   },
   "file_extension": ".py",
   "mimetype": "text/x-python",
   "name": "python",
   "nbconvert_exporter": "python",
   "pygments_lexer": "ipython3",
   "version": "3.8.5"
  }
 },
 "nbformat": 4,
 "nbformat_minor": 4
}
